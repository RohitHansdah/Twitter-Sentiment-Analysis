{
  "nbformat": 4,
  "nbformat_minor": 0,
  "metadata": {
    "colab": {
      "name": "Data cleaning.ipynb",
      "provenance": []
    },
    "kernelspec": {
      "name": "python3",
      "display_name": "Python 3"
    }
  },
  "cells": [
    {
      "cell_type": "code",
      "metadata": {
        "colab": {
          "base_uri": "https://localhost:8080/"
        },
        "id": "BFJiJjNS0cKm",
        "outputId": "512146a7-e6a3-40a1-a2a6-f81c752317b0"
      },
      "source": [
        "pip install pandas-profiling"
      ],
      "execution_count": 136,
      "outputs": [
        {
          "output_type": "stream",
          "text": [
            "Requirement already satisfied: pandas-profiling in /usr/local/lib/python3.6/dist-packages (1.4.1)\n",
            "Requirement already satisfied: matplotlib>=1.4 in /usr/local/lib/python3.6/dist-packages (from pandas-profiling) (3.2.2)\n",
            "Requirement already satisfied: six>=1.9 in /usr/local/lib/python3.6/dist-packages (from pandas-profiling) (1.15.0)\n",
            "Requirement already satisfied: pandas>=0.19 in /usr/local/lib/python3.6/dist-packages (from pandas-profiling) (1.1.5)\n",
            "Requirement already satisfied: jinja2>=2.8 in /usr/local/lib/python3.6/dist-packages (from pandas-profiling) (2.11.2)\n",
            "Requirement already satisfied: cycler>=0.10 in /usr/local/lib/python3.6/dist-packages (from matplotlib>=1.4->pandas-profiling) (0.10.0)\n",
            "Requirement already satisfied: python-dateutil>=2.1 in /usr/local/lib/python3.6/dist-packages (from matplotlib>=1.4->pandas-profiling) (2.8.1)\n",
            "Requirement already satisfied: numpy>=1.11 in /usr/local/lib/python3.6/dist-packages (from matplotlib>=1.4->pandas-profiling) (1.19.5)\n",
            "Requirement already satisfied: kiwisolver>=1.0.1 in /usr/local/lib/python3.6/dist-packages (from matplotlib>=1.4->pandas-profiling) (1.3.1)\n",
            "Requirement already satisfied: pyparsing!=2.0.4,!=2.1.2,!=2.1.6,>=2.0.1 in /usr/local/lib/python3.6/dist-packages (from matplotlib>=1.4->pandas-profiling) (2.4.7)\n",
            "Requirement already satisfied: pytz>=2017.2 in /usr/local/lib/python3.6/dist-packages (from pandas>=0.19->pandas-profiling) (2018.9)\n",
            "Requirement already satisfied: MarkupSafe>=0.23 in /usr/local/lib/python3.6/dist-packages (from jinja2>=2.8->pandas-profiling) (1.1.1)\n"
          ],
          "name": "stdout"
        }
      ]
    },
    {
      "cell_type": "code",
      "metadata": {
        "id": "cP0xAW_Y0hhb"
      },
      "source": [
        "#Here I have removed all greek characters, @,numbers.\r\n",
        "#Also I have removed 'hmm' word and it's variants\r\n",
        "#Creating a dictionary to map words such as luv to love, wud to would.Need more suggestions on this.nyc:nice\r\n",
        "#Removed stop words\r\n",
        "#Performed lemmatization"
      ],
      "execution_count": 137,
      "outputs": []
    },
    {
      "cell_type": "code",
      "metadata": {
        "colab": {
          "base_uri": "https://localhost:8080/"
        },
        "id": "zymYxaCRXNjm",
        "outputId": "f77f3ecb-dd14-49f3-dba3-827773e5f645"
      },
      "source": [
        "pip install Unidecode==0.04.1"
      ],
      "execution_count": 138,
      "outputs": [
        {
          "output_type": "stream",
          "text": [
            "Requirement already satisfied: Unidecode==0.04.1 in /usr/local/lib/python3.6/dist-packages (0.4.1)\n"
          ],
          "name": "stdout"
        }
      ]
    },
    {
      "cell_type": "code",
      "metadata": {
        "colab": {
          "base_uri": "https://localhost:8080/"
        },
        "id": "T2F3GJtQ0hk5",
        "outputId": "48048d6b-5692-4086-e8f1-814cdc76639a"
      },
      "source": [
        "import pandas_profiling\r\n",
        "import nltk\r\n",
        "import numpy as np\r\n",
        "import pandas as pd\r\n",
        "import re\r\n",
        "import matplotlib.pyplot as plt \r\n",
        "import seaborn as sb\r\n",
        "from nltk.corpus import stopwords\r\n",
        "import warnings \r\n",
        "warnings.filterwarnings(\"ignore\")\r\n",
        "from unidecode import unidecode\r\n",
        "from wordcloud import WordCloud\r\n",
        "from nltk.stem import WordNetLemmatizer \r\n",
        "nltk.download('wordnet')\r\n",
        "from nltk.stem import PorterStemmer\r\n",
        "nltk.download('punkt')\r\n",
        "from nltk.tokenize import word_tokenize \r\n",
        "import matplotlib.animation as animation\r\n",
        "import operator\r\n",
        "import plotly.express as px\r\n",
        "from collections import Counter\r\n",
        "%matplotlib inline"
      ],
      "execution_count": 139,
      "outputs": [
        {
          "output_type": "stream",
          "text": [
            "[nltk_data] Downloading package wordnet to /root/nltk_data...\n",
            "[nltk_data]   Package wordnet is already up-to-date!\n",
            "[nltk_data] Downloading package punkt to /root/nltk_data...\n",
            "[nltk_data]   Package punkt is already up-to-date!\n"
          ],
          "name": "stdout"
        }
      ]
    },
    {
      "cell_type": "code",
      "metadata": {
        "id": "rx_jXUmg0hnu"
      },
      "source": [
        "df = pd.read_csv('train_E6oV3lV.csv')"
      ],
      "execution_count": 140,
      "outputs": []
    },
    {
      "cell_type": "code",
      "metadata": {
        "colab": {
          "base_uri": "https://localhost:8080/",
          "height": 198
        },
        "id": "QQSLQ-a80hqn",
        "outputId": "f62d5e01-7f9e-472a-b2b5-26eb9f08de55"
      },
      "source": [
        "df.head()"
      ],
      "execution_count": 141,
      "outputs": [
        {
          "output_type": "execute_result",
          "data": {
            "text/html": [
              "<div>\n",
              "<style scoped>\n",
              "    .dataframe tbody tr th:only-of-type {\n",
              "        vertical-align: middle;\n",
              "    }\n",
              "\n",
              "    .dataframe tbody tr th {\n",
              "        vertical-align: top;\n",
              "    }\n",
              "\n",
              "    .dataframe thead th {\n",
              "        text-align: right;\n",
              "    }\n",
              "</style>\n",
              "<table border=\"1\" class=\"dataframe\">\n",
              "  <thead>\n",
              "    <tr style=\"text-align: right;\">\n",
              "      <th></th>\n",
              "      <th>id</th>\n",
              "      <th>label</th>\n",
              "      <th>tweet</th>\n",
              "    </tr>\n",
              "  </thead>\n",
              "  <tbody>\n",
              "    <tr>\n",
              "      <th>0</th>\n",
              "      <td>1</td>\n",
              "      <td>0</td>\n",
              "      <td>@user when a father is dysfunctional and is s...</td>\n",
              "    </tr>\n",
              "    <tr>\n",
              "      <th>1</th>\n",
              "      <td>2</td>\n",
              "      <td>0</td>\n",
              "      <td>@user @user thanks for #lyft credit i can't us...</td>\n",
              "    </tr>\n",
              "    <tr>\n",
              "      <th>2</th>\n",
              "      <td>3</td>\n",
              "      <td>0</td>\n",
              "      <td>bihday your majesty</td>\n",
              "    </tr>\n",
              "    <tr>\n",
              "      <th>3</th>\n",
              "      <td>4</td>\n",
              "      <td>0</td>\n",
              "      <td>#model   i love u take with u all the time in ...</td>\n",
              "    </tr>\n",
              "    <tr>\n",
              "      <th>4</th>\n",
              "      <td>5</td>\n",
              "      <td>0</td>\n",
              "      <td>factsguide: society now    #motivation</td>\n",
              "    </tr>\n",
              "  </tbody>\n",
              "</table>\n",
              "</div>"
            ],
            "text/plain": [
              "   id  label                                              tweet\n",
              "0   1      0   @user when a father is dysfunctional and is s...\n",
              "1   2      0  @user @user thanks for #lyft credit i can't us...\n",
              "2   3      0                                bihday your majesty\n",
              "3   4      0  #model   i love u take with u all the time in ...\n",
              "4   5      0             factsguide: society now    #motivation"
            ]
          },
          "metadata": {
            "tags": []
          },
          "execution_count": 141
        }
      ]
    },
    {
      "cell_type": "code",
      "metadata": {
        "id": "jMfbe7xN0htb"
      },
      "source": [
        "#pandas_profiling.ProfileReport(df)"
      ],
      "execution_count": 142,
      "outputs": []
    },
    {
      "cell_type": "code",
      "metadata": {
        "colab": {
          "base_uri": "https://localhost:8080/",
          "height": 198
        },
        "id": "xP-rrpZG0hwE",
        "outputId": "1eece36a-f062-4b83-e7ae-c8c8f6486d58"
      },
      "source": [
        "df.head()"
      ],
      "execution_count": 143,
      "outputs": [
        {
          "output_type": "execute_result",
          "data": {
            "text/html": [
              "<div>\n",
              "<style scoped>\n",
              "    .dataframe tbody tr th:only-of-type {\n",
              "        vertical-align: middle;\n",
              "    }\n",
              "\n",
              "    .dataframe tbody tr th {\n",
              "        vertical-align: top;\n",
              "    }\n",
              "\n",
              "    .dataframe thead th {\n",
              "        text-align: right;\n",
              "    }\n",
              "</style>\n",
              "<table border=\"1\" class=\"dataframe\">\n",
              "  <thead>\n",
              "    <tr style=\"text-align: right;\">\n",
              "      <th></th>\n",
              "      <th>id</th>\n",
              "      <th>label</th>\n",
              "      <th>tweet</th>\n",
              "    </tr>\n",
              "  </thead>\n",
              "  <tbody>\n",
              "    <tr>\n",
              "      <th>0</th>\n",
              "      <td>1</td>\n",
              "      <td>0</td>\n",
              "      <td>@user when a father is dysfunctional and is s...</td>\n",
              "    </tr>\n",
              "    <tr>\n",
              "      <th>1</th>\n",
              "      <td>2</td>\n",
              "      <td>0</td>\n",
              "      <td>@user @user thanks for #lyft credit i can't us...</td>\n",
              "    </tr>\n",
              "    <tr>\n",
              "      <th>2</th>\n",
              "      <td>3</td>\n",
              "      <td>0</td>\n",
              "      <td>bihday your majesty</td>\n",
              "    </tr>\n",
              "    <tr>\n",
              "      <th>3</th>\n",
              "      <td>4</td>\n",
              "      <td>0</td>\n",
              "      <td>#model   i love u take with u all the time in ...</td>\n",
              "    </tr>\n",
              "    <tr>\n",
              "      <th>4</th>\n",
              "      <td>5</td>\n",
              "      <td>0</td>\n",
              "      <td>factsguide: society now    #motivation</td>\n",
              "    </tr>\n",
              "  </tbody>\n",
              "</table>\n",
              "</div>"
            ],
            "text/plain": [
              "   id  label                                              tweet\n",
              "0   1      0   @user when a father is dysfunctional and is s...\n",
              "1   2      0  @user @user thanks for #lyft credit i can't us...\n",
              "2   3      0                                bihday your majesty\n",
              "3   4      0  #model   i love u take with u all the time in ...\n",
              "4   5      0             factsguide: society now    #motivation"
            ]
          },
          "metadata": {
            "tags": []
          },
          "execution_count": 143
        }
      ]
    },
    {
      "cell_type": "code",
      "metadata": {
        "colab": {
          "base_uri": "https://localhost:8080/"
        },
        "id": "RSAgp8bW0hy2",
        "outputId": "c5419f60-1fb5-4881-e6ac-457b81f05ff4"
      },
      "source": [
        "df.shape"
      ],
      "execution_count": 144,
      "outputs": [
        {
          "output_type": "execute_result",
          "data": {
            "text/plain": [
              "(31962, 3)"
            ]
          },
          "metadata": {
            "tags": []
          },
          "execution_count": 144
        }
      ]
    },
    {
      "cell_type": "code",
      "metadata": {
        "id": "BfkAn9DF0h1c"
      },
      "source": [
        "df.drop_duplicates(inplace = True)"
      ],
      "execution_count": 145,
      "outputs": []
    },
    {
      "cell_type": "code",
      "metadata": {
        "colab": {
          "base_uri": "https://localhost:8080/"
        },
        "id": "-J8nEUys0h4Q",
        "outputId": "63f84e69-1b2f-4ea7-c150-2949eb8a9b84"
      },
      "source": [
        "df.shape"
      ],
      "execution_count": 146,
      "outputs": [
        {
          "output_type": "execute_result",
          "data": {
            "text/plain": [
              "(31962, 3)"
            ]
          },
          "metadata": {
            "tags": []
          },
          "execution_count": 146
        }
      ]
    },
    {
      "cell_type": "code",
      "metadata": {
        "colab": {
          "base_uri": "https://localhost:8080/"
        },
        "id": "zh9-fo7u0h62",
        "outputId": "e71e7608-260c-4d30-9f7f-91a31c899daa"
      },
      "source": [
        "df['tweet'].isna().sum()"
      ],
      "execution_count": 147,
      "outputs": [
        {
          "output_type": "execute_result",
          "data": {
            "text/plain": [
              "0"
            ]
          },
          "metadata": {
            "tags": []
          },
          "execution_count": 147
        }
      ]
    },
    {
      "cell_type": "code",
      "metadata": {
        "colab": {
          "base_uri": "https://localhost:8080/"
        },
        "id": "nv2QFpPA0h9m",
        "outputId": "1d1ca7be-bdd9-409c-d79e-80e41555c149"
      },
      "source": [
        "df['label'].isna().sum()"
      ],
      "execution_count": 148,
      "outputs": [
        {
          "output_type": "execute_result",
          "data": {
            "text/plain": [
              "0"
            ]
          },
          "metadata": {
            "tags": []
          },
          "execution_count": 148
        }
      ]
    },
    {
      "cell_type": "code",
      "metadata": {
        "id": "9zcC9lXS0h_7"
      },
      "source": [
        "#Data doesn't contain duplicate values neither does it contain missing values"
      ],
      "execution_count": 149,
      "outputs": []
    },
    {
      "cell_type": "code",
      "metadata": {
        "colab": {
          "base_uri": "https://localhost:8080/"
        },
        "id": "AT4IGz-x0iCh",
        "outputId": "b557db5a-51a2-4466-b65c-20057ad4fbb0"
      },
      "source": [
        "df.shape"
      ],
      "execution_count": 150,
      "outputs": [
        {
          "output_type": "execute_result",
          "data": {
            "text/plain": [
              "(31962, 3)"
            ]
          },
          "metadata": {
            "tags": []
          },
          "execution_count": 150
        }
      ]
    },
    {
      "cell_type": "code",
      "metadata": {
        "id": "yMzYWQIW0iFS"
      },
      "source": [
        "#Code to remove @\r\n",
        "df['clean_tweet'] = df['tweet'].apply(lambda x : ' '.join([tweet for tweet in x.split()if not tweet.startswith(\"@\")]))"
      ],
      "execution_count": 151,
      "outputs": []
    },
    {
      "cell_type": "code",
      "metadata": {
        "colab": {
          "base_uri": "https://localhost:8080/",
          "height": 198
        },
        "id": "gTOTvsV40iHs",
        "outputId": "04051dfb-eb31-4f73-d83c-0f21fd271921"
      },
      "source": [
        "df.head()"
      ],
      "execution_count": 152,
      "outputs": [
        {
          "output_type": "execute_result",
          "data": {
            "text/html": [
              "<div>\n",
              "<style scoped>\n",
              "    .dataframe tbody tr th:only-of-type {\n",
              "        vertical-align: middle;\n",
              "    }\n",
              "\n",
              "    .dataframe tbody tr th {\n",
              "        vertical-align: top;\n",
              "    }\n",
              "\n",
              "    .dataframe thead th {\n",
              "        text-align: right;\n",
              "    }\n",
              "</style>\n",
              "<table border=\"1\" class=\"dataframe\">\n",
              "  <thead>\n",
              "    <tr style=\"text-align: right;\">\n",
              "      <th></th>\n",
              "      <th>id</th>\n",
              "      <th>label</th>\n",
              "      <th>tweet</th>\n",
              "      <th>clean_tweet</th>\n",
              "    </tr>\n",
              "  </thead>\n",
              "  <tbody>\n",
              "    <tr>\n",
              "      <th>0</th>\n",
              "      <td>1</td>\n",
              "      <td>0</td>\n",
              "      <td>@user when a father is dysfunctional and is s...</td>\n",
              "      <td>when a father is dysfunctional and is so selfi...</td>\n",
              "    </tr>\n",
              "    <tr>\n",
              "      <th>1</th>\n",
              "      <td>2</td>\n",
              "      <td>0</td>\n",
              "      <td>@user @user thanks for #lyft credit i can't us...</td>\n",
              "      <td>thanks for #lyft credit i can't use cause they...</td>\n",
              "    </tr>\n",
              "    <tr>\n",
              "      <th>2</th>\n",
              "      <td>3</td>\n",
              "      <td>0</td>\n",
              "      <td>bihday your majesty</td>\n",
              "      <td>bihday your majesty</td>\n",
              "    </tr>\n",
              "    <tr>\n",
              "      <th>3</th>\n",
              "      <td>4</td>\n",
              "      <td>0</td>\n",
              "      <td>#model   i love u take with u all the time in ...</td>\n",
              "      <td>#model i love u take with u all the time in ur...</td>\n",
              "    </tr>\n",
              "    <tr>\n",
              "      <th>4</th>\n",
              "      <td>5</td>\n",
              "      <td>0</td>\n",
              "      <td>factsguide: society now    #motivation</td>\n",
              "      <td>factsguide: society now #motivation</td>\n",
              "    </tr>\n",
              "  </tbody>\n",
              "</table>\n",
              "</div>"
            ],
            "text/plain": [
              "   id  ...                                        clean_tweet\n",
              "0   1  ...  when a father is dysfunctional and is so selfi...\n",
              "1   2  ...  thanks for #lyft credit i can't use cause they...\n",
              "2   3  ...                                bihday your majesty\n",
              "3   4  ...  #model i love u take with u all the time in ur...\n",
              "4   5  ...                factsguide: society now #motivation\n",
              "\n",
              "[5 rows x 4 columns]"
            ]
          },
          "metadata": {
            "tags": []
          },
          "execution_count": 152
        }
      ]
    },
    {
      "cell_type": "code",
      "metadata": {
        "id": "qZDvnhrb0iKW"
      },
      "source": [
        "#Removing numbers\r\n",
        "df['clean_tweet'] = df['clean_tweet'].apply(lambda x : ' '.join([tweet for tweet in x.split() if not tweet == '\\d*']))"
      ],
      "execution_count": 153,
      "outputs": []
    },
    {
      "cell_type": "code",
      "metadata": {
        "colab": {
          "base_uri": "https://localhost:8080/",
          "height": 198
        },
        "id": "gY-M_Vo50iMu",
        "outputId": "8995ddc8-8d35-43f4-b4b2-cfb0f0320555"
      },
      "source": [
        "df.head()"
      ],
      "execution_count": 154,
      "outputs": [
        {
          "output_type": "execute_result",
          "data": {
            "text/html": [
              "<div>\n",
              "<style scoped>\n",
              "    .dataframe tbody tr th:only-of-type {\n",
              "        vertical-align: middle;\n",
              "    }\n",
              "\n",
              "    .dataframe tbody tr th {\n",
              "        vertical-align: top;\n",
              "    }\n",
              "\n",
              "    .dataframe thead th {\n",
              "        text-align: right;\n",
              "    }\n",
              "</style>\n",
              "<table border=\"1\" class=\"dataframe\">\n",
              "  <thead>\n",
              "    <tr style=\"text-align: right;\">\n",
              "      <th></th>\n",
              "      <th>id</th>\n",
              "      <th>label</th>\n",
              "      <th>tweet</th>\n",
              "      <th>clean_tweet</th>\n",
              "    </tr>\n",
              "  </thead>\n",
              "  <tbody>\n",
              "    <tr>\n",
              "      <th>0</th>\n",
              "      <td>1</td>\n",
              "      <td>0</td>\n",
              "      <td>@user when a father is dysfunctional and is s...</td>\n",
              "      <td>when a father is dysfunctional and is so selfi...</td>\n",
              "    </tr>\n",
              "    <tr>\n",
              "      <th>1</th>\n",
              "      <td>2</td>\n",
              "      <td>0</td>\n",
              "      <td>@user @user thanks for #lyft credit i can't us...</td>\n",
              "      <td>thanks for #lyft credit i can't use cause they...</td>\n",
              "    </tr>\n",
              "    <tr>\n",
              "      <th>2</th>\n",
              "      <td>3</td>\n",
              "      <td>0</td>\n",
              "      <td>bihday your majesty</td>\n",
              "      <td>bihday your majesty</td>\n",
              "    </tr>\n",
              "    <tr>\n",
              "      <th>3</th>\n",
              "      <td>4</td>\n",
              "      <td>0</td>\n",
              "      <td>#model   i love u take with u all the time in ...</td>\n",
              "      <td>#model i love u take with u all the time in ur...</td>\n",
              "    </tr>\n",
              "    <tr>\n",
              "      <th>4</th>\n",
              "      <td>5</td>\n",
              "      <td>0</td>\n",
              "      <td>factsguide: society now    #motivation</td>\n",
              "      <td>factsguide: society now #motivation</td>\n",
              "    </tr>\n",
              "  </tbody>\n",
              "</table>\n",
              "</div>"
            ],
            "text/plain": [
              "   id  ...                                        clean_tweet\n",
              "0   1  ...  when a father is dysfunctional and is so selfi...\n",
              "1   2  ...  thanks for #lyft credit i can't use cause they...\n",
              "2   3  ...                                bihday your majesty\n",
              "3   4  ...  #model i love u take with u all the time in ur...\n",
              "4   5  ...                factsguide: society now #motivation\n",
              "\n",
              "[5 rows x 4 columns]"
            ]
          },
          "metadata": {
            "tags": []
          },
          "execution_count": 154
        }
      ]
    },
    {
      "cell_type": "code",
      "metadata": {
        "colab": {
          "base_uri": "https://localhost:8080/"
        },
        "id": "FceL1QJj0iPL",
        "outputId": "f2434214-ee9c-4905-cd03-4a72cf97e6be"
      },
      "source": [
        "pip install unidecode"
      ],
      "execution_count": 155,
      "outputs": [
        {
          "output_type": "stream",
          "text": [
            "Requirement already satisfied: unidecode in /usr/local/lib/python3.6/dist-packages (0.4.1)\n"
          ],
          "name": "stdout"
        }
      ]
    },
    {
      "cell_type": "code",
      "metadata": {
        "id": "f9MElHqX1ig6"
      },
      "source": [
        "#Removing all the greek characters using unidecode library\r\n",
        "#df['clean_tweet'] = df['clean_tweet'].apply(lambda x : ' '.join([unidecode.unidecode(word) for word in x.split()]))"
      ],
      "execution_count": 156,
      "outputs": []
    },
    {
      "cell_type": "code",
      "metadata": {
        "colab": {
          "base_uri": "https://localhost:8080/",
          "height": 348
        },
        "id": "9kyq-u9c1ijv",
        "outputId": "ae4956b2-bbc2-41f9-8d1c-6e36171cc037"
      },
      "source": [
        "df.head(10)"
      ],
      "execution_count": 157,
      "outputs": [
        {
          "output_type": "execute_result",
          "data": {
            "text/html": [
              "<div>\n",
              "<style scoped>\n",
              "    .dataframe tbody tr th:only-of-type {\n",
              "        vertical-align: middle;\n",
              "    }\n",
              "\n",
              "    .dataframe tbody tr th {\n",
              "        vertical-align: top;\n",
              "    }\n",
              "\n",
              "    .dataframe thead th {\n",
              "        text-align: right;\n",
              "    }\n",
              "</style>\n",
              "<table border=\"1\" class=\"dataframe\">\n",
              "  <thead>\n",
              "    <tr style=\"text-align: right;\">\n",
              "      <th></th>\n",
              "      <th>id</th>\n",
              "      <th>label</th>\n",
              "      <th>tweet</th>\n",
              "      <th>clean_tweet</th>\n",
              "    </tr>\n",
              "  </thead>\n",
              "  <tbody>\n",
              "    <tr>\n",
              "      <th>0</th>\n",
              "      <td>1</td>\n",
              "      <td>0</td>\n",
              "      <td>@user when a father is dysfunctional and is s...</td>\n",
              "      <td>when a father is dysfunctional and is so selfi...</td>\n",
              "    </tr>\n",
              "    <tr>\n",
              "      <th>1</th>\n",
              "      <td>2</td>\n",
              "      <td>0</td>\n",
              "      <td>@user @user thanks for #lyft credit i can't us...</td>\n",
              "      <td>thanks for #lyft credit i can't use cause they...</td>\n",
              "    </tr>\n",
              "    <tr>\n",
              "      <th>2</th>\n",
              "      <td>3</td>\n",
              "      <td>0</td>\n",
              "      <td>bihday your majesty</td>\n",
              "      <td>bihday your majesty</td>\n",
              "    </tr>\n",
              "    <tr>\n",
              "      <th>3</th>\n",
              "      <td>4</td>\n",
              "      <td>0</td>\n",
              "      <td>#model   i love u take with u all the time in ...</td>\n",
              "      <td>#model i love u take with u all the time in ur...</td>\n",
              "    </tr>\n",
              "    <tr>\n",
              "      <th>4</th>\n",
              "      <td>5</td>\n",
              "      <td>0</td>\n",
              "      <td>factsguide: society now    #motivation</td>\n",
              "      <td>factsguide: society now #motivation</td>\n",
              "    </tr>\n",
              "    <tr>\n",
              "      <th>5</th>\n",
              "      <td>6</td>\n",
              "      <td>0</td>\n",
              "      <td>[2/2] huge fan fare and big talking before the...</td>\n",
              "      <td>[2/2] huge fan fare and big talking before the...</td>\n",
              "    </tr>\n",
              "    <tr>\n",
              "      <th>6</th>\n",
              "      <td>7</td>\n",
              "      <td>0</td>\n",
              "      <td>@user camping tomorrow @user @user @user @use...</td>\n",
              "      <td>camping tomorrow dannyâ¦</td>\n",
              "    </tr>\n",
              "    <tr>\n",
              "      <th>7</th>\n",
              "      <td>8</td>\n",
              "      <td>0</td>\n",
              "      <td>the next school year is the year for exams.ð...</td>\n",
              "      <td>the next school year is the year for exams.ð...</td>\n",
              "    </tr>\n",
              "    <tr>\n",
              "      <th>8</th>\n",
              "      <td>9</td>\n",
              "      <td>0</td>\n",
              "      <td>we won!!! love the land!!! #allin #cavs #champ...</td>\n",
              "      <td>we won!!! love the land!!! #allin #cavs #champ...</td>\n",
              "    </tr>\n",
              "    <tr>\n",
              "      <th>9</th>\n",
              "      <td>10</td>\n",
              "      <td>0</td>\n",
              "      <td>@user @user welcome here !  i'm   it's so #gr...</td>\n",
              "      <td>welcome here ! i'm it's so #gr8 !</td>\n",
              "    </tr>\n",
              "  </tbody>\n",
              "</table>\n",
              "</div>"
            ],
            "text/plain": [
              "   id  ...                                        clean_tweet\n",
              "0   1  ...  when a father is dysfunctional and is so selfi...\n",
              "1   2  ...  thanks for #lyft credit i can't use cause they...\n",
              "2   3  ...                                bihday your majesty\n",
              "3   4  ...  #model i love u take with u all the time in ur...\n",
              "4   5  ...                factsguide: society now #motivation\n",
              "5   6  ...  [2/2] huge fan fare and big talking before the...\n",
              "6   7  ...                          camping tomorrow dannyâ¦\n",
              "7   8  ...  the next school year is the year for exams.ð...\n",
              "8   9  ...  we won!!! love the land!!! #allin #cavs #champ...\n",
              "9  10  ...                  welcome here ! i'm it's so #gr8 !\n",
              "\n",
              "[10 rows x 4 columns]"
            ]
          },
          "metadata": {
            "tags": []
          },
          "execution_count": 157
        }
      ]
    },
    {
      "cell_type": "code",
      "metadata": {
        "colab": {
          "base_uri": "https://localhost:8080/",
          "height": 54
        },
        "id": "jeiCGAc71imj",
        "outputId": "570f6724-9cf2-47c9-be81-56a93c726907"
      },
      "source": [
        "#To check the disappearance of greek symbols\r\n",
        "df['clean_tweet'][7]"
      ],
      "execution_count": 158,
      "outputs": [
        {
          "output_type": "execute_result",
          "data": {
            "application/vnd.google.colaboratory.intrinsic+json": {
              "type": "string"
            },
            "text/plain": [
              "\"the next school year is the year for exams.ð\\x9f\\x98¯ can't think about that ð\\x9f\\x98\\xad #school #exams #hate #imagine #actorslife #revolutionschool #girl\""
            ]
          },
          "metadata": {
            "tags": []
          },
          "execution_count": 158
        }
      ]
    },
    {
      "cell_type": "code",
      "metadata": {
        "id": "2tC36hvU1ipa"
      },
      "source": [
        "#Removing the word 'hmm' and it's variants\r\n",
        "df['clean_tweet'] = df['clean_tweet'].apply(lambda x : ' '.join([word for word in x.split() if not word == 'h(m)+' ]))"
      ],
      "execution_count": 159,
      "outputs": []
    },
    {
      "cell_type": "code",
      "metadata": {
        "colab": {
          "base_uri": "https://localhost:8080/",
          "height": 198
        },
        "id": "kjJV5ry01ir8",
        "outputId": "6750cc8f-1399-452d-fc31-80a4d2afdf5b"
      },
      "source": [
        "df.head()"
      ],
      "execution_count": 160,
      "outputs": [
        {
          "output_type": "execute_result",
          "data": {
            "text/html": [
              "<div>\n",
              "<style scoped>\n",
              "    .dataframe tbody tr th:only-of-type {\n",
              "        vertical-align: middle;\n",
              "    }\n",
              "\n",
              "    .dataframe tbody tr th {\n",
              "        vertical-align: top;\n",
              "    }\n",
              "\n",
              "    .dataframe thead th {\n",
              "        text-align: right;\n",
              "    }\n",
              "</style>\n",
              "<table border=\"1\" class=\"dataframe\">\n",
              "  <thead>\n",
              "    <tr style=\"text-align: right;\">\n",
              "      <th></th>\n",
              "      <th>id</th>\n",
              "      <th>label</th>\n",
              "      <th>tweet</th>\n",
              "      <th>clean_tweet</th>\n",
              "    </tr>\n",
              "  </thead>\n",
              "  <tbody>\n",
              "    <tr>\n",
              "      <th>0</th>\n",
              "      <td>1</td>\n",
              "      <td>0</td>\n",
              "      <td>@user when a father is dysfunctional and is s...</td>\n",
              "      <td>when a father is dysfunctional and is so selfi...</td>\n",
              "    </tr>\n",
              "    <tr>\n",
              "      <th>1</th>\n",
              "      <td>2</td>\n",
              "      <td>0</td>\n",
              "      <td>@user @user thanks for #lyft credit i can't us...</td>\n",
              "      <td>thanks for #lyft credit i can't use cause they...</td>\n",
              "    </tr>\n",
              "    <tr>\n",
              "      <th>2</th>\n",
              "      <td>3</td>\n",
              "      <td>0</td>\n",
              "      <td>bihday your majesty</td>\n",
              "      <td>bihday your majesty</td>\n",
              "    </tr>\n",
              "    <tr>\n",
              "      <th>3</th>\n",
              "      <td>4</td>\n",
              "      <td>0</td>\n",
              "      <td>#model   i love u take with u all the time in ...</td>\n",
              "      <td>#model i love u take with u all the time in ur...</td>\n",
              "    </tr>\n",
              "    <tr>\n",
              "      <th>4</th>\n",
              "      <td>5</td>\n",
              "      <td>0</td>\n",
              "      <td>factsguide: society now    #motivation</td>\n",
              "      <td>factsguide: society now #motivation</td>\n",
              "    </tr>\n",
              "  </tbody>\n",
              "</table>\n",
              "</div>"
            ],
            "text/plain": [
              "   id  ...                                        clean_tweet\n",
              "0   1  ...  when a father is dysfunctional and is so selfi...\n",
              "1   2  ...  thanks for #lyft credit i can't use cause they...\n",
              "2   3  ...                                bihday your majesty\n",
              "3   4  ...  #model i love u take with u all the time in ur...\n",
              "4   5  ...                factsguide: society now #motivation\n",
              "\n",
              "[5 rows x 4 columns]"
            ]
          },
          "metadata": {
            "tags": []
          },
          "execution_count": 160
        }
      ]
    },
    {
      "cell_type": "code",
      "metadata": {
        "id": "UBuNu--b1iue"
      },
      "source": [
        "#Code for removing slang words\r\n",
        "d = {'luv':'love','wud':'would','lyk':'like','wateva':'whatever','ttyl':'talk to you later',\r\n",
        "               'kul':'cool','fyn':'fine','omg':'oh my god!','fam':'family','bruh':'brother',\r\n",
        "               'cud':'could','fud':'food'} ## Need a huge dictionary\r\n",
        "words = \"I luv myself\"\r\n",
        "words = words.split()\r\n",
        "reformed = [d[word] if word in d else word for word in words]\r\n",
        "reformed = \" \".join(reformed)"
      ],
      "execution_count": 161,
      "outputs": []
    },
    {
      "cell_type": "code",
      "metadata": {
        "colab": {
          "base_uri": "https://localhost:8080/",
          "height": 35
        },
        "id": "P1wZcR3q1ixU",
        "outputId": "83d073b3-9da5-4476-a648-f523b55d59ff"
      },
      "source": [
        "reformed"
      ],
      "execution_count": 162,
      "outputs": [
        {
          "output_type": "execute_result",
          "data": {
            "application/vnd.google.colaboratory.intrinsic+json": {
              "type": "string"
            },
            "text/plain": [
              "'I love myself'"
            ]
          },
          "metadata": {
            "tags": []
          },
          "execution_count": 162
        }
      ]
    },
    {
      "cell_type": "code",
      "metadata": {
        "id": "MyfJkv-Z1i0H"
      },
      "source": [
        "df['clean_tweet'] = df['clean_tweet'].apply(lambda x : ' '.join(d[word] if word in d else word for word in x.split()))"
      ],
      "execution_count": 163,
      "outputs": []
    },
    {
      "cell_type": "code",
      "metadata": {
        "colab": {
          "base_uri": "https://localhost:8080/",
          "height": 648
        },
        "id": "QBjaN1hM1i3I",
        "outputId": "6d7243ea-a9f0-41b8-d54a-410c4d50ac49"
      },
      "source": [
        "df.head(20)"
      ],
      "execution_count": 164,
      "outputs": [
        {
          "output_type": "execute_result",
          "data": {
            "text/html": [
              "<div>\n",
              "<style scoped>\n",
              "    .dataframe tbody tr th:only-of-type {\n",
              "        vertical-align: middle;\n",
              "    }\n",
              "\n",
              "    .dataframe tbody tr th {\n",
              "        vertical-align: top;\n",
              "    }\n",
              "\n",
              "    .dataframe thead th {\n",
              "        text-align: right;\n",
              "    }\n",
              "</style>\n",
              "<table border=\"1\" class=\"dataframe\">\n",
              "  <thead>\n",
              "    <tr style=\"text-align: right;\">\n",
              "      <th></th>\n",
              "      <th>id</th>\n",
              "      <th>label</th>\n",
              "      <th>tweet</th>\n",
              "      <th>clean_tweet</th>\n",
              "    </tr>\n",
              "  </thead>\n",
              "  <tbody>\n",
              "    <tr>\n",
              "      <th>0</th>\n",
              "      <td>1</td>\n",
              "      <td>0</td>\n",
              "      <td>@user when a father is dysfunctional and is s...</td>\n",
              "      <td>when a father is dysfunctional and is so selfi...</td>\n",
              "    </tr>\n",
              "    <tr>\n",
              "      <th>1</th>\n",
              "      <td>2</td>\n",
              "      <td>0</td>\n",
              "      <td>@user @user thanks for #lyft credit i can't us...</td>\n",
              "      <td>thanks for #lyft credit i can't use cause they...</td>\n",
              "    </tr>\n",
              "    <tr>\n",
              "      <th>2</th>\n",
              "      <td>3</td>\n",
              "      <td>0</td>\n",
              "      <td>bihday your majesty</td>\n",
              "      <td>bihday your majesty</td>\n",
              "    </tr>\n",
              "    <tr>\n",
              "      <th>3</th>\n",
              "      <td>4</td>\n",
              "      <td>0</td>\n",
              "      <td>#model   i love u take with u all the time in ...</td>\n",
              "      <td>#model i love u take with u all the time in ur...</td>\n",
              "    </tr>\n",
              "    <tr>\n",
              "      <th>4</th>\n",
              "      <td>5</td>\n",
              "      <td>0</td>\n",
              "      <td>factsguide: society now    #motivation</td>\n",
              "      <td>factsguide: society now #motivation</td>\n",
              "    </tr>\n",
              "    <tr>\n",
              "      <th>5</th>\n",
              "      <td>6</td>\n",
              "      <td>0</td>\n",
              "      <td>[2/2] huge fan fare and big talking before the...</td>\n",
              "      <td>[2/2] huge fan fare and big talking before the...</td>\n",
              "    </tr>\n",
              "    <tr>\n",
              "      <th>6</th>\n",
              "      <td>7</td>\n",
              "      <td>0</td>\n",
              "      <td>@user camping tomorrow @user @user @user @use...</td>\n",
              "      <td>camping tomorrow dannyâ¦</td>\n",
              "    </tr>\n",
              "    <tr>\n",
              "      <th>7</th>\n",
              "      <td>8</td>\n",
              "      <td>0</td>\n",
              "      <td>the next school year is the year for exams.ð...</td>\n",
              "      <td>the next school year is the year for exams.ð...</td>\n",
              "    </tr>\n",
              "    <tr>\n",
              "      <th>8</th>\n",
              "      <td>9</td>\n",
              "      <td>0</td>\n",
              "      <td>we won!!! love the land!!! #allin #cavs #champ...</td>\n",
              "      <td>we won!!! love the land!!! #allin #cavs #champ...</td>\n",
              "    </tr>\n",
              "    <tr>\n",
              "      <th>9</th>\n",
              "      <td>10</td>\n",
              "      <td>0</td>\n",
              "      <td>@user @user welcome here !  i'm   it's so #gr...</td>\n",
              "      <td>welcome here ! i'm it's so #gr8 !</td>\n",
              "    </tr>\n",
              "    <tr>\n",
              "      <th>10</th>\n",
              "      <td>11</td>\n",
              "      <td>0</td>\n",
              "      <td>â #ireland consumer price index (mom) climb...</td>\n",
              "      <td>â #ireland consumer price index (mom) climbe...</td>\n",
              "    </tr>\n",
              "    <tr>\n",
              "      <th>11</th>\n",
              "      <td>12</td>\n",
              "      <td>0</td>\n",
              "      <td>we are so selfish. #orlando #standwithorlando ...</td>\n",
              "      <td>we are so selfish. #orlando #standwithorlando ...</td>\n",
              "    </tr>\n",
              "    <tr>\n",
              "      <th>12</th>\n",
              "      <td>13</td>\n",
              "      <td>0</td>\n",
              "      <td>i get to see my daddy today!!   #80days #getti...</td>\n",
              "      <td>i get to see my daddy today!! #80days #gettingfed</td>\n",
              "    </tr>\n",
              "    <tr>\n",
              "      <th>13</th>\n",
              "      <td>14</td>\n",
              "      <td>1</td>\n",
              "      <td>@user #cnn calls #michigan middle school 'buil...</td>\n",
              "      <td>#cnn calls #michigan middle school 'build the ...</td>\n",
              "    </tr>\n",
              "    <tr>\n",
              "      <th>14</th>\n",
              "      <td>15</td>\n",
              "      <td>1</td>\n",
              "      <td>no comment!  in #australia   #opkillingbay #se...</td>\n",
              "      <td>no comment! in #australia #opkillingbay #seash...</td>\n",
              "    </tr>\n",
              "    <tr>\n",
              "      <th>15</th>\n",
              "      <td>16</td>\n",
              "      <td>0</td>\n",
              "      <td>ouch...junior is angryð#got7 #junior #yugyo...</td>\n",
              "      <td>ouch...junior is angryð#got7 #junior #yugyo...</td>\n",
              "    </tr>\n",
              "    <tr>\n",
              "      <th>16</th>\n",
              "      <td>17</td>\n",
              "      <td>0</td>\n",
              "      <td>i am thankful for having a paner. #thankful #p...</td>\n",
              "      <td>i am thankful for having a paner. #thankful #p...</td>\n",
              "    </tr>\n",
              "    <tr>\n",
              "      <th>17</th>\n",
              "      <td>18</td>\n",
              "      <td>1</td>\n",
              "      <td>retweet if you agree!</td>\n",
              "      <td>retweet if you agree!</td>\n",
              "    </tr>\n",
              "    <tr>\n",
              "      <th>18</th>\n",
              "      <td>19</td>\n",
              "      <td>0</td>\n",
              "      <td>its #friday! ð smiles all around via ig use...</td>\n",
              "      <td>its #friday! ð smiles all around via ig use...</td>\n",
              "    </tr>\n",
              "    <tr>\n",
              "      <th>19</th>\n",
              "      <td>20</td>\n",
              "      <td>0</td>\n",
              "      <td>as we all know, essential oils are not made of...</td>\n",
              "      <td>as we all know, essential oils are not made of...</td>\n",
              "    </tr>\n",
              "  </tbody>\n",
              "</table>\n",
              "</div>"
            ],
            "text/plain": [
              "    id  ...                                        clean_tweet\n",
              "0    1  ...  when a father is dysfunctional and is so selfi...\n",
              "1    2  ...  thanks for #lyft credit i can't use cause they...\n",
              "2    3  ...                                bihday your majesty\n",
              "3    4  ...  #model i love u take with u all the time in ur...\n",
              "4    5  ...                factsguide: society now #motivation\n",
              "5    6  ...  [2/2] huge fan fare and big talking before the...\n",
              "6    7  ...                          camping tomorrow dannyâ¦\n",
              "7    8  ...  the next school year is the year for exams.ð...\n",
              "8    9  ...  we won!!! love the land!!! #allin #cavs #champ...\n",
              "9   10  ...                  welcome here ! i'm it's so #gr8 !\n",
              "10  11  ...  â #ireland consumer price index (mom) climbe...\n",
              "11  12  ...  we are so selfish. #orlando #standwithorlando ...\n",
              "12  13  ...  i get to see my daddy today!! #80days #gettingfed\n",
              "13  14  ...  #cnn calls #michigan middle school 'build the ...\n",
              "14  15  ...  no comment! in #australia #opkillingbay #seash...\n",
              "15  16  ...  ouch...junior is angryð#got7 #junior #yugyo...\n",
              "16  17  ...  i am thankful for having a paner. #thankful #p...\n",
              "17  18  ...                              retweet if you agree!\n",
              "18  19  ...  its #friday! ð smiles all around via ig use...\n",
              "19  20  ...  as we all know, essential oils are not made of...\n",
              "\n",
              "[20 rows x 4 columns]"
            ]
          },
          "metadata": {
            "tags": []
          },
          "execution_count": 164
        }
      ]
    },
    {
      "cell_type": "code",
      "metadata": {
        "id": "a380_OIz1i5V"
      },
      "source": [
        "#Finding words with # attached to it\r\n",
        "df['#'] = df['clean_tweet'].apply(lambda x : ' '.join([word for word in x.split() if word.startswith('#')]))"
      ],
      "execution_count": 165,
      "outputs": []
    },
    {
      "cell_type": "code",
      "metadata": {
        "colab": {
          "base_uri": "https://localhost:8080/",
          "height": 198
        },
        "id": "gSIXrmUJ1i7k",
        "outputId": "eb0ca886-0046-45e4-9ddb-2e91df8cd7f8"
      },
      "source": [
        "df.head()"
      ],
      "execution_count": 166,
      "outputs": [
        {
          "output_type": "execute_result",
          "data": {
            "text/html": [
              "<div>\n",
              "<style scoped>\n",
              "    .dataframe tbody tr th:only-of-type {\n",
              "        vertical-align: middle;\n",
              "    }\n",
              "\n",
              "    .dataframe tbody tr th {\n",
              "        vertical-align: top;\n",
              "    }\n",
              "\n",
              "    .dataframe thead th {\n",
              "        text-align: right;\n",
              "    }\n",
              "</style>\n",
              "<table border=\"1\" class=\"dataframe\">\n",
              "  <thead>\n",
              "    <tr style=\"text-align: right;\">\n",
              "      <th></th>\n",
              "      <th>id</th>\n",
              "      <th>label</th>\n",
              "      <th>tweet</th>\n",
              "      <th>clean_tweet</th>\n",
              "      <th>#</th>\n",
              "    </tr>\n",
              "  </thead>\n",
              "  <tbody>\n",
              "    <tr>\n",
              "      <th>0</th>\n",
              "      <td>1</td>\n",
              "      <td>0</td>\n",
              "      <td>@user when a father is dysfunctional and is s...</td>\n",
              "      <td>when a father is dysfunctional and is so selfi...</td>\n",
              "      <td>#run</td>\n",
              "    </tr>\n",
              "    <tr>\n",
              "      <th>1</th>\n",
              "      <td>2</td>\n",
              "      <td>0</td>\n",
              "      <td>@user @user thanks for #lyft credit i can't us...</td>\n",
              "      <td>thanks for #lyft credit i can't use cause they...</td>\n",
              "      <td>#lyft #disapointed #getthanked</td>\n",
              "    </tr>\n",
              "    <tr>\n",
              "      <th>2</th>\n",
              "      <td>3</td>\n",
              "      <td>0</td>\n",
              "      <td>bihday your majesty</td>\n",
              "      <td>bihday your majesty</td>\n",
              "      <td></td>\n",
              "    </tr>\n",
              "    <tr>\n",
              "      <th>3</th>\n",
              "      <td>4</td>\n",
              "      <td>0</td>\n",
              "      <td>#model   i love u take with u all the time in ...</td>\n",
              "      <td>#model i love u take with u all the time in ur...</td>\n",
              "      <td>#model</td>\n",
              "    </tr>\n",
              "    <tr>\n",
              "      <th>4</th>\n",
              "      <td>5</td>\n",
              "      <td>0</td>\n",
              "      <td>factsguide: society now    #motivation</td>\n",
              "      <td>factsguide: society now #motivation</td>\n",
              "      <td>#motivation</td>\n",
              "    </tr>\n",
              "  </tbody>\n",
              "</table>\n",
              "</div>"
            ],
            "text/plain": [
              "   id  ...                               #\n",
              "0   1  ...                            #run\n",
              "1   2  ...  #lyft #disapointed #getthanked\n",
              "2   3  ...                                \n",
              "3   4  ...                          #model\n",
              "4   5  ...                     #motivation\n",
              "\n",
              "[5 rows x 5 columns]"
            ]
          },
          "metadata": {
            "tags": []
          },
          "execution_count": 166
        }
      ]
    },
    {
      "cell_type": "code",
      "metadata": {
        "id": "AG5WSdYl1i-D"
      },
      "source": [
        "frame = df['#']"
      ],
      "execution_count": 167,
      "outputs": []
    },
    {
      "cell_type": "code",
      "metadata": {
        "colab": {
          "base_uri": "https://localhost:8080/"
        },
        "id": "Z8tqqwED1jA0",
        "outputId": "cc979f35-cc15-4fa0-a39d-c70ee4e903c3"
      },
      "source": [
        "frame.head()"
      ],
      "execution_count": 168,
      "outputs": [
        {
          "output_type": "execute_result",
          "data": {
            "text/plain": [
              "0                              #run\n",
              "1    #lyft #disapointed #getthanked\n",
              "2                                  \n",
              "3                            #model\n",
              "4                       #motivation\n",
              "Name: #, dtype: object"
            ]
          },
          "metadata": {
            "tags": []
          },
          "execution_count": 168
        }
      ]
    },
    {
      "cell_type": "code",
      "metadata": {
        "colab": {
          "base_uri": "https://localhost:8080/"
        },
        "id": "68ULTQzS2GEW",
        "outputId": "72190e02-7b0e-4c0b-878b-9066e65fabc7"
      },
      "source": [
        "type(frame)"
      ],
      "execution_count": 169,
      "outputs": [
        {
          "output_type": "execute_result",
          "data": {
            "text/plain": [
              "pandas.core.series.Series"
            ]
          },
          "metadata": {
            "tags": []
          },
          "execution_count": 169
        }
      ]
    },
    {
      "cell_type": "code",
      "metadata": {
        "id": "EQgR9kZz2GHP"
      },
      "source": [
        "frame = pd.DataFrame(frame)"
      ],
      "execution_count": 170,
      "outputs": []
    },
    {
      "cell_type": "code",
      "metadata": {
        "id": "uPa6xmdI2GJ4"
      },
      "source": [
        "frame = frame.rename({'#':'Count(#)'},axis = 'columns')"
      ],
      "execution_count": 171,
      "outputs": []
    },
    {
      "cell_type": "code",
      "metadata": {
        "colab": {
          "base_uri": "https://localhost:8080/",
          "height": 198
        },
        "id": "EiVAQ-M02GMi",
        "outputId": "2305a47c-5208-4f9c-af12-acb45de64fd3"
      },
      "source": [
        "frame.head()"
      ],
      "execution_count": 172,
      "outputs": [
        {
          "output_type": "execute_result",
          "data": {
            "text/html": [
              "<div>\n",
              "<style scoped>\n",
              "    .dataframe tbody tr th:only-of-type {\n",
              "        vertical-align: middle;\n",
              "    }\n",
              "\n",
              "    .dataframe tbody tr th {\n",
              "        vertical-align: top;\n",
              "    }\n",
              "\n",
              "    .dataframe thead th {\n",
              "        text-align: right;\n",
              "    }\n",
              "</style>\n",
              "<table border=\"1\" class=\"dataframe\">\n",
              "  <thead>\n",
              "    <tr style=\"text-align: right;\">\n",
              "      <th></th>\n",
              "      <th>Count(#)</th>\n",
              "    </tr>\n",
              "  </thead>\n",
              "  <tbody>\n",
              "    <tr>\n",
              "      <th>0</th>\n",
              "      <td>#run</td>\n",
              "    </tr>\n",
              "    <tr>\n",
              "      <th>1</th>\n",
              "      <td>#lyft #disapointed #getthanked</td>\n",
              "    </tr>\n",
              "    <tr>\n",
              "      <th>2</th>\n",
              "      <td></td>\n",
              "    </tr>\n",
              "    <tr>\n",
              "      <th>3</th>\n",
              "      <td>#model</td>\n",
              "    </tr>\n",
              "    <tr>\n",
              "      <th>4</th>\n",
              "      <td>#motivation</td>\n",
              "    </tr>\n",
              "  </tbody>\n",
              "</table>\n",
              "</div>"
            ],
            "text/plain": [
              "                         Count(#)\n",
              "0                            #run\n",
              "1  #lyft #disapointed #getthanked\n",
              "2                                \n",
              "3                          #model\n",
              "4                     #motivation"
            ]
          },
          "metadata": {
            "tags": []
          },
          "execution_count": 172
        }
      ]
    },
    {
      "cell_type": "code",
      "metadata": {
        "id": "YA33C9i12GQF"
      },
      "source": [
        "frame[frame['Count(#)'] == ''] = 'No hashtags'"
      ],
      "execution_count": 173,
      "outputs": []
    },
    {
      "cell_type": "code",
      "metadata": {
        "colab": {
          "base_uri": "https://localhost:8080/",
          "height": 198
        },
        "id": "6QaVUoRC2GSA",
        "outputId": "57c8c3f6-d179-4c07-917e-df1835a7dfa6"
      },
      "source": [
        "frame.head()"
      ],
      "execution_count": 174,
      "outputs": [
        {
          "output_type": "execute_result",
          "data": {
            "text/html": [
              "<div>\n",
              "<style scoped>\n",
              "    .dataframe tbody tr th:only-of-type {\n",
              "        vertical-align: middle;\n",
              "    }\n",
              "\n",
              "    .dataframe tbody tr th {\n",
              "        vertical-align: top;\n",
              "    }\n",
              "\n",
              "    .dataframe thead th {\n",
              "        text-align: right;\n",
              "    }\n",
              "</style>\n",
              "<table border=\"1\" class=\"dataframe\">\n",
              "  <thead>\n",
              "    <tr style=\"text-align: right;\">\n",
              "      <th></th>\n",
              "      <th>Count(#)</th>\n",
              "    </tr>\n",
              "  </thead>\n",
              "  <tbody>\n",
              "    <tr>\n",
              "      <th>0</th>\n",
              "      <td>#run</td>\n",
              "    </tr>\n",
              "    <tr>\n",
              "      <th>1</th>\n",
              "      <td>#lyft #disapointed #getthanked</td>\n",
              "    </tr>\n",
              "    <tr>\n",
              "      <th>2</th>\n",
              "      <td>No hashtags</td>\n",
              "    </tr>\n",
              "    <tr>\n",
              "      <th>3</th>\n",
              "      <td>#model</td>\n",
              "    </tr>\n",
              "    <tr>\n",
              "      <th>4</th>\n",
              "      <td>#motivation</td>\n",
              "    </tr>\n",
              "  </tbody>\n",
              "</table>\n",
              "</div>"
            ],
            "text/plain": [
              "                         Count(#)\n",
              "0                            #run\n",
              "1  #lyft #disapointed #getthanked\n",
              "2                     No hashtags\n",
              "3                          #model\n",
              "4                     #motivation"
            ]
          },
          "metadata": {
            "tags": []
          },
          "execution_count": 174
        }
      ]
    },
    {
      "cell_type": "code",
      "metadata": {
        "colab": {
          "base_uri": "https://localhost:8080/",
          "height": 198
        },
        "id": "28ZSahBM2GVC",
        "outputId": "4134f077-36ac-4c0f-dc2a-514a2642e3f6"
      },
      "source": [
        "df.head()"
      ],
      "execution_count": 175,
      "outputs": [
        {
          "output_type": "execute_result",
          "data": {
            "text/html": [
              "<div>\n",
              "<style scoped>\n",
              "    .dataframe tbody tr th:only-of-type {\n",
              "        vertical-align: middle;\n",
              "    }\n",
              "\n",
              "    .dataframe tbody tr th {\n",
              "        vertical-align: top;\n",
              "    }\n",
              "\n",
              "    .dataframe thead th {\n",
              "        text-align: right;\n",
              "    }\n",
              "</style>\n",
              "<table border=\"1\" class=\"dataframe\">\n",
              "  <thead>\n",
              "    <tr style=\"text-align: right;\">\n",
              "      <th></th>\n",
              "      <th>id</th>\n",
              "      <th>label</th>\n",
              "      <th>tweet</th>\n",
              "      <th>clean_tweet</th>\n",
              "      <th>#</th>\n",
              "    </tr>\n",
              "  </thead>\n",
              "  <tbody>\n",
              "    <tr>\n",
              "      <th>0</th>\n",
              "      <td>1</td>\n",
              "      <td>0</td>\n",
              "      <td>@user when a father is dysfunctional and is s...</td>\n",
              "      <td>when a father is dysfunctional and is so selfi...</td>\n",
              "      <td>#run</td>\n",
              "    </tr>\n",
              "    <tr>\n",
              "      <th>1</th>\n",
              "      <td>2</td>\n",
              "      <td>0</td>\n",
              "      <td>@user @user thanks for #lyft credit i can't us...</td>\n",
              "      <td>thanks for #lyft credit i can't use cause they...</td>\n",
              "      <td>#lyft #disapointed #getthanked</td>\n",
              "    </tr>\n",
              "    <tr>\n",
              "      <th>2</th>\n",
              "      <td>3</td>\n",
              "      <td>0</td>\n",
              "      <td>bihday your majesty</td>\n",
              "      <td>bihday your majesty</td>\n",
              "      <td></td>\n",
              "    </tr>\n",
              "    <tr>\n",
              "      <th>3</th>\n",
              "      <td>4</td>\n",
              "      <td>0</td>\n",
              "      <td>#model   i love u take with u all the time in ...</td>\n",
              "      <td>#model i love u take with u all the time in ur...</td>\n",
              "      <td>#model</td>\n",
              "    </tr>\n",
              "    <tr>\n",
              "      <th>4</th>\n",
              "      <td>5</td>\n",
              "      <td>0</td>\n",
              "      <td>factsguide: society now    #motivation</td>\n",
              "      <td>factsguide: society now #motivation</td>\n",
              "      <td>#motivation</td>\n",
              "    </tr>\n",
              "  </tbody>\n",
              "</table>\n",
              "</div>"
            ],
            "text/plain": [
              "   id  ...                               #\n",
              "0   1  ...                            #run\n",
              "1   2  ...  #lyft #disapointed #getthanked\n",
              "2   3  ...                                \n",
              "3   4  ...                          #model\n",
              "4   5  ...                     #motivation\n",
              "\n",
              "[5 rows x 5 columns]"
            ]
          },
          "metadata": {
            "tags": []
          },
          "execution_count": 175
        }
      ]
    },
    {
      "cell_type": "code",
      "metadata": {
        "id": "c03Rih8c2GX8"
      },
      "source": [
        "data_frame = pd.concat([df,frame],axis = 1)"
      ],
      "execution_count": 176,
      "outputs": []
    },
    {
      "cell_type": "code",
      "metadata": {
        "colab": {
          "base_uri": "https://localhost:8080/",
          "height": 486
        },
        "id": "j_qlOnEW2Gad",
        "outputId": "263e14a6-8666-4535-960b-27ae8ab9f478"
      },
      "source": [
        "data_frame.head(10)"
      ],
      "execution_count": 177,
      "outputs": [
        {
          "output_type": "execute_result",
          "data": {
            "text/html": [
              "<div>\n",
              "<style scoped>\n",
              "    .dataframe tbody tr th:only-of-type {\n",
              "        vertical-align: middle;\n",
              "    }\n",
              "\n",
              "    .dataframe tbody tr th {\n",
              "        vertical-align: top;\n",
              "    }\n",
              "\n",
              "    .dataframe thead th {\n",
              "        text-align: right;\n",
              "    }\n",
              "</style>\n",
              "<table border=\"1\" class=\"dataframe\">\n",
              "  <thead>\n",
              "    <tr style=\"text-align: right;\">\n",
              "      <th></th>\n",
              "      <th>id</th>\n",
              "      <th>label</th>\n",
              "      <th>tweet</th>\n",
              "      <th>clean_tweet</th>\n",
              "      <th>#</th>\n",
              "      <th>Count(#)</th>\n",
              "    </tr>\n",
              "  </thead>\n",
              "  <tbody>\n",
              "    <tr>\n",
              "      <th>0</th>\n",
              "      <td>1</td>\n",
              "      <td>0</td>\n",
              "      <td>@user when a father is dysfunctional and is s...</td>\n",
              "      <td>when a father is dysfunctional and is so selfi...</td>\n",
              "      <td>#run</td>\n",
              "      <td>#run</td>\n",
              "    </tr>\n",
              "    <tr>\n",
              "      <th>1</th>\n",
              "      <td>2</td>\n",
              "      <td>0</td>\n",
              "      <td>@user @user thanks for #lyft credit i can't us...</td>\n",
              "      <td>thanks for #lyft credit i can't use cause they...</td>\n",
              "      <td>#lyft #disapointed #getthanked</td>\n",
              "      <td>#lyft #disapointed #getthanked</td>\n",
              "    </tr>\n",
              "    <tr>\n",
              "      <th>2</th>\n",
              "      <td>3</td>\n",
              "      <td>0</td>\n",
              "      <td>bihday your majesty</td>\n",
              "      <td>bihday your majesty</td>\n",
              "      <td></td>\n",
              "      <td>No hashtags</td>\n",
              "    </tr>\n",
              "    <tr>\n",
              "      <th>3</th>\n",
              "      <td>4</td>\n",
              "      <td>0</td>\n",
              "      <td>#model   i love u take with u all the time in ...</td>\n",
              "      <td>#model i love u take with u all the time in ur...</td>\n",
              "      <td>#model</td>\n",
              "      <td>#model</td>\n",
              "    </tr>\n",
              "    <tr>\n",
              "      <th>4</th>\n",
              "      <td>5</td>\n",
              "      <td>0</td>\n",
              "      <td>factsguide: society now    #motivation</td>\n",
              "      <td>factsguide: society now #motivation</td>\n",
              "      <td>#motivation</td>\n",
              "      <td>#motivation</td>\n",
              "    </tr>\n",
              "    <tr>\n",
              "      <th>5</th>\n",
              "      <td>6</td>\n",
              "      <td>0</td>\n",
              "      <td>[2/2] huge fan fare and big talking before the...</td>\n",
              "      <td>[2/2] huge fan fare and big talking before the...</td>\n",
              "      <td>#allshowandnogo</td>\n",
              "      <td>#allshowandnogo</td>\n",
              "    </tr>\n",
              "    <tr>\n",
              "      <th>6</th>\n",
              "      <td>7</td>\n",
              "      <td>0</td>\n",
              "      <td>@user camping tomorrow @user @user @user @use...</td>\n",
              "      <td>camping tomorrow dannyâ¦</td>\n",
              "      <td></td>\n",
              "      <td>No hashtags</td>\n",
              "    </tr>\n",
              "    <tr>\n",
              "      <th>7</th>\n",
              "      <td>8</td>\n",
              "      <td>0</td>\n",
              "      <td>the next school year is the year for exams.ð...</td>\n",
              "      <td>the next school year is the year for exams.ð...</td>\n",
              "      <td>#school #exams #hate #imagine #actorslife #rev...</td>\n",
              "      <td>#school #exams #hate #imagine #actorslife #rev...</td>\n",
              "    </tr>\n",
              "    <tr>\n",
              "      <th>8</th>\n",
              "      <td>9</td>\n",
              "      <td>0</td>\n",
              "      <td>we won!!! love the land!!! #allin #cavs #champ...</td>\n",
              "      <td>we won!!! love the land!!! #allin #cavs #champ...</td>\n",
              "      <td>#allin #cavs #champions #cleveland #clevelandc...</td>\n",
              "      <td>#allin #cavs #champions #cleveland #clevelandc...</td>\n",
              "    </tr>\n",
              "    <tr>\n",
              "      <th>9</th>\n",
              "      <td>10</td>\n",
              "      <td>0</td>\n",
              "      <td>@user @user welcome here !  i'm   it's so #gr...</td>\n",
              "      <td>welcome here ! i'm it's so #gr8 !</td>\n",
              "      <td>#gr8</td>\n",
              "      <td>#gr8</td>\n",
              "    </tr>\n",
              "  </tbody>\n",
              "</table>\n",
              "</div>"
            ],
            "text/plain": [
              "   id  ...                                           Count(#)\n",
              "0   1  ...                                               #run\n",
              "1   2  ...                     #lyft #disapointed #getthanked\n",
              "2   3  ...                                        No hashtags\n",
              "3   4  ...                                             #model\n",
              "4   5  ...                                        #motivation\n",
              "5   6  ...                                    #allshowandnogo\n",
              "6   7  ...                                        No hashtags\n",
              "7   8  ...  #school #exams #hate #imagine #actorslife #rev...\n",
              "8   9  ...  #allin #cavs #champions #cleveland #clevelandc...\n",
              "9  10  ...                                               #gr8\n",
              "\n",
              "[10 rows x 6 columns]"
            ]
          },
          "metadata": {
            "tags": []
          },
          "execution_count": 177
        }
      ]
    },
    {
      "cell_type": "code",
      "metadata": {
        "id": "jRfsjFjJ2Gdb"
      },
      "source": [
        "data_frame.drop('#',axis = 1,inplace = True)"
      ],
      "execution_count": 178,
      "outputs": []
    },
    {
      "cell_type": "code",
      "metadata": {
        "colab": {
          "base_uri": "https://localhost:8080/",
          "height": 348
        },
        "id": "NivT9cT12GgM",
        "outputId": "21afed8b-9817-44c5-c52c-38ca81e3db91"
      },
      "source": [
        "data_frame.head(10)"
      ],
      "execution_count": 179,
      "outputs": [
        {
          "output_type": "execute_result",
          "data": {
            "text/html": [
              "<div>\n",
              "<style scoped>\n",
              "    .dataframe tbody tr th:only-of-type {\n",
              "        vertical-align: middle;\n",
              "    }\n",
              "\n",
              "    .dataframe tbody tr th {\n",
              "        vertical-align: top;\n",
              "    }\n",
              "\n",
              "    .dataframe thead th {\n",
              "        text-align: right;\n",
              "    }\n",
              "</style>\n",
              "<table border=\"1\" class=\"dataframe\">\n",
              "  <thead>\n",
              "    <tr style=\"text-align: right;\">\n",
              "      <th></th>\n",
              "      <th>id</th>\n",
              "      <th>label</th>\n",
              "      <th>tweet</th>\n",
              "      <th>clean_tweet</th>\n",
              "      <th>Count(#)</th>\n",
              "    </tr>\n",
              "  </thead>\n",
              "  <tbody>\n",
              "    <tr>\n",
              "      <th>0</th>\n",
              "      <td>1</td>\n",
              "      <td>0</td>\n",
              "      <td>@user when a father is dysfunctional and is s...</td>\n",
              "      <td>when a father is dysfunctional and is so selfi...</td>\n",
              "      <td>#run</td>\n",
              "    </tr>\n",
              "    <tr>\n",
              "      <th>1</th>\n",
              "      <td>2</td>\n",
              "      <td>0</td>\n",
              "      <td>@user @user thanks for #lyft credit i can't us...</td>\n",
              "      <td>thanks for #lyft credit i can't use cause they...</td>\n",
              "      <td>#lyft #disapointed #getthanked</td>\n",
              "    </tr>\n",
              "    <tr>\n",
              "      <th>2</th>\n",
              "      <td>3</td>\n",
              "      <td>0</td>\n",
              "      <td>bihday your majesty</td>\n",
              "      <td>bihday your majesty</td>\n",
              "      <td>No hashtags</td>\n",
              "    </tr>\n",
              "    <tr>\n",
              "      <th>3</th>\n",
              "      <td>4</td>\n",
              "      <td>0</td>\n",
              "      <td>#model   i love u take with u all the time in ...</td>\n",
              "      <td>#model i love u take with u all the time in ur...</td>\n",
              "      <td>#model</td>\n",
              "    </tr>\n",
              "    <tr>\n",
              "      <th>4</th>\n",
              "      <td>5</td>\n",
              "      <td>0</td>\n",
              "      <td>factsguide: society now    #motivation</td>\n",
              "      <td>factsguide: society now #motivation</td>\n",
              "      <td>#motivation</td>\n",
              "    </tr>\n",
              "    <tr>\n",
              "      <th>5</th>\n",
              "      <td>6</td>\n",
              "      <td>0</td>\n",
              "      <td>[2/2] huge fan fare and big talking before the...</td>\n",
              "      <td>[2/2] huge fan fare and big talking before the...</td>\n",
              "      <td>#allshowandnogo</td>\n",
              "    </tr>\n",
              "    <tr>\n",
              "      <th>6</th>\n",
              "      <td>7</td>\n",
              "      <td>0</td>\n",
              "      <td>@user camping tomorrow @user @user @user @use...</td>\n",
              "      <td>camping tomorrow dannyâ¦</td>\n",
              "      <td>No hashtags</td>\n",
              "    </tr>\n",
              "    <tr>\n",
              "      <th>7</th>\n",
              "      <td>8</td>\n",
              "      <td>0</td>\n",
              "      <td>the next school year is the year for exams.ð...</td>\n",
              "      <td>the next school year is the year for exams.ð...</td>\n",
              "      <td>#school #exams #hate #imagine #actorslife #rev...</td>\n",
              "    </tr>\n",
              "    <tr>\n",
              "      <th>8</th>\n",
              "      <td>9</td>\n",
              "      <td>0</td>\n",
              "      <td>we won!!! love the land!!! #allin #cavs #champ...</td>\n",
              "      <td>we won!!! love the land!!! #allin #cavs #champ...</td>\n",
              "      <td>#allin #cavs #champions #cleveland #clevelandc...</td>\n",
              "    </tr>\n",
              "    <tr>\n",
              "      <th>9</th>\n",
              "      <td>10</td>\n",
              "      <td>0</td>\n",
              "      <td>@user @user welcome here !  i'm   it's so #gr...</td>\n",
              "      <td>welcome here ! i'm it's so #gr8 !</td>\n",
              "      <td>#gr8</td>\n",
              "    </tr>\n",
              "  </tbody>\n",
              "</table>\n",
              "</div>"
            ],
            "text/plain": [
              "   id  ...                                           Count(#)\n",
              "0   1  ...                                               #run\n",
              "1   2  ...                     #lyft #disapointed #getthanked\n",
              "2   3  ...                                        No hashtags\n",
              "3   4  ...                                             #model\n",
              "4   5  ...                                        #motivation\n",
              "5   6  ...                                    #allshowandnogo\n",
              "6   7  ...                                        No hashtags\n",
              "7   8  ...  #school #exams #hate #imagine #actorslife #rev...\n",
              "8   9  ...  #allin #cavs #champions #cleveland #clevelandc...\n",
              "9  10  ...                                               #gr8\n",
              "\n",
              "[10 rows x 5 columns]"
            ]
          },
          "metadata": {
            "tags": []
          },
          "execution_count": 179
        }
      ]
    },
    {
      "cell_type": "code",
      "metadata": {
        "id": "ZW_VWTn-2Giz"
      },
      "source": [
        "#Column showing whether the corresponding tweet has a hash tagged word or not\r\n",
        "data_frame = data_frame.rename({'Count(#)':'Hash words'},axis = 'columns')"
      ],
      "execution_count": 180,
      "outputs": []
    },
    {
      "cell_type": "code",
      "metadata": {
        "colab": {
          "base_uri": "https://localhost:8080/",
          "height": 198
        },
        "id": "7-Hqgfqk2Glh",
        "outputId": "51e75d39-6e1b-45e8-d5b1-51f7c750e2bf"
      },
      "source": [
        "data_frame.head()"
      ],
      "execution_count": 181,
      "outputs": [
        {
          "output_type": "execute_result",
          "data": {
            "text/html": [
              "<div>\n",
              "<style scoped>\n",
              "    .dataframe tbody tr th:only-of-type {\n",
              "        vertical-align: middle;\n",
              "    }\n",
              "\n",
              "    .dataframe tbody tr th {\n",
              "        vertical-align: top;\n",
              "    }\n",
              "\n",
              "    .dataframe thead th {\n",
              "        text-align: right;\n",
              "    }\n",
              "</style>\n",
              "<table border=\"1\" class=\"dataframe\">\n",
              "  <thead>\n",
              "    <tr style=\"text-align: right;\">\n",
              "      <th></th>\n",
              "      <th>id</th>\n",
              "      <th>label</th>\n",
              "      <th>tweet</th>\n",
              "      <th>clean_tweet</th>\n",
              "      <th>Hash words</th>\n",
              "    </tr>\n",
              "  </thead>\n",
              "  <tbody>\n",
              "    <tr>\n",
              "      <th>0</th>\n",
              "      <td>1</td>\n",
              "      <td>0</td>\n",
              "      <td>@user when a father is dysfunctional and is s...</td>\n",
              "      <td>when a father is dysfunctional and is so selfi...</td>\n",
              "      <td>#run</td>\n",
              "    </tr>\n",
              "    <tr>\n",
              "      <th>1</th>\n",
              "      <td>2</td>\n",
              "      <td>0</td>\n",
              "      <td>@user @user thanks for #lyft credit i can't us...</td>\n",
              "      <td>thanks for #lyft credit i can't use cause they...</td>\n",
              "      <td>#lyft #disapointed #getthanked</td>\n",
              "    </tr>\n",
              "    <tr>\n",
              "      <th>2</th>\n",
              "      <td>3</td>\n",
              "      <td>0</td>\n",
              "      <td>bihday your majesty</td>\n",
              "      <td>bihday your majesty</td>\n",
              "      <td>No hashtags</td>\n",
              "    </tr>\n",
              "    <tr>\n",
              "      <th>3</th>\n",
              "      <td>4</td>\n",
              "      <td>0</td>\n",
              "      <td>#model   i love u take with u all the time in ...</td>\n",
              "      <td>#model i love u take with u all the time in ur...</td>\n",
              "      <td>#model</td>\n",
              "    </tr>\n",
              "    <tr>\n",
              "      <th>4</th>\n",
              "      <td>5</td>\n",
              "      <td>0</td>\n",
              "      <td>factsguide: society now    #motivation</td>\n",
              "      <td>factsguide: society now #motivation</td>\n",
              "      <td>#motivation</td>\n",
              "    </tr>\n",
              "  </tbody>\n",
              "</table>\n",
              "</div>"
            ],
            "text/plain": [
              "   id  ...                      Hash words\n",
              "0   1  ...                            #run\n",
              "1   2  ...  #lyft #disapointed #getthanked\n",
              "2   3  ...                     No hashtags\n",
              "3   4  ...                          #model\n",
              "4   5  ...                     #motivation\n",
              "\n",
              "[5 rows x 5 columns]"
            ]
          },
          "metadata": {
            "tags": []
          },
          "execution_count": 181
        }
      ]
    },
    {
      "cell_type": "code",
      "metadata": {
        "colab": {
          "base_uri": "https://localhost:8080/"
        },
        "id": "OQBxIRDMaMG1",
        "outputId": "14dcfa64-7a14-489a-a2d3-523b388dbba6"
      },
      "source": [
        " nltk.download('stopwords')"
      ],
      "execution_count": 182,
      "outputs": [
        {
          "output_type": "stream",
          "text": [
            "[nltk_data] Downloading package stopwords to /root/nltk_data...\n",
            "[nltk_data]   Unzipping corpora/stopwords.zip.\n"
          ],
          "name": "stdout"
        },
        {
          "output_type": "execute_result",
          "data": {
            "text/plain": [
              "True"
            ]
          },
          "metadata": {
            "tags": []
          },
          "execution_count": 182
        }
      ]
    },
    {
      "cell_type": "code",
      "metadata": {
        "id": "CJNOGe7E2Gol"
      },
      "source": [
        "#Removing stopwords\r\n",
        "data_frame['clean_tweet'] = data_frame['clean_tweet'].apply(lambda x : ' '.join([word for word in x.split() if not word in set(stopwords.words('english'))]))"
      ],
      "execution_count": 183,
      "outputs": []
    },
    {
      "cell_type": "code",
      "metadata": {
        "colab": {
          "base_uri": "https://localhost:8080/",
          "height": 198
        },
        "id": "T_BL2ViU2Gsn",
        "outputId": "66af9715-e647-440b-a644-cbb1d4a284a6"
      },
      "source": [
        "data_frame.head()"
      ],
      "execution_count": 184,
      "outputs": [
        {
          "output_type": "execute_result",
          "data": {
            "text/html": [
              "<div>\n",
              "<style scoped>\n",
              "    .dataframe tbody tr th:only-of-type {\n",
              "        vertical-align: middle;\n",
              "    }\n",
              "\n",
              "    .dataframe tbody tr th {\n",
              "        vertical-align: top;\n",
              "    }\n",
              "\n",
              "    .dataframe thead th {\n",
              "        text-align: right;\n",
              "    }\n",
              "</style>\n",
              "<table border=\"1\" class=\"dataframe\">\n",
              "  <thead>\n",
              "    <tr style=\"text-align: right;\">\n",
              "      <th></th>\n",
              "      <th>id</th>\n",
              "      <th>label</th>\n",
              "      <th>tweet</th>\n",
              "      <th>clean_tweet</th>\n",
              "      <th>Hash words</th>\n",
              "    </tr>\n",
              "  </thead>\n",
              "  <tbody>\n",
              "    <tr>\n",
              "      <th>0</th>\n",
              "      <td>1</td>\n",
              "      <td>0</td>\n",
              "      <td>@user when a father is dysfunctional and is s...</td>\n",
              "      <td>father dysfunctional selfish drags kids dysfun...</td>\n",
              "      <td>#run</td>\n",
              "    </tr>\n",
              "    <tr>\n",
              "      <th>1</th>\n",
              "      <td>2</td>\n",
              "      <td>0</td>\n",
              "      <td>@user @user thanks for #lyft credit i can't us...</td>\n",
              "      <td>thanks #lyft credit can't use cause offer whee...</td>\n",
              "      <td>#lyft #disapointed #getthanked</td>\n",
              "    </tr>\n",
              "    <tr>\n",
              "      <th>2</th>\n",
              "      <td>3</td>\n",
              "      <td>0</td>\n",
              "      <td>bihday your majesty</td>\n",
              "      <td>bihday majesty</td>\n",
              "      <td>No hashtags</td>\n",
              "    </tr>\n",
              "    <tr>\n",
              "      <th>3</th>\n",
              "      <td>4</td>\n",
              "      <td>0</td>\n",
              "      <td>#model   i love u take with u all the time in ...</td>\n",
              "      <td>#model love u take u time urð±!!! ððð...</td>\n",
              "      <td>#model</td>\n",
              "    </tr>\n",
              "    <tr>\n",
              "      <th>4</th>\n",
              "      <td>5</td>\n",
              "      <td>0</td>\n",
              "      <td>factsguide: society now    #motivation</td>\n",
              "      <td>factsguide: society #motivation</td>\n",
              "      <td>#motivation</td>\n",
              "    </tr>\n",
              "  </tbody>\n",
              "</table>\n",
              "</div>"
            ],
            "text/plain": [
              "   id  ...                      Hash words\n",
              "0   1  ...                            #run\n",
              "1   2  ...  #lyft #disapointed #getthanked\n",
              "2   3  ...                     No hashtags\n",
              "3   4  ...                          #model\n",
              "4   5  ...                     #motivation\n",
              "\n",
              "[5 rows x 5 columns]"
            ]
          },
          "metadata": {
            "tags": []
          },
          "execution_count": 184
        }
      ]
    },
    {
      "cell_type": "code",
      "metadata": {
        "id": "fITVWcu02GwD"
      },
      "source": [
        "#Lemmitization\r\n",
        "lemmatizer = WordNetLemmatizer()\r\n",
        "data_frame['clean_tweet'] = data_frame['clean_tweet'].apply(lambda x : ' '.join([lemmatizer.lemmatize(word) for word in x.split()]))"
      ],
      "execution_count": 185,
      "outputs": []
    },
    {
      "cell_type": "code",
      "metadata": {
        "id": "vmhwS0mj2GzL"
      },
      "source": [
        "#Stemming\r\n",
        "ps = PorterStemmer()\r\n",
        "adwait = data_frame\r\n",
        "#adwait.head()\r\n",
        "data_frame['clean_tweet'] = data_frame['clean_tweet'].apply(lambda x : ' '.join([ps.stem(word) for word in x.split()]))"
      ],
      "execution_count": 186,
      "outputs": []
    },
    {
      "cell_type": "code",
      "metadata": {
        "colab": {
          "base_uri": "https://localhost:8080/",
          "height": 198
        },
        "id": "o6aF-Mbu2G0w",
        "outputId": "34fd6755-062e-477d-bcc5-fe196d91f4b7"
      },
      "source": [
        "data_frame.head()"
      ],
      "execution_count": 187,
      "outputs": [
        {
          "output_type": "execute_result",
          "data": {
            "text/html": [
              "<div>\n",
              "<style scoped>\n",
              "    .dataframe tbody tr th:only-of-type {\n",
              "        vertical-align: middle;\n",
              "    }\n",
              "\n",
              "    .dataframe tbody tr th {\n",
              "        vertical-align: top;\n",
              "    }\n",
              "\n",
              "    .dataframe thead th {\n",
              "        text-align: right;\n",
              "    }\n",
              "</style>\n",
              "<table border=\"1\" class=\"dataframe\">\n",
              "  <thead>\n",
              "    <tr style=\"text-align: right;\">\n",
              "      <th></th>\n",
              "      <th>id</th>\n",
              "      <th>label</th>\n",
              "      <th>tweet</th>\n",
              "      <th>clean_tweet</th>\n",
              "      <th>Hash words</th>\n",
              "    </tr>\n",
              "  </thead>\n",
              "  <tbody>\n",
              "    <tr>\n",
              "      <th>0</th>\n",
              "      <td>1</td>\n",
              "      <td>0</td>\n",
              "      <td>@user when a father is dysfunctional and is s...</td>\n",
              "      <td>father dysfunct selfish drag kid dysfunction. ...</td>\n",
              "      <td>#run</td>\n",
              "    </tr>\n",
              "    <tr>\n",
              "      <th>1</th>\n",
              "      <td>2</td>\n",
              "      <td>0</td>\n",
              "      <td>@user @user thanks for #lyft credit i can't us...</td>\n",
              "      <td>thank #lyft credit can't use caus offer wheelc...</td>\n",
              "      <td>#lyft #disapointed #getthanked</td>\n",
              "    </tr>\n",
              "    <tr>\n",
              "      <th>2</th>\n",
              "      <td>3</td>\n",
              "      <td>0</td>\n",
              "      <td>bihday your majesty</td>\n",
              "      <td>bihday majesti</td>\n",
              "      <td>No hashtags</td>\n",
              "    </tr>\n",
              "    <tr>\n",
              "      <th>3</th>\n",
              "      <td>4</td>\n",
              "      <td>0</td>\n",
              "      <td>#model   i love u take with u all the time in ...</td>\n",
              "      <td>#model love u take u time urð±!!! ððð...</td>\n",
              "      <td>#model</td>\n",
              "    </tr>\n",
              "    <tr>\n",
              "      <th>4</th>\n",
              "      <td>5</td>\n",
              "      <td>0</td>\n",
              "      <td>factsguide: society now    #motivation</td>\n",
              "      <td>factsguide: societi #motiv</td>\n",
              "      <td>#motivation</td>\n",
              "    </tr>\n",
              "  </tbody>\n",
              "</table>\n",
              "</div>"
            ],
            "text/plain": [
              "   id  ...                      Hash words\n",
              "0   1  ...                            #run\n",
              "1   2  ...  #lyft #disapointed #getthanked\n",
              "2   3  ...                     No hashtags\n",
              "3   4  ...                          #model\n",
              "4   5  ...                     #motivation\n",
              "\n",
              "[5 rows x 5 columns]"
            ]
          },
          "metadata": {
            "tags": []
          },
          "execution_count": 187
        }
      ]
    },
    {
      "cell_type": "code",
      "metadata": {
        "id": "eEMzc1DG2G2b"
      },
      "source": [
        "#Tokenization\r\n",
        "corpus = []\r\n",
        "for i in range(0,31962):\r\n",
        "    tweet = data_frame['clean_tweet'][i]\r\n",
        "    tweet = tweet.lower()\r\n",
        "    tweet = tweet.split()\r\n",
        "    tweet = [ps.stem(word) for word in tweet if not word in set(stopwords.words('english'))]\r\n",
        "    tweet = ' '.join(tweet)\r\n",
        "    corpus.append(tweet)"
      ],
      "execution_count": 188,
      "outputs": []
    },
    {
      "cell_type": "code",
      "metadata": {
        "colab": {
          "base_uri": "https://localhost:8080/"
        },
        "id": "-kNFbqYp26YC",
        "outputId": "62b28894-c9fa-43a4-def8-a5276de0a3d2"
      },
      "source": [
        "#Ensuring all the tweets are tokenized into individual words\r\n",
        "len(corpus)"
      ],
      "execution_count": 189,
      "outputs": [
        {
          "output_type": "execute_result",
          "data": {
            "text/plain": [
              "31962"
            ]
          },
          "metadata": {
            "tags": []
          },
          "execution_count": 189
        }
      ]
    },
    {
      "cell_type": "code",
      "metadata": {
        "colab": {
          "base_uri": "https://localhost:8080/"
        },
        "id": "i-RpgOvh26a-",
        "outputId": "5285e074-7145-4bdf-8366-737d25738fbd"
      },
      "source": [
        "corpus"
      ],
      "execution_count": 190,
      "outputs": [
        {
          "output_type": "execute_result",
          "data": {
            "text/plain": [
              "['father dysfunct selfish drag kid dysfunction. #run',\n",
              " \"thank #lyft credit can't use cau offer wheelchair van pdx. #disapoint #getthank\",\n",
              " 'bihday majesti',\n",
              " '#model love u take u time urð\\x9f\\x93±!!! ð\\x9f\\x98\\x99ð\\x9f\\x98\\x8eð\\x9f\\x91\\x84ð\\x9f\\x91 ð\\x9f\\x92¦ð\\x9f\\x92¦ð\\x9f\\x92¦',\n",
              " 'factsguide: societi #motiv',\n",
              " '[2/2] huge fan fare big talk leave. chao pay disput get there. #allshowandnogo',\n",
              " 'camp tomorrow dannyâ\\x80¦',\n",
              " \"next school year year exams.ð\\x9f\\x98¯ can't think ð\\x9f\\x98\\xad #school #exam #hate #imagin #actorslif #revolutionschool #girl\",\n",
              " 'won!!! love land!!! #allin #cav #champion #cleveland #clevelandcavali â\\x80¦',\n",
              " \"welcom ! i'm #gr8 !\",\n",
              " 'â\\x86\\x9d #ireland consum price index (mom) climb previou 0.2% 0.5% may #blog #silver #gold #forex',\n",
              " 'selfish. #orlando #standwithorlando #pulseshoot #orlandoshoot #biggerproblem #selfish #heabreak #valu #love #',\n",
              " 'get see daddi today!! #80day #gettingf',\n",
              " \"#cnn call #michigan middl school 'build wall' chant '' #tcot\",\n",
              " 'comment! #australia #opkillingbay #seashepherd #helpcovedolphin #thecov #helpcovedolphin',\n",
              " 'ouch...junior angryð\\x9f\\x98\\x90#got7 #junior #yugyoem #omg',\n",
              " 'thank paner. #thank #posit',\n",
              " 'retweet agree!',\n",
              " '#friday! ð\\x9f\\x98\\x80 smile around via ig user: #cooki make peopl',\n",
              " 'know, essenti oil made chemicals.',\n",
              " '#euro2016 peopl blame ha conc goal fat rooney gave away free kick know bale hit there.',\n",
              " 'sad littl dude.. #badday #coneofsham #cat #piss #funni #laugh',\n",
              " \"product day: happi man #wine tool who' #weekend? time open &amp; drink up!\",\n",
              " 'lumpi say . prove lumpy.',\n",
              " '#tgif #ff #gamedev #indiedev #indiegamedev #squad!',\n",
              " 'beauti sign vendor 80 $45.00!! #upsideofflorida #shopalyssa #love',\n",
              " '#smile #media !! ð\\x9f\\x98\\x9cð\\x9f\\x98\\x88 #pressconf #antalya #turkey ! sunday #throwback love! ð\\x9f\\x98\\x8að\\x9f\\x98\\x98â\\x9d¤ï¸\\x8f',\n",
              " 'great panel mediat public servic #ica16',\n",
              " \"happi father' day ð\\x9f\\x92\\x93ð\\x9f\\x92\\x93ð\\x9f\\x92\\x93ð\\x9f\\x92\\x93\",\n",
              " \"50 peopl went nightclub good night 1 man' action mean peopl lost famili forev #rip#orlando\",\n",
              " 'never chanc vote presidenti candid excit cycl look different.',\n",
              " '#alohafriday #time #not #exist #positivevib #hawaiian',\n",
              " 'rip fellow nohern ireland fan sadley pass away tonight!.. gawa, forev sing cheer fire',\n",
              " 'hard monday due cloudi weather. disabl oxygen product today. #goodnight #badmonday',\n",
              " \"unbeliev 21st centuri we'd need someth like this. again. #neverump #xenophobia\",\n",
              " '#taylorswift1989 bull up: domin bull direct whatev want do. w',\n",
              " 'morning~~ #travelingram #dalat #ripinkylif',\n",
              " 'one word tell all: #photoshop. #enoughisenough #dontphotoshopeveryth #wheresallthenaturalphoto',\n",
              " 'oh, #cedarpoint. wait 2 hour valravn line stop working. close.',\n",
              " 'thank sunshine. #thank #posit',\n",
              " 'final finish book work awhile... #bookworm #ontothenextnovel',\n",
              " 'yup, knick fan hard, easier nba fan playoff roll around ð\\x9f\\x98\\x8e',\n",
              " 'life social networking. embrac day.',\n",
              " 'mom share bihday bihday snake! see weekend ð\\x9f\\x99\\x8cð\\x9f\\x8f¼',\n",
              " 'love echeveria blooms#flow #grow #garden #iphonesia #bliss #bloom #basilicabotanica',\n",
              " 'amazing. #i_am #posit #affirm',\n",
              " '#model love u take u time urð\\x9f\\x93±!!! ð\\x9f\\x98\\x99ð\\x9f\\x98\\x8eð\\x9f\\x91\\x84ð\\x9f\\x91 ð\\x9f\\x92¦ð\\x9f\\x92¦ð\\x9f\\x92¦',\n",
              " '#whenev im #someth go #wrong |',\n",
              " 'feel blue #illustr',\n",
              " 'best pa life know are! ð\\x9f\\x98\\x8aâ\\x98\\x80ï¸\\x8fð\\x9f\\x8c¼ð\\x9f\\x8c» â\\x80¦',\n",
              " '#abc2020 get readi 2 remov victum frm #pulseclub #prayfororlando',\n",
              " '#bihday got #nose #job ð\\x9f\\x8e\\x88ð\\x9f\\x90¶ð\\x9f\\x8e\\x89ð\\x9f\\x8e\\x82ð\\x9f\\x8e\\x81 #bihday #petunia love ð\\x9f\\x99\\x83',\n",
              " 'concelebr #albanpilgrimag first time.',\n",
              " 'let scum-baggeri begin.....',\n",
              " 'thank you! ð\\x9f\\x98\\x8dð\\x9f\\x98\\x86 super love it! â\\x9d¤ï¸\\x8f zpamdelacruz #wedding# dolores, capa tarlac.',\n",
              " 'scourg play baroqu piec piano beyond belief',\n",
              " 'let fight #love #peac',\n",
              " 'happi fatherâ\\x80\\x99 day, mr. rayo #video #father #day #rayo #world #hotvideo #video',\n",
              " 'ascot time babe â\\x9d¤ï¸\\x8fâ\\x9d¤ï¸\\x8f #ascot #fashion #monochrom #style #instahappyday',\n",
              " 'weekend..i here!!ð\\x9f\\x99\\x8cð\\x9f\\x98\\x89ð\\x9f\\x98\\x98ð\\x9f\\x92\\x99ð\\x9f\\x98\\x8a #selfi #yolo #xoxo #like4lik',\n",
              " \"happi work conference: right' mindset lead culture-of-develop organ #work #mindset\",\n",
              " \"christina grimmie' last perform shot... via #christinarip #voic #christinagrimmi\",\n",
              " 'readi danc #roar #preschool #student #proudâ\\x80¦',\n",
              " 'realli hu feel :(',\n",
              " 'wife ador miss poland show surgery. name bridget &amp; everything.',\n",
              " 'jealou right now.... #chatiado',\n",
              " \"celebr everi man play fatherli role. father' day#\",\n",
              " \"i'm sure happy.... ð\\x9f\\x91\\x8fð\\x9f\\x8f½ð\\x9f\\x91\\x8fð\\x9f\\x8f½ð\\x9f\\x91\\x8fð\\x9f\\x8f½ hour\",\n",
              " \"ð\\x9f\\x98©the white establish can't blk folx run around love promot great\",\n",
              " 'good morning! journey begins! ð\\x9f\\x98\\x84ð\\x9f\\x91\\x8dð\\x9f\\x8f»ð\\x9f\\x9b³ #travel #yeah #thejourneybegin #helloâ\\x80¦',\n",
              " '# #luv #hottweet like â\\x96¶ â\\x99¥#venusexchangeâ\\x99¥',\n",
              " 'new brochur arrived! exciting!! #awork #solut',\n",
              " 'much stuff happen florida! first #orlando shoot #disneygatorattack two year old kidð\\x9f\\x98¥ð\\x9f\\x90\\x8a',\n",
              " 'ferrari itð\\x9f\\x92ªð\\x9f\\x8f¼ sake championship. gp clearli turn point rb, ferrari,mercs...ð\\x9f\\x98\\x8d',\n",
              " 'ace first test! #proud',\n",
              " \"seek probe #udtapunjab' leak, point finger #amarinder, #aap\",\n",
              " 'wrap #senseaboutmath 6th',\n",
              " \"hey, white people: call peopl 'white' #race #ident #medâ\\x80¦\",\n",
              " 'might be. shown today. regurgit talk point name calling?',\n",
              " 'sometim rai brow rai bar. #golfstrengthandcondit #strong #felixfoisgolf',\n",
              " 'ð\\x9f\\x98\\x80ð\\x9f\\x98\\x80ð\\x9f\\x98\\x80 #greathonour #careerconvo',\n",
              " 'design #innov learn space includ #wateringhol #cave #mountaintop #campfir hâ\\x80¦',\n",
              " '#altright us &amp; insecur lure men #whitesupremaci',\n",
              " \"carri gun help can't take you. gun control stop black market! terror get worse!\",\n",
              " 'use power mind #heal body!! - #altwaystoh #healthi #peace!',\n",
              " 'woohoo!! 5 week go!',\n",
              " 'far away place famili member hu',\n",
              " 'readi rehear tonight new music new videos, look announcement! #midweek #newmu #watchthisspac #guitar',\n",
              " 'monday night 8pm #up channel!!!! final get see fuss about!!!',\n",
              " 'watch new episod',\n",
              " 'offlin nice long night.. ð\\x9f\\x98\\x9a #snapchat #redhead #vermillionr',\n",
              " '15 thing incr #peopl',\n",
              " 'yes! receiv accept letter master back october! #goodtim #histori',\n",
              " 'daughter ride bike around driveway, son play guitar u enjoy ð\\x9f\\x8dº campfire... #summeim #memori',\n",
              " 'omg!!! love station!!! way jam work!!! get work done course!!!! #memori',\n",
              " \"i'll alway hope one day i'll get hug you, think gonna happen anytim soon...\",\n",
              " '#model love u take u time urð\\x9f\\x93±!!! ð\\x9f\\x98\\x99ð\\x9f\\x98\\x8eð\\x9f\\x91\\x84ð\\x9f\\x91 ð\\x9f\\x92¦ð\\x9f\\x92¦ð\\x9f\\x92¦',\n",
              " 'coupl sex fat nake japan girl',\n",
              " '#hump #hump day #humpersð\\x9f\\x98© edwardsville, pennsylvania',\n",
              " 'personali we... gbp 7.99 get here: #shop #cool #home #fun',\n",
              " 'truli sick ppl there.',\n",
              " 'trump call obama resign orlando shootings? boy point. 8 year \"talk\" change.',\n",
              " 'long now!!! #nashvilletour2016 #nashvilleforev ð\\x9f\\x92\\x96ð\\x9f\\x92\\x96ð\\x9f\\x92\\x96',\n",
              " 'â\\x86\\x9d #eur/usd clear 1.1400 barrier, jump fresh 4-week high #blog #silver #gold #forex',\n",
              " 'go la tomorrow!!!',\n",
              " 'thank good friends. #thank #posit',\n",
              " 'still wrap head around fact #christinagrimmi gone. fact man destroy #prayfororlando',\n",
              " \"receiv di can't wait sta bake #eyelid .ð\\x9f\\x98\\x9að\\x9f\\x98\\x9að\\x9f\\x98\\x8eð\\x9f\\x98\\x8eð\\x9f\\x98\\x8eð\\x9f\\x98\\x8e ð\\x9f\\x98\\x89ð\\x9f\\x98\\x89ð\\x9f\\x98\\x89â\\x80¦\",\n",
              " 'play #vigilfororlando #harp #clonakilti #rip via',\n",
              " 'ye ye ye #ihavenofriend #someonecomewithm',\n",
              " 'sunday...ð\\x9f\\x92\\x95 #weekend #relax #icon #woman #sundaymorn #sunday #marilynmonro',\n",
              " \"i'm interest #linguist address #race &amp; . racism #power. #raciolinguist bringsâ\\x80¦\",\n",
              " 'one belov long lost cds, recov thank appl music. !',\n",
              " '#marvel #song #musica #weed #ripchristina #adel #danc (vine',\n",
              " 'mock obama black. #brexit',\n",
              " 'â\\x86\\x9d #under spell brexit referendum - commerzbank #blog #silver #gold #forex',\n",
              " '100 amaz health benefit cucumbers! #healthi !! #altwaystoheal!',\n",
              " '#model love u take u time urð\\x9f\\x93±!!! ð\\x9f\\x98\\x99ð\\x9f\\x98\\x8eð\\x9f\\x91\\x84ð\\x9f\\x91 ð\\x9f\\x92¦ð\\x9f\\x92¦ð\\x9f\\x92¦',\n",
              " 'work ð\\x9f\\x92ªð\\x9f\\x8f»ð\\x9f\\x9a¶ð\\x9f\\x8f¼ #ofw #pinoy #followm #iger #instagood #smile #love #',\n",
              " '#toradora #anim #animeedit made it. #breakup #alon #lone',\n",
              " '50 lap pool, 10k ride done pick gym membership form',\n",
              " '#cotd polar bear climb racing: angri polar bear climb racing, polar bear live cold place look',\n",
              " 'get angry. muslim assassin 50 much.',\n",
              " 'happi snappi ð\\x9f\\x99\\x8cð\\x9f\\x8f¼ wait footbal #footbal #snapchat',\n",
              " 'friday miss you!! #fringes#qcbags#summ ð\\x9f\\x98\\x8eð\\x9f\\x98\\x8eð\\x9f\\x98\\x8eð\\x9f\\x8c\\x9eð\\x9f\\x8c\\x9eð\\x9f\\x8c\\x9eó¾®\\x9eð\\x9f\\x8f»',\n",
              " '#nochebuena #lasvega #usa la vega strip',\n",
              " 'fleurett ð\\x9f\\x91¯ð\\x9f\\x92\\x95 #instaboy#instaman#sefie#septum#friend #smiles#blackandwhit',\n",
              " 'sad branch itâ\\x80\\x99 raini day write tear fli bird #haiku #3line #micropoetri',\n",
              " 'yeah! new button mail ð\\x9f\\x92\\x96 pretty! :) #jewelrymak #button',\n",
              " 'driver hit femal moo river rd #weston. moo killed. driver ok. crew remov anim',\n",
              " 'afterpas. made japan. ï¼\\x83madeinjapan #eo ï¼\\x83cute #fun #cawaii #love #strawberri #tomato',\n",
              " '#peopl protest #trump #republican won-they trump fuher &amp;â\\x80¦',\n",
              " 'need find way spend time alway mind. . . #me #boy #guy â\\x80¦',\n",
              " '[1466047260.15] updat #social #analyt #photooftheday #iger #like',\n",
              " 'anyon know date #doj #fbi becam corrupted? #emailg #hillary2016 #shame #disgrac #ridicul',\n",
              " '#stupid make even #negligence.whi put #sachintendulkar instal u go take off?',\n",
              " 'ð\\x9f\\x98\\x86ð\\x9f\\x92\\x95ð\\x9f\\x8c\\x9fð\\x9f\\x92\\x93â\\x9c¨â\\xad\\x90ï¸\\x8f #ã\\x82\\x86ã\\x82\\x8aã\\x81\\x9dã\\x82\\x93 bihdayð\\x9f\\x8e\\x89 #21thbihday ð\\x9f\\x92\\x93 #bestfriend ð\\x9f\\x8c\\x9f #loveð\\x9f\\x91¼',\n",
              " 'ð\\x9f\\x92\\x8b impoant thing #enjoy life - - itâ\\x80\\x99 matters. life sho. #pooh4u',\n",
              " 'happi bihday chri evansð\\x9f\\x8e\\x87ð\\x9f\\x8e\\x89ð\\x9f\\x8e\\x8að\\x9f\\x8e\\x81ð\\x9f\\x8e\\x82ð\\x9f\\x8e\\x86ð\\x9f\\x8e\\x88 great actor human ð\\x9f\\x98\\x81ð\\x9f\\x98\\x8dð\\x9f\\x98³ð\\x9f\\x98\\x98ð\\x9f\\x98»ð\\x9f\\x98¸ð\\x9f\\x92\\x9cð\\x9f\\x92\\x93ð\\x9f\\x92\\x9e #chrisevan #bihdayâ\\x80¦',\n",
              " 'heas, thoughts, prayer go 50 peopl murder gay nightclub #florida',\n",
              " 'demo guitar new album #newalbum #indi #guitar #echobelli',\n",
              " 'retweet lion pro (@user #tgif #webmaret #seo #commun #manag #weekend...',\n",
              " 'â\\x86\\x9d #nzd/usd: target 100 week sma 0.7190 #blog #silver #gold #forex',\n",
              " \"i'v pretti bad bihday week before, far worst ever. ð\\x9f\\x98\\x92 #bihdayweeksuck #bithday27 #tâ\\x80¦\",\n",
              " \"bless work sa' best lead ladiesð\\x9f\\x98\\x84ð\\x9f\\x98\\x84\",\n",
              " 'happiest place eah ð\\x9f\\x92« #disneysmagickingdom #disney #magickingdom #disneyland #orlandoâ\\x80¦',\n",
              " 'kinda among human again.',\n",
              " \"found i'd exclaim gr8 blain' hair nite. ð\\x9f\\x98\\xad\",\n",
              " '&lt;3 listen beauti best friend sing amaz voic &lt;3 &lt;3 &lt;3 &lt;3 17',\n",
              " 'n #healthi freedom effo present mere mean effo store past. â\\x80\\x93 theodor rooseveltâ\\x80¦',\n",
              " 'know yall 2 aint go know :) #love #commit #trust #faith',\n",
              " 'ye call #michelleobama gorilla racist long thought black peopl betâ\\x80¦',\n",
              " '#newarkfestiv u year wait show sta 3rd year run',\n",
              " \"internet broken can't watch netflix. #mochithepug #puglif\",\n",
              " 'that....then what..busi usual.',\n",
              " 'hbd dick suckin tequila lovin slut, wouldnt want u way ð\\x9f\\x92\\x95ð\\x9f\\x98\\x98 #justalil #butstillontim',\n",
              " 'smaller hand show, barri probabl lie #knick game suck #golfâ\\x80¦',\n",
              " 'good morn friday! everyon weekend? #goodmorn #friday #girl #love #florida',\n",
              " \"challeng #aap' claim 70% #punjabi #drugaddicts, dare prove\",\n",
              " '#tracerequest send deepest condol orlando gay families. zimbabw gay commun hea #touch',\n",
              " 'new selfi \\\\â¤.â¤/ #guy #mato #chapon',\n",
              " 'saturday afternoon chi meet #friend',\n",
              " '#model love u take u time urð\\x9f\\x93±!!! ð\\x9f\\x98\\x99ð\\x9f\\x98\\x8eð\\x9f\\x91\\x84ð\\x9f\\x91 ð\\x9f\\x92¦ð\\x9f\\x92¦ð\\x9f\\x92¦',\n",
              " 'nut &amp; bolts. #bloke',\n",
              " 'aww yeah good bing bong bing bong',\n",
              " 'dawn 2 month see live. excit ð\\x9f\\x98\\x8dð\\x9f\\x98\\x8dð\\x9f\\x98\\x8d #vfest #summer',\n",
              " 'happi 35th bihday shane robe watson!! #bihday #shane #watson #australia #cricker',\n",
              " 'point one finger million point right back you, #jewishsupremacist',\n",
              " 'sad hear announc say \"it may move player one two lead\" #whoknows!',\n",
              " \"#radio1 i'm go #coldplay tonight oh yes.\",\n",
              " 'u think like too? god come me. god keep .',\n",
              " 'terrorist = constitut rights? anoth excu republican appea nra gun control measures. !',\n",
              " '#gloucesterrugbi',\n",
              " 'sad, happened?',\n",
              " 'everyon everyth #sad #togeth #alon #up #down #fine #dandi #lone #exub #depress #half #halfempti',\n",
              " '#mikeashley #sposdirectsham , perhap good exampl need protect #workersright within europe. #euref #remain',\n",
              " 'angri bird stella bad princess #bird #stella #bad #princess birdsstellabadprincess. time post: wedâ\\x80¦',\n",
              " 'check incr made great memori great peopl , ...',\n",
              " 'saw shi last night said \"rip cared\" #realli',\n",
              " \"hilarious, i'm alreadi block ask one, paicularli difficult, question.\",\n",
              " 'devast news. hea go victim families. #orlando #heabreak',\n",
              " '\"happi state arriv at, manner traveling.\" margaret lee #runbeck #happi #quot #inspir',\n",
              " 'safe way heal #acne!! #altwaystoh #healthi #healing!!',\n",
              " 'creat right now. #beat #makingbeat #thursday #work #istandard #akaiproâ\\x80¦',\n",
              " 'wed number 10! ð\\x9f\\x98\\x9cð\\x9f\\x98\\x9cð\\x9f\\x92\\x96ð\\x9f\\x92\\x96ð\\x9f\\x92\\x90ð\\x9f\\x8d¾ð\\x9f\\x8d¾ #wed #weddingpay #love #forev #weddingdressâ\\x80¦',\n",
              " \"we'r look forward attend cipd ireland confer &amp; workshop #cpd #onemoreday\",\n",
              " 'final reach 200 follow #twitch. follow hypu #stream tomorrow! â\\x9d¤',\n",
              " 'word r free, u use em cost you! #verbal #abu #hu #love #adult #teen',\n",
              " 'countri went last year see peopl bring \"bomb\" stadium &amp; come everyth footbal',\n",
              " 'thank cats. #thank #posit',\n",
              " 'time eat bae swalscha ð\\x9f\\x98\\x8dâ\\x9c¨ð\\x9f\\x98\\x8b #dejeun #lunch #happi #love #amoureuxâ\\x80¦',\n",
              " 'ilovethesecret #lawofattract #quiz #love #happi #motiv #success #joy #lifeâ\\x80¦',\n",
              " 'might libtard if... #libtard #sjw #liber #polit',\n",
              " 'go down... #pole #bgp #rozthediva #blackgirlspol #bodyandpol #live #love â\\x80¦',\n",
              " '#argentina2015 attack bull game 3d: realli think head empti around city. side',\n",
              " 'self-serv hypocrite! alway keep eye bounc ball nimrod president.',\n",
              " '#nohcarolina bull up: domin bull direct whatev want do. whe',\n",
              " '#build polar bear climb racing: angri polar bear climb racing, polar bear live cold place loo',\n",
              " 'want reelect money. #ksleg',\n",
              " 'hea #orlando right now. truli cannot imagine. could easili happen anywhere. :(',\n",
              " 'alreemgroup #aly_alshahawi #ad #cute #summer #photographerdubai #sun #hair #mydubaiâ\\x80¦',\n",
              " 'seem like place action montreal :(',\n",
              " 'that, old wash up!',\n",
              " 'spirited. #i_am #posit #affirm',\n",
              " 'thank enteainment. #thank #posit',\n",
              " 'show truli bad brisban',\n",
              " \"can't wait #wimbledon2016\",\n",
              " 'happi man!!! #success #model #entrepreneur #speaker #ff #fresh #confid #fashionâ\\x80¦',\n",
              " '#gala moment ... #day #kid #bipolar #frikiegirl2016 lucki chinatown mall, binondo,â\\x80¦',\n",
              " \"realli take piss. i'm angry. go show valu isn't. complet utter moron.\",\n",
              " 'take #trash america... - vote #hate - vote - vote - votâ\\x80¦',\n",
              " 'father day #amaz #dad give much families! #enjoy your...',\n",
              " '#magnettherapi realli work? #altwaystoh #heal #healthi !!',\n",
              " 'sebbo said all!',\n",
              " 'ð\\x9f\\x98\\x81ð\\x9f\\x98\\x81ð\\x9f\\x98\\x81â\\x9d¤ï¸\\x8f egã\\x80\\x9cï¼\\x9fï¼\\x9fï¼\\x9f smile!!!!!â\\x9d¤ï¸\\x8fð\\x9f\\x97£ð\\x9f¤\\x98ð\\x9f\\x8f½ ã\\x83» #smile#egsmil #torio',\n",
              " 'brilliant servic ketter branch today custom',\n",
              " 'screening. miss it. sing song potp shock treatment, can.',\n",
              " 'way toraya #bu #alamindah #white #music #carrieunderwood',\n",
              " '#model love u take u time urð\\x9f\\x93±!!! ð\\x9f\\x98\\x99ð\\x9f\\x98\\x8eð\\x9f\\x91\\x84ð\\x9f\\x91 ð\\x9f\\x92¦ð\\x9f\\x92¦ð\\x9f\\x92¦',\n",
              " 'good day - 6 new beer bridpo food &amp; beer fest. back campsit drunk starstruck &amp; move #5.',\n",
              " 'g l ð\\x9f\\x92\\x99 repost #propey #ocean #summer #life #famili sydneyâ\\x80¦',\n",
              " 'want teach love like never felt before. #quot #quot #love #pakistan #allin216 #girl #boy #fashion #feel',\n",
              " 'thank now. #thank #posit',\n",
              " \"oh god! 100 day left!! #countdown #nolefam can't wait come milan! #22092016 ð\\x9f\\x98\\x8dð\\x9f\\x94\\x9c\",\n",
              " 'stone rose done. time club. day',\n",
              " '\"there\\' reason two peopl stay together, give someth nobodi el can.\" hopelli great day',\n",
              " 'never know might crush you! #wakow #buzz #moment #ride #love #crush #date #hookup #app',\n",
              " 'friend got engag ð\\x9f\\x91©â\\x80\\x8dâ\\x9d¤ï¸\\x8fâ\\x80\\x8dð\\x9f\\x92\\x8bâ\\x80\\x8dð\\x9f\\x91©',\n",
              " '298 day lef b4 end classez yay #risay18 #risaypl',\n",
              " '#thursday ð\\x9f\\x98\\x8a may watch say need saidâ\\x80¦',\n",
              " 'legendary. #i_am #posit #affirm',\n",
              " 'unit state america, rest world: think proven right firearms.',\n",
              " \"hold open door woman woman nice thing do, that' . even tri deni\",\n",
              " 'good weekend show :) #thank #bless // #jeffreycwilliam ð\\x9f\\x92\\x8eâ\\x80¦',\n",
              " 'good hea help everyon alway seem one get hu #buttru',\n",
              " 'happiest babi ive ever knownð\\x9f\\x92\\x93 #cute #smile #babygirl #beauti #niec #bless #xo',\n",
              " 'readi #t.b.c ? #oneteamlincoln are... ð\\x9f\\x98\\x8d',\n",
              " \"can't wait carowinds! readi see time #rockthepark #timetogetmyjesuson\",\n",
              " 'alreadi bought find dori ticket',\n",
              " 'everi minut lose sixti second #happi - ð\\x9f\\x98ª',\n",
              " '#sanjapan #animeconv see guy september!',\n",
              " 'question day: excit motoâ\\x80\\x99sâ\\x80¦ #tech #announc #moto_ #question',\n",
              " 'make today count! #mondaymotiv #livelifetothefullest #healthi #everydaycount',\n",
              " 'happi morn 8degr anna #classmat #friend 92â\\x80¦',\n",
              " 'would u abl suppo event #brentwood #homesta lost fund may close',\n",
              " 'happi littl peopl ð\\x9f\\x98\\x8a happyhappi peopl #kitten #cat #blackkittenâ\\x80¦',\n",
              " 'thank much oppoun cherish forev ð\\x9f\\x87¿ð\\x9f\\x87¦ð\\x9f\\x8d» ð\\x9f\\x8f\\x89ð\\x9f\\x92ªð\\x9f\\x8f»ð\\x9f\\x91\\x8dð\\x9f\\x8f¼',\n",
              " 'ð\\x9f\\x93· themeowood: puppi',\n",
              " 'day till ? ð\\x9f\\x98\\x8d',\n",
              " '\"happy\" pharrel william #pharrellwilliam lyric â\\x86º',\n",
              " 'happi w.ork conference: right mindset lead culture-of-develop organ #workâ\\x80¦',\n",
              " 'lost anoth member famili yesterday:-( #gut #rosi',\n",
              " 'yayyy.... trailer 2morrow #fever super',\n",
              " 'watch fanci tails\\' vine \"mad #mad #teeth #bite #piss #dog #bite #dogbit #dogtreat',\n",
              " '#dreamcatch bull up: domin bull direct whatev want do.',\n",
              " \"i'm readi tomorrow ð\\x9f\\x91\\x93ð\\x9f\\x93\\x9að\\x9f\\x93\\x9að\\x9f\\x93\\x9að\\x9f\\x93\\x96ð\\x9f\\x93\\x91#englishteach #teacher #ecuador\",\n",
              " 'memori wonder dad, alway missed, etern loved. #strong #greatquotesâ\\x80¦',\n",
              " 'dalla shoot \"the video see disturbing, viewer discretion\" play loop oveâ\\x80¦',\n",
              " \"#itako#alone#it' fine. little.\",\n",
              " 'sunshin &amp; sticker kind saturday ð\\x9f\\x91¸ð\\x9f\\x8f½ #letthembelittl #childhoodunplug',\n",
              " 'wonder day today â\\x98\\x80ï¸\\x8f #calm #sunni #chubbygirl #glass #finnishgirl #finn',\n",
              " 'buka bersama tma family... #yuhuuuuu #tmaâ\\x80¦ (w/ risha, meylucky, &amp; 3 mayfair townhouse) [pic] â\\x80\\x94',\n",
              " 'love know.ð\\x9f\\x98\\x8að\\x9f\\x92\\x96 #nationalbestfriendsday #true',\n",
              " 'man ran governor ny, state biggest african-american popul #â\\x80¦',\n",
              " '#stereotyp #prejud offer #hope solut creat old repetit #hate #conflictâ\\x80¦',\n",
              " 'get pussi quicker day ð\\x9f\\x98\\x94',\n",
              " \"i'll probabl 30 time come back home #ugh\",\n",
              " '#model love u take u time urð\\x9f\\x93±!!! ð\\x9f\\x98\\x99ð\\x9f\\x98\\x8eð\\x9f\\x91\\x84ð\\x9f\\x91 ð\\x9f\\x92¦ð\\x9f\\x92¦ð\\x9f\\x92¦',\n",
              " 'anyon play voez? kinda love game ð\\x9f\\x98\\x98ð\\x9f\\x98\\x98ð\\x9f\\x98\\x98 #game #game #girlgam #voez',\n",
              " 'many#pol pass mani time said nothing? #bluelivesmatt #draintheswamp #ferguson',\n",
              " 'sequoia #weekend!',\n",
              " 'bitch care eyebrow much $$$ makin end week',\n",
              " 'bham pride paradeready#beyou# #ofbham',\n",
              " '#fathersday guy play dad #love ð\\x9f\\x92\\x95',\n",
              " '#æ\\x9c´å®\\x9då\\x89\\x910616ç\\x94\\x9fæ\\x97¥å¿«ä¹\\x90 bihday bogummy!!!lov forever!hop happi everyday!good night!ð\\x9f\\x92\\x95@u',\n",
              " 'wish client babi goat cuddle!',\n",
              " '#positivevib #fresh love guys. get some!!! concord mill mall',\n",
              " '#conjuring2 get readi scared! tonight on! #readyornot #truestori',\n",
              " 'â\\x80\\x9ctoday day make change. elimin neg choo live posit lifestyl instead.â\\x80\\x9d',\n",
              " 'aaahh! nabilah look ð\\x9f\\x98\\x8d arigat jkt48! happi daaay â\\x98ºï¸\\x8f #iwearbanana',\n",
              " 'last day work tomorrow me- self employ monday #scare #redditchbizhour',\n",
              " 'im half boy half man.... im dumb too?? ð\\x9f\\x98¢ð\\x9f\\x98\\x82',\n",
              " 'happi littl boy! #smile #corbinrayp',\n",
              " \"never appropriate: zero idea i'm feel right #scare #missyou #whatwasthat\",\n",
              " 'magnif monday! #mondaymorn #mondaymotiv #monday #indraloka',\n",
              " 'dont understand design print anim fabric, bought muzlin 5b #sanasafinaz #noexchangepolici',\n",
              " 'mayb 4 happi hour get \" #ending\" ó¾®\\x97ó¾\\x8cµó¾\\xad»',\n",
              " '#littlebear friend #joy #toddlerfriend #puresweet #latergram #toddlerfun',\n",
              " 'never lost love one senseless violenc get fuck opinion 2nd amend',\n",
              " 'world heading? could lose life leav home. #orlando',\n",
              " 'heard say that, tri lock shooter in, kept patron get out!',\n",
              " 'good mood flight munich interviews! #pharrel',\n",
              " 'first present netherland',\n",
              " 'u made u proud hv read ur word &amp; assur b assoment petit emot wish u best.',\n",
              " 'happi v joy. happi temporari leaf u hu. joy last forev never leaves. #real #tru',\n",
              " 'twinklatinboy - na: #slut #snapshot #hot #nasti #naughti #sexi #horni #shi #porn #nude #kinki #xxx #y...',\n",
              " 'peopl thankful. thank peopl happy. #thankfulthursday',\n",
              " 'creative. #i_am #posit #affirm',\n",
              " 'held back tears. cri happi tear &amp; final leav week tomorrow!!! #canadianrav',\n",
              " 'bihday pressi mummi granni #michaelkor #luckygirl #bihday #liverpool',\n",
              " 'stuck athen instead santorini said windi land! shock servic everi level since!â\\x80¦',\n",
              " 'happi folk first #freakshak launch. #freak #yum #dalston',\n",
              " '\"huge\" crowd trump.',\n",
              " 'thank saturdays. #thank #posit',\n",
              " 'good god, why?! ð\\x9f\\x98³',\n",
              " 'enjoy delici melons! #vegan #organ #fresh #fruit #organ #healthi #healthyliv #life',\n",
              " 'first months, weeks, day till begin end #sad time.ð\\x9f\\x98\\x80ð\\x9f\\x98¢',\n",
              " 'firework!! weeheeeee~ ð\\x9f\\x8e\\x87ð\\x9f\\x8e\\x87ð\\x9f\\x8e\\x87ð\\x9f\\x92\\x83ð\\x9f\\x8f»ð\\x9f\\x92\\x83ð\\x9f\\x8f»ð\\x9f\\x92\\x83ð\\x9f\\x8f»ð\\x9f\\x98\\x81ð\\x9f\\x98\\x81ð\\x9f\\x98\\x81 â\\x80¦',\n",
              " '#blackpool attack bull game 3d: realli think head empti around city. side',\n",
              " '#fathersday amaz father today.',\n",
              " 'want . much ask for? ð\\x9f\\x99\\x84',\n",
              " 'readi waiting! #newblood16',\n",
              " \"i'm sad. aunt pass away. 96. #funer\",\n",
              " '7 horribl ad #2016 made u cring',\n",
              " 'mind robson-kanu s6. decent player. avail free transfer',\n",
              " \"come ...you better this. plea put 's shoes. unnecessari stress hâ\\x80¦\",\n",
              " \"stalk me. watch me. i'm peon. poor. disabled. kill me.thi #usa usa use 2b proud &amp; univ care. .\",\n",
              " \"#stephcurry' outburst beg question: christian get ? #nbafin\",\n",
              " \"i'm #grate - #affirm\",\n",
              " '8 week go im san antonio bound see cant wait see littl brother! #missyou #mybrotherskeep',\n",
              " 'listen &gt;&gt;&gt;&gt;&gt;&gt;&gt;',\n",
              " '\"the die light\" villag green/townâ² #antisemit #hocoschool #columbiamd #hocomd',\n",
              " 'hahaha.. last #friday &amp; #weird',\n",
              " 'hey, notic u train lover, ask u check free app, known \"mi training\" appl',\n",
              " 'sexi fuck #direct #niall #nialhoranfact #niallerwin #hot #justindrewbieb #justindb #believetou...',\n",
              " '#father\\'sday! say \"i love you\" dad right now! #sanya #whererefreshingbegin',\n",
              " 'guess back, back again! #lifeaftersurgeri ð\\x9f\\x91\\x8fð\\x9f\\x8f¼#dog #dogslif #labrador #labradorretriev #lifeofsam',\n",
              " 'hey superspoilt, may want check latest updat #glastofest ð\\x9f\\x94¥_',\n",
              " 'bihday sid... god bless you.. hav success career',\n",
              " 'nba final = ambiv , love steph thompson, kyri stink up, green class doosh, lebron talk guillermo',\n",
              " \"check product team' web-seri episod edit truly. #mep #webseri\",\n",
              " '#model love u take u time urð\\x9f\\x93±!!! ð\\x9f\\x98\\x99ð\\x9f\\x98\\x8eð\\x9f\\x91\\x84ð\\x9f\\x91 ð\\x9f\\x92¦ð\\x9f\\x92¦ð\\x9f\\x92¦',\n",
              " \"never answer statement #nazi' #hatred, &amp; #bigotri found wâ\\x80¦\",\n",
              " '#juneteenth #independenceday #food4thought #rich #ancestr #heritag independ hall',\n",
              " '#river gorilla simulator: need adapt environment. need tear city. materi',\n",
              " \"watch leadership embrac &amp; kiss donald' #pathet &amp; . pay. pay racism &amp; hate. #ripgop\",\n",
              " 'love matur ageð\\x9f\\x98\\x87 ð\\x9f¤\\x91ð\\x9f\\x98',\n",
              " 'aww yeah good bing bong bing bong',\n",
              " 'good feel happens. #smile #instalik #instamood #instap',\n",
              " 'check #graffiti #dublin #ireland #music #vimeo #movi #video #europ #peopl #flow #fun #rafalwojcicki',\n",
              " '#oitnbseason4 2 days!!! aaahhhhh',\n",
              " '#iamposs today! #extraordinaryladyspeak #staraward htâ\\x80¦',\n",
              " 'sun out! happi thursday! â\\x98\\x80ï¸\\x8fð\\x9f\\x8c»â\\x98\\x80ï¸\\x8fð\\x9f\\x8c»â\\x98\\x80ï¸\\x8f #breakfast #sun #day #sunnyday #sun #blueâ\\x80¦',\n",
              " 'pack sneak-peek! work #yellowjacket #neshl 2016! #bhl #hockey',\n",
              " 'toni sunday! #tonyaward',\n",
              " \"happi father' day 2016 dad dad' there!! #fathers#day #2016\",\n",
              " \"theverdict in; i'm idiot #countri #rock #bluegrass #beatl #love #pop #romanc\",\n",
              " 'â\\x86\\x9d #project week, june 13, 2016 #blog #silver #gold #forex',\n",
              " '#300dayshappi #dayseventyseven #day77 #happi #love#lifequot #lifeâ\\x80¦',\n",
              " 'littl brother higher toler alcohol me! lol',\n",
              " 'wish guy #bihday !! blaze say spit imag aâ\\x80¦',\n",
              " 'thank hike trails. #thank #posit',\n",
              " 'pay meet tackl movi uncov problem want world know.',\n",
              " 'chill relax piano music keep pet #quiet #july4th #firework â\\x80¦',\n",
              " 'might libtard if... #libtard #sjw #liber #polit',\n",
              " \"noth say 'merica, like tweet.\",\n",
              " 'alway #paratyphoid',\n",
              " '\"today lost #thevoic sister senselessli - sing love death people.\" #stoptheh #ripchristina',\n",
              " 'guy concern twitter \"brand\" honest followers.',\n",
              " 'hate like 90% family.... realli born big toxic bomb! mother fucker give fuck cuz got money',\n",
              " 'get #up get get #enjoy #music #today #free #app #free #music',\n",
              " 'best #lawofattract #resourc #healing! #altwaystoh #healthi ! #idwp !',\n",
              " 'trump ny co-chair make racist remark michel obama #p2 #p21 #fyi #tcot',\n",
              " 'fan? make',\n",
              " '#music #therapi tool #healing! #altwaystoh #healthi !!',\n",
              " 'food make famili fight mxm',\n",
              " 'delici sangria#salud#ch #smile pub pembrok',\n",
              " 'fabul weekend beauti soul #nofilt ð\\x9f\\x98\\x98',\n",
              " \"i'm feel #overwhelm look see million reason #happi again. love craig!!\",\n",
              " 'back day job shane lowry!',\n",
              " 'hour right now! 2-4-1 bottl &amp; drink 4-7pm 42 w. chippewa st. #buffalo',\n",
              " 'ana + nimra + farishta + mawia + khushal 960 + 952 + 503 + 484 + 435 = 3334 number mark obtain damn high :p',\n",
              " 'monday empti without bachelorett ð\\x9f\\x98©ð\\x9f\\x8c¹ð\\x9f\\x8d· #thebachelorett #empti #nowin',\n",
              " \"suppo family, god, chivalry, tradition, pride one' heritag controversial.\",\n",
              " 'pic say otherwi young girl confin kitchen. void meaning, beyond cheap public #topoli',\n",
              " '#good night! ?? #faith ever #vaitacacommafiasdv',\n",
              " 'love simpli love it. #love #success #work #businessâ\\x80¦',\n",
              " 'lunchtim mom. #torrington #lunch #afterschool #instadaili #yummi #withmom',\n",
              " \"sister ain't even know watch argu nigga ð\\x9f\\x98\\x82ð\\x9f\\x98\\x82ð\\x9f\\x98\\x82 wait say wrong shit\",\n",
              " 'ride out, ride back ...done! #cycl #sunset #ride #bike #fit #cardio #deseâ\\x80¦',\n",
              " 'well gonna go see adtr bae...',\n",
              " '#tagsforlik #me #food#friends#summer#swag#quot #love#god#girl #weekend #polaroid #followm #teen #win#job',\n",
              " '#payintheusa polar bear climb racing: angri polar bear climb racing, polar bear live cold place',\n",
              " '11:11 healthi famili',\n",
              " 'dream palace, move already? #stellar #girl #dreami #goodmorn daysâ\\x80¦',\n",
              " 'im wait follow sinc x factor',\n",
              " 'fault use pointscore.',\n",
              " 'week sta kinda lame get better! #yay #wednesdaywisdom',\n",
              " \"#forev young man luk hot wen temper i'll b alwi ur fan till lst breathâ\\x98º hâ\\x80¦\",\n",
              " 'worri #bee',\n",
              " 'doubl tap follow #beauti #smooth #lifestyl #skin #insta #f4f #fashion â\\x80¦',\n",
              " '#lawofattract #heal #loa #healthi #well #idwp !',\n",
              " 'â\\x86\\x9d #oil turn flat $50.40, eye eia inventori data fuher direct #blog #silver #gold #forex',\n",
              " \"train new employee' fun. #newblood\",\n",
              " '#first #bihday #puppi #eloi #sweetbabin #dog #growingup #cute #bihdaygirl',\n",
              " '- 5,000 pig burn aliv saskatchewan barn fire (video)',\n",
              " 'never convinc american right bear these. #prayfororlando #guncontrol',\n",
              " 'beauti ladies!!! bless know !!ó¾\\x8c¬ó¾\\x8c¬. #smile #lovethemâ\\x80¦',\n",
              " 'today baba siddiqu ifftar pay mumbai. &amp; dono ayenge. see',\n",
              " 'hand | #ombr #blue',\n",
              " \"can't wait go see warcraft, ugh ð\\x9f\\x98\\xadð\\x9f\\x98\\xadð\\x9f\\x98\\xad #warcraft\",\n",
              " 'cousin reunited... #family#fun@u well',\n",
              " \"'an audienc duan henri ' ....should insight\",\n",
              " \"train move i'm bing tweet\",\n",
              " 'lover stop angri visit us..&gt;&gt;&gt; #lover #friend #astrolog #love',\n",
              " 'block troll promi #blacklivesmatt &amp; let nonsen rant boosâ\\x80¦',\n",
              " \"father' day dad one' heaven\",\n",
              " '#sdl326am june 16',\n",
              " 'creepi awesom baboon climb fire escap like human #summev #zoo',\n",
              " 'use power mind #heal body! #altwaystoh #healthi !!',\n",
              " \"dude i'm tiger! #roar #tiger #annaswelshzoo #bihdaycelebr\",\n",
              " \"#laugh we'r happy... we'r laugh. - william james. #xtra\",\n",
              " 'happi sunday everyone! think today go good day :) #positivevib #sunshin #sunday',\n",
              " \"talk way organ dehuman us? they'r never held accountable?\",\n",
              " 'stuck rat race? find freedom. #masterkeyexperi',\n",
              " \"study... #face #pizza (i stole roommate' idea take pic)\",\n",
              " 'dinner sister!! ð\\x9f\\x98\\x8aâ\\x9d¤ï¸\\x8fð\\x9f\\x91¯ð\\x9f\\x8e\\x89 #sisteradventur #sister #ilovemysisterâ\\x80¦',\n",
              " 'el plan watch tomorrow? ð\\x9f\\x98\\x8d ð\\x9f\\x98\\x83',\n",
              " \"#usn rifl day 'snow out', ar-15 closest m-16 ever got. #navi\",\n",
              " 'euro 2016: bbc pundit make predict franc #euro sta today -',\n",
              " 'happy! ð\\x9f\\x98\\x8eð\\x9f\\x98\\x8e #happi #minion',\n",
              " 'elder scroll mani years?!! wah wah #bethesda #e3 #e32016',\n",
              " 'poor #tiggi ð\\x9f\\x98¢ littl bit cheeki #jax &amp; ð\\x9f\\x98\\x88 #soa #throwbackthursday',\n",
              " 'cannot wait #eurogam year! #pump #eurogamer2016',\n",
              " 'work russell.beckwith soon #staytun ð\\x9f\\x93¸: friend lyle!! #tapfoag ..â\\x80¦',\n",
              " 'nazi studi american race law inspir â\\x80\\x93 #ushistori #eugen',\n",
              " 'share ice cream #sun #love #outdoor #picnic #summer #famili #daughter #father #dess #icecream',\n",
              " 'noth like river island sale shop spree cheer #retailtherapi #riverisland #shoppingqueen #alwayscheersyouup ð\\x9f\\x91¸ð\\x9f\\x8f¼',\n",
              " \"clean ze hou zo ziy laundry. ã\\x83\\x84 i'm final free fever colds. â\\x88©__â\\x88©i'm happy! #clean #laundryday\",\n",
              " '2 new list up! #ebay #woohoo #sell #sell #buy #shop #shop',\n",
              " 'thank challenges. #thank #posit',\n",
              " 'chill night ice cream&amp; grown up2! #chill',\n",
              " '#biher absolut origin hate #bigotri #altright hatr african american #potu #theresist',\n",
              " '* sweet ð\\x9f\\x8d°ð\\x9f\\x8d©ð\\x9f\\x8d¬ð\\x9f\\x8d\\xadð\\x9f\\x8d«â\\x9c¨!!!!!! * #instagood #ì\\x95\\x84ì\\x9d´ë\\x8f\\x8c #å\\x81¶å\\x83\\x8f #idola #idol #à¹\\x84à¸\\xadà¸\\x94à¸\\xadà¸¥ #followm #selfi #ã\\x81©ã\\x82\\x8bã\\x81\\x88ã\\x82\\x8câ\\x80¦',\n",
              " 'tragedi america first kill #christinagrimmi #orlando #america safe place today!',\n",
              " 'â\\x86\\x9d #brexit angst factor help drive interest rate germani japan - bbh #blog #silver #gold #â\\x80¦',\n",
              " 'fab &amp; interest day #eacbpm. dash quiet place dial iiba emea region meet #busi :)',\n",
              " \"kayak, sup, snorkel, swim...whatev pleasure, we'll put together! #alohabeachbu #hawaii #explor\",\n",
              " 'u hold man year ...and watch chang u hear say.. loyalty.. no...',\n",
              " \"we'll back go tacloban now! see ya later!ó¾\\x8cµâ\\x9d¤ #great â\\x80\\x94 travel tacloban citi catbalogan\",\n",
              " 'feel that? olymp medal',\n",
              " 'angri bird il film download ita â\\x80\\x93 720p hdtc (2016) #bird #download #film #il #ita',\n",
              " '#sunday ð\\x9f\\x98\\x98 #photo #model #urbex #topless #tit #mono #retweet # #sexi #heel #ace',\n",
              " 'fo woh offic viral arrest video â\\x80\\x98rude racistâ\\x80\\x99: chief #crime #officerâ\\x80¦',\n",
              " 'saturday friend',\n",
              " 'yayyyi friend got marri today ð\\x9f\\x91°ð\\x9f\\x91°ð\\x9f\\x91°ð\\x9f\\x91«ð\\x9f\\x91« congratul guys. â\\x9d¤ï¸\\x8fâ\\x9d¤ï¸\\x8f #shegotmarri â\\x80¦',\n",
              " '#model love u take u time urð\\x9f\\x93±!!! ð\\x9f\\x98\\x99ð\\x9f\\x98\\x8eð\\x9f\\x91\\x84ð\\x9f\\x91 ð\\x9f\\x92¦ð\\x9f\\x92¦ð\\x9f\\x92¦',\n",
              " 'lewi remain perfect, ranger announc gonna stroke out.',\n",
              " 'chri back #soccer miss #spring #season brokenâ\\x80¦',\n",
              " 'train ticket book opera week wale',\n",
              " 'beauti day..... #sun #fun #beachpark beach park',\n",
              " 'big screen fit right #euros2016',\n",
              " 'love stori happi ending. #anim #love #stori #not #end #like4likeâ\\x80¦',\n",
              " '#poet bull up: domin bull direct whatev want do. sta',\n",
              " 'tranquil. #i_am #posit #affirm',\n",
              " 'name upcom new track? ð\\x9f\\x98\\x81ð\\x9f\\x98\\x81 #2pm #kpop',\n",
              " 'best #essentialoil #anxieti !! #healthi #peac !! #altwaystoh !!',\n",
              " \"wow people' child noth better insult peopl twitter . .\",\n",
              " 'think mayb bought instead #gettingold #becomingbor #notborderland #goblizzard',\n",
              " 'fact album hour away drip lose mind.. #fatkidinacandystor',\n",
              " 'ryderrideu - see c2c cum together: #snapshot #young #shi #kinki #wet #porn #hot #xxx #horni #s...',\n",
              " 'ð\\x9f\\x8c¸ð\\x9f\\x8c»ð\\x9f\\x8c¼ð\\x9f\\x8d\\x83ð\\x9f\\x8cº snapchat: gaby_china20 #love #girl #snapchat #flower #instasmil #instaloveâ\\x80¦',\n",
              " 'brilliant. #i_am #posit #affirm',\n",
              " 'true :/ nigga dont go look apament go look shoe jewelri',\n",
              " 'safe way heal #acne!! #altwaystoh #healthi #healing!!',\n",
              " '#msgapparelstoday u r special 4 u father day',\n",
              " 'camp next weekend. #lovecamp #brownwood',\n",
              " \"i'm #grate - #affirm\",\n",
              " '#forev besti ð\\x9f\\x92\\x8b #karaok #friend #friendship #love #nofilt #instacool #instagood â\\x80¦',\n",
              " 'absolut love place. fantast welcom carlos, receptionist. 5th time here. room request grant usual. #318',\n",
              " 'head #thealter peculiar family!',\n",
              " 'â\\x86\\x9d #u retail sale control group like rose 0.2% m/m may â\\x80\\x93 dansk bank #blog #silver #gold #forex',\n",
              " 'happi father day. love life &amp;th best father world. â\\x9d¤ï¸\\x8fð\\x9f\\x98\\x98 #fathersday #love',\n",
              " 'coolestlifehack: world smallest snake #motiv',\n",
              " \"shockingli increasingli #violent #world live #uk gun control laws. feel mp' famili &amp; friend\",\n",
              " '? #funni ? simpli #truestori :)',\n",
              " 'happi bihday me!... brithday day holiday #monday #menmodelsâ\\x80¦',\n",
              " 'sadden no-on thought groom posit ask opinion issue.',\n",
              " 'ukrainian athlet grosseto ... watch livestream without see same...',\n",
              " 'new season oitnb sta tonight ð\\x9f\\x99\\x8cð\\x9f\\x8f¼ #oitnbseason4 ð\\x9f\\x98¬ð\\x9f\\x98¬',\n",
              " 'excit side cuain tonight. look forward see broadwayâ\\x80¦',\n",
              " 'quay collab say sold out!!!ð\\x9f\\x98©ð\\x9f\\x98«ð\\x9f\\x98©ð\\x9f\\x98«ð\\x9f\\x98©ð\\x9f\\x98«ð\\x9f\\x98©ð\\x9f\\x98«ð\\x9f\\x98©ð\\x9f\\x98«ð\\x9f\\x98©ð\\x9f\\x98«ð\\x9f\\x98© #noooo #whyyyy #loveyoudesi #',\n",
              " \"i'm final get #jordan get #paid #wear too! #lowtopsâ\\x80¦\",\n",
              " 'impressive. #i_am #posit #affirm',\n",
              " \"father' day father make happen ...... #salut y'all ..\",\n",
              " 'view 27th floor! :) #nyc #newyorkc #myview girl #wine #fridaynightâ\\x80¦',\n",
              " \"discuss republican thing critiqu . can't ignor consequences.\",\n",
              " 'got school tomorrow last integr',\n",
              " 'amen!! truth. always. &lt;3 &lt;3 #love #bless',\n",
              " 'stamford kid got 6 month rape.but boredom...it 20 minut action. .',\n",
              " 'let color life w/ rainbow #danian #love #colour #rainbow depok',\n",
              " '#aiel #aielmaharashtra rude custom care execut make want switch loyalti anoth provider. #irrit',\n",
              " 'hi teddi corpuz... #rocksteddi #band #enjoy #idol #omg ð\\x9f\\x98\\x8dð\\x9f\\x98\\x8dð\\x9f\\x98\\x84ð\\x9f\\x98\\x84ð\\x9f\\x98\\x84ð\\x9f\\x98\\x84ð\\x9f\\x98\\x84',\n",
              " \"wow, great daughter are! send father right father' day. #cheapshot #lowblow #shame\",\n",
              " '6 reason happyâ\\x80¦when kid mid-tantrum #parent #tantrum #toddler #calm #mind #strong',\n",
              " 'truthful. #i_am #posit #affirm',\n",
              " 'yup #siri #maco #wwdc2016 - :) woot! next work listen skills?',\n",
              " '#diy done! #dresser #nicknack #newelectricscrewdriv brock london',\n",
              " '#black &amp; feel like stomp you? â\\x80¦ #retweet #tampa #miamiâ\\x80¦',\n",
              " 'problem, one polic officer. need more, bigger gun perhap one tank soldiersâ\\x80¦',\n",
              " \"father' day friends#\",\n",
              " '#choic fall, #alway write candid in.. â\\x80¦',\n",
              " '#ë\\x8b¤ì\\x9d´ì\\x95\\x84_ê·¸ê¸¸ì\\x97\\x90ì\\x84\\x9c_ì\\x8a¤í\\x8a¸ë¦¬ë°\\x8d #ê·¸ê¸¸ì\\x97\\x90ì\\x84\\x9c #ì\\x97°ì\\x8aµì\\x83\\x9d end',\n",
              " \"get know team behind #app that' keep tummi #june #issu #bazaarmagâ\\x80¦\",\n",
              " 'actual go fish today somewh nice â\\x98ºï¸\\x8fð\\x9f\\x98\\x8d.',\n",
              " 'cute, look like dolls.',\n",
              " 'im',\n",
              " 'love vacat ð\\x9f\\x98\\x8a #enjoy #greec #crete #sabinedrift #chillinn #blondegirl #bluedressâ\\x80¦',\n",
              " 'unreal 3 advisor refu take payment!?? say wait pcn custom servic ur site wasnt working??',\n",
              " \"i'm #gamereadi forza horizon pc! time live in...\",\n",
              " 'life better tahiti #summer #life #no_school #tahiti #like',\n",
              " 'know male thought vagina like video game xd #stupidthought #quot #lmao',\n",
              " 'pa pack taken brainwash cheetah #downasquadmemb #treeout',\n",
              " 'â\\x86\\x9d #japan domest corpor good price index (yoy) line expect (-4.2%) may #blog #silver â\\x80¦',\n",
              " 'rememb day peopl #bbuk went becom realiti tv stars, seem realiti tv star becom big brother contestants.',\n",
              " '#allahsoil familiar becom difficult stereotype. . â\\x80¦ â\\x80¦â\\x80¦',\n",
              " '#good #morn ! want live life, tie goal, peopl things.',\n",
              " 'friday &lt;3 #fridayfeel #relax #bristol',\n",
              " 'day porn movi pussi pay pic',\n",
              " 'look easi till turn #rap #hiphop #rock #funni #comedi #pop #kanyewest',\n",
              " 'banner #merri #christma #new #year #freepik #ad #decor newyear',\n",
              " 'yay! thank let know. pa happi man! :-)',\n",
              " 'exam room ð\\x9f\\x98\\xadð\\x9f\\x98\\xadð\\x9f\\x98\\xad #test #tire #annoy #whi',\n",
              " 'best homeopath remedi #anxieti - #altwaystoh #heal #peac !!',\n",
              " 'rest peac christina.',\n",
              " 'bama fool around might rai child. ppl dont think far advance. see \"fun\" whatev',\n",
              " 'anti racist codeword antiwhit asia asian africa african white countri everyonâ\\x80¦',\n",
              " '.@user #periscope: first god babi graduat high school!!! #collegebound',\n",
              " 'nearli folk #nervou #curiou finali stuff pointer grainn #bringiton',\n",
              " 'fellowship. ð\\x9f\\x98\\x8a #lifegroup',\n",
              " 'caught eat chocol slice bread besid ref realiz still eat dinner.',\n",
              " '#prai #cleveland polic #rnc polic consent decree! 75% #white #tamirr #rip',\n",
              " 'best #lawofattract #resourc #healing! #altwaystoh #healthi ! #idwp !',\n",
              " 'everyth need #surfday. #fathersday #dad #novyspos.#novytowel#surfgear',\n",
              " '100% agr',\n",
              " \"next show monday fiddler' elbow camden. look like go huge night! htâ\\x80¦\",\n",
              " \"swim sign everywhere. parent' watch 2 year old.\",\n",
              " 'mitchellrattl mitchel goodson',\n",
              " \"get readi saturday' jeep run nbjc! 3 day #showyourjeepday #jeepmafia #jeeplif #jeep httâ\\x80¦\",\n",
              " 'attempt czech fury, croatia score second.',\n",
              " 'latest dairi k.s! thank #ä½\\x90é\\x87\\x8eå \\x83æ\\x98¥',\n",
              " 'yep - grate everyday :)))) #gratitud #laurasworld',\n",
              " \"i'v ebook awhil nice hard copy!!!\",\n",
              " 'nba finals. game 7. could basketb fan ask for?! #nbafin',\n",
              " 'prevent #bigot',\n",
              " \"dear #uot, despit attempt #savecharity, regret announc we'v lost her! #tragic #rip angel friend. miss u!\",\n",
              " '#space place color #blue #fabricsourc #finish #pillow #cushion use usâ\\x80¦',\n",
              " 'perfect moment day!!!',\n",
              " 'wait hour come autograph, final walk away...h come out. course! disappointing!',\n",
              " '#fathersday! gift #dad secur #financ #future! #save #insur #invest!',\n",
              " 'girl world sexi matur housewif',\n",
              " 'time get happy! saturday ð\\x9f\\x92\\x98 #saturday #weekend',\n",
              " '3 awesom dads.. almighti father (mi lord) darl dad (rip, sweethea) husband (mi babi daddy/1st son) #fathersday',\n",
              " 'owen footbal tornament #footbal',\n",
              " \"come #ee piss poor recept today â£20 month struggl get signal #buxton put mast i'm switch #grumpi\",\n",
              " 'excit na ð\\x9f\\x98\\x8dð\\x9f\\x98\\x8d',\n",
              " 'let #troopingthecolour begin, . bihdayyourmajesti #thequeenat90 htâ\\x80¦',\n",
              " '#work #fusiona wolf last stage #develop #chase',\n",
              " 'like #blacklivesmatt slogan. talk .',\n",
              " 'r.i.p littl bear bear... #hamster #rip #imissi',\n",
              " 'give hug #love cat moment ð\\x9f\\x98\\x8d',\n",
              " 'lip like fire, blood like gasolin ð\\x9f\\x94¥ð\\x9f\\x92\\x98 #love #boyfriend #smile',\n",
              " \"here. we. go. let' people! #icrs2016\",\n",
              " 'life race: allow present #fun',\n",
              " 'dental testimoni #lichfield client -',\n",
              " 'thank youð\\x9f\\x99\\x8fsoo muchð\\x9f\\x98\\x98 pretti feel soo bless &amp; lucky!!plz keep shower ur lyk með\\x9f\\x98\\x9d#surpri #2like #unexpect',\n",
              " 'nice 2c susanna smile 2day,who need fal promi fli dragon got ben',\n",
              " '1d back yet',\n",
              " \"got call yesterday. mom diagno stage 3 ovarian cancer. i'm terrified, terrified. know do.\",\n",
              " '#feminismiscanc #feminismisterror #feminismmuktbharat #malevot ignor',\n",
              " 'side histori alli issue. #embarrass',\n",
              " \"fox new come say bluntly. one thing i'v read.\",\n",
              " 'good morn ! #internationaldayofyoga2016 #yogalov #yoga #relax #healthi #positiveâ\\x80¦',\n",
              " 'monkey also declar vermin. protest bajrang dal?',\n",
              " 'new plant readi garden garden know how!',\n",
              " 'coldplay last night fave ð\\x9f\\x91«ð\\x9f\\x92\\x83ð\\x9f\\x8f»ð\\x9f\\x92\\x95 #coldplay #conc #hampden #fave #coupl #cute â\\x80¦',\n",
              " 'use power mind #heal body!! - #altwaystoh #healthi #peace!',\n",
              " \"#flagday! here' mine gorgeou #texa sky! #householdnam #takingoverâ\\x80¦\",\n",
              " 'aww yeah good bing bong bing bong',\n",
              " 'ye let this,suppo openli ,#prowar #anti #islamic,#homophobic,#rapist,who advoc same,#hypocrit',\n",
              " ', #cat, #furry, #persiancat | #4798 | pixion - wallpapers, images,',\n",
              " 'good moooooorn #tgif ð\\x9f\\x92\\x8b #kiss #kiss #friday #fridayfun',\n",
              " 'enjoy everyth alreadi given rather alway need more. #bless #thank',\n",
              " '#euro2016 match schedul design - franc v romania ! ð\\x9f\\x98\\x83 feedback appreciated!',\n",
              " 'father day take dad 2 $20 love',\n",
              " 'berlin after. thank much - incredible. #theriveourberlin #theboss',\n",
              " 'listen incubu never hus! ð\\x9f\\x98\\x9cð\\x9f\\x99\\x8c #nowplay #sick #littl #world - nissan #live #set de â\\x99«',\n",
              " 'anderson cooper &amp; lemon like gay thrown build sharia. #2ndamend',\n",
              " 'bei field dog-walking. #dog',\n",
              " 'would steal awork #boohiss',\n",
              " 'compet list today! #whenrealtorscompeteyouwin #callm #gotheextramileâ\\x80¦',\n",
              " 'great park total disorgani one!!! #poaventura #whatajok',\n",
              " \"i'v got news you, berni win dc even vote held last month. #dcvote\",\n",
              " 'â\\x86\\x9d #eur/usd print new monthli top 1.1400, draghi eye #blog #silver #gold #forex',\n",
              " \"two presidenti candidates, everybody. we'v devolv into. #elections2016 #america #smh #usa\",\n",
              " 'poor pup. #anim #puppi #vine #magic #subscrib #youtub (vine',\n",
              " 'rare pic superstar bihday sivakoratala :)',\n",
              " '2016 move outsid downtown gr mi neither offer better 6 mbps.',\n",
              " 'wish dadâ\\x80\\x99 happi fatherâ\\x80\\x99 day! #dad #fathersday #2016 #intellicr',\n",
              " 'met girl 5 yr ago onlin b-ng gay friend. look like b4?',\n",
              " 'face say all! #pwcproud',\n",
              " '| b u | #love #instagood #tbt #cute #me #beauti #followm â\\x80¦',\n",
              " 'enjoy weekend famili home. happi weekend dear friend :) #weekend #famili #home...',\n",
              " 'anoth senseless tragedy. #tragic #pul #orlandostaystrong #thoughtsandprayersâ\\x80¦',\n",
              " 'love #yrkkh frm bottom hea frm day stared.. &amp; v get return.. #uglyspat',\n",
              " 'captain felix rutland water. littl boat behind go grand adventure....',\n",
              " 'bing watch seri 1 #thekil complet avoid football.',\n",
              " 'quot jeremi corbyn: \"here we, we, fuck go!\"',\n",
              " 'happyð\\x9f\\x92\\x99 #travel#tim #instamood #moment #love#mylif #russian#girl #model #4likeâ\\x80¦',\n",
              " 'porn vid wwwsmallgirlsexcom',\n",
              " '#tuesday #jacki #quot #taketim make #soul #enjoylif #smile #believ #dream #havefun',\n",
              " 'home sweet home call #edinburgh sinc move year ago! #scotland #homesweethom #famili',\n",
              " 'play england v russia marseil 21:00??? expect? high risk game plenti time drink...',\n",
              " 'aww yeah good bing bong bing bong',\n",
              " 'thank sweater weather. #thank #posit',\n",
              " 'haunt atmosph #studiotim',\n",
              " 'becom fan give right critic person life idol.',\n",
              " 'latest obsidian radio daily! thank #latesnew',\n",
              " 'mind-blown; learn much googl form workshop. #cfisdrrr',\n",
              " 'sexi #prettypussi #sexybbw #realmvp',\n",
              " 'back v traumat months. damag bad thought, proof plan works! onward &amp; upward ð\\x9f\\x98\\x8a #excitâ\\x80¦',\n",
              " 'might libtard if... #libtard #sjw #liber #polit',\n",
              " 'overwhelm evid compani #trump keep echo sentiment &amp; ideal #dumptrump',\n",
              " \"y'all femal beef commun dick nigga , ð\\x9f\\x92¯ð\\x9f\\x98\\xad\",\n",
              " 'peopl like alreadi forgot so.... nah new name made hashtag weekli basi',\n",
              " '?!.i answer ð\\x9f\\x98\\x8að\\x9f\\x98\\x81',\n",
              " 'cherri color symbol warm posit energi necklac price: 200 #stone #gift #amaz #beauti',\n",
              " \"can't wait 2016/17 season begin! #lfc #ynwa #englishpremierleagu\",\n",
              " \"happi father' day dad except #rogergoodell! #fathersday #goodellsucksâ\\x80¦\",\n",
              " 'â\\x86\\x9d #orb independ brexit poll show leav vote ahead, gbp/usd slump #blog #silver #gold #forex',\n",
              " '25mm + 16mm = washout flood good take set anoth day golf',\n",
              " \"ya ever sinc zayn left they'v never\",\n",
              " \"happi father' day â\\x80¼ï¸\\x8fâ\\x9d¤ï¸\\x8f #lovey #fathersday #sunday #father #daddi dayâ\\x80¦\",\n",
              " 'big shock monday-ne find new home. yeah! found dream cottag tuesday',\n",
              " 'save thousand $$ free search x login x broker #actor #seeklearn #stafresh',\n",
              " 'actual order kyli lip kit',\n",
              " 'hope famili made arrang make sure #bastard canâ\\x80\\x99t get access.',\n",
              " 'ð\\x9f\\x98\\x94 #socialmedia u firm build 6 nuclear reactor india',\n",
              " '#smaphon bull up: domin bull direct whatev want do.',\n",
              " '#lifeisbeauti #loveit #workhard #trainhard matter go! #bless #fitlifeâ\\x80¦',\n",
              " 'oscar tabarez talk lui suarezâ\\x80\\x99 angri reactionâ\\x80¦ #spo #dure #lui #oscar',\n",
              " 'play #njoyhit40 #1hitmusicst u uk eur join u #nice #nyc',\n",
              " \"2 week go i'm #personaltrain full time new slot avail 30 june - pl spread tâ\\x80¦\",\n",
              " \"mother take care ten children' sometim ten child cant take care mother ,,,\",\n",
              " 'thank good nightsâ\\x80\\x99 sleep. #thank #posit',\n",
              " 'play : bride - \" nocturne\" #melancholi #melancholymu',\n",
              " '#tvk3fathersday father day tatay daddi enjoy wath tha voic kid',\n",
              " 'thank friends. #thank #posit',\n",
              " 'thank mason jars. #thank #posit',\n",
              " '\"nigger?\" #lifelesson white kid grew 60\\'s. #blogpost #whitepeopl #respectâ\\x80¦',\n",
              " 'congrats!',\n",
              " 'via jts88: ó¾\\x8c§ #love #sinkthepink #music #instagay #celebspot ...',\n",
              " 'readi #ccmf2016 !! #mychurch #frontrow #upshow',\n",
              " 'utterli : peopl incur #stupid #africa albino kill malawi spark educ campaign',\n",
              " 'â\\x86\\x9d #gold highs, back around $1,260 #blog #silver #gold #forex',\n",
              " 'shock event orlando - usa review gun law innoc die first? #horrif #unforgiv :(',\n",
              " 'knowledgeable. #i_am #posit #affirm',\n",
              " 'le sister! #instatravel #instamo #igdaili #instagramhub #instagood #instalik',\n",
              " '..feel #lonely..and ..',\n",
              " '#girliguessimwithh tag saddest repres peopl feel forc vote \"her\"',\n",
              " 'h factor! #mobil app make user ? want factors? click download aric #whitepap',\n",
              " 'meanwhil googl violat free-speech',\n",
              " 'happi work conference: right /mindset lead culture-of-develop organ #work #mindset',\n",
              " '#rochest attack bull chase: leav lot despit fact strong sourc f',\n",
              " \"i'm competition!!! ð\\x9f\\x8e\\x89ð\\x9f\\x8eµð\\x9f\\x8e\\x89ð\\x9f\\x8e¤ð\\x9f\\x99\\x8cð\\x9f\\x8f¾â\\x9c\\x8cð\\x9f\\x8f¾ï¸\\x8f\",\n",
              " '#tattoosleev gorilla simulator: need adapt environment. need tear city.',\n",
              " 'ima go cri hour brb',\n",
              " '#tell sorrow #river river taught flow without #complain -sepatu dahlan- #philosophi #proverb',\n",
              " 'thank memories. #thank #posit',\n",
              " 'sure nasti piec work! lmao.',\n",
              " 'today perfect day ! #happi #lifecoach #reinventimposs',\n",
              " 'sex 40 sex nake woman',\n",
              " 'thank cocktails. #thank #posit',\n",
              " 'dont wait #outsid #thepeel 4 #work #homophob #taxi #driver #guy #kiss #gay #melbourn #13cab',\n",
              " 'guess one want let resid spring street know abl leav hour today.',\n",
              " 'great morn deborahð\\x9f\\x8c»ð\\x9f\\x8c».@u #smile #kind ð\\x9f\\x92\\x96 day!ð\\x9f\\x98\\x80ð\\x9f\\x91\\x8b',\n",
              " '_ #windows10 split screen #browser! #customcasetab #noedit 712',\n",
              " \"peopl use tragedi like fuel hate agenda toward entir group peopl that' opposit helpfulâ\\x80¦\",\n",
              " 'taeyeon unni fire! ð\\x9f\\x92\\x93 btw realli hope album cover yellow lol #whi',\n",
              " 'john mica...how hell peopl like elect #totalpolitician #outoftouch #disgrac ð\\x9f\\x98\\x93',\n",
              " 'noth make dad happier tasti meal! #fathersday',\n",
              " '#truth #suicid rate young #blackboy',\n",
              " 'happi sunday #homesweethom #amaz #love #istanbul #girl #beauti #instalik #meâ\\x80¦',\n",
              " 'oh block me. least love island look forward sunday :)',\n",
              " 'play : suzann ciani - \" 4 o\\'clock morning\" music song',\n",
              " 'swing ð\\x9f\\x98\\x8aâ\\x9d¤ï¸\\x8fð\\x9f\\x91¶ #swing #mybabygirl #babi #littlegirl #park #love #cute',\n",
              " 'help! bubbl attack! #winter #bathtim #cozi',\n",
              " 'moving. #i_am #posit #affirm',\n",
              " 'thing is, matter mani law regul guns, peopl still find way get hand them.',\n",
              " '#sunflow - #natur #garden #photograpi qualiti print &amp; card at:',\n",
              " 'didnt stay long emerg home daughter well soo rush home miss ur set',\n",
              " 'great insight trust profess emea #growth #hack #confer #growthwithhubspot.',\n",
              " 'carolyn cooper | ugly, poor, ignor black!',\n",
              " 'franklin #dog #sunshin #dogsoftwitt',\n",
              " 'perfect day= buy real furniture, hiking, dinner, desse!ð\\x9f\\x8e\\x89ð\\x9f\\x98\\x8að\\x9f\\x91\\x8d #sleepnumb #bonustolongrest #dnd',\n",
              " 'happi face love smile #satisfi #hair #workit #smile #faceâ\\x80¦',\n",
              " 'ð\\x9f\\x92\\x97ð\\x9f\\x92\\x97ð\\x9f\\x92\\x97 love you. ð\\x9f\\x92\\x97ð\\x9f\\x92\\x97ð\\x9f\\x92\\x97 . #sunday #weekend #selfi #longhair #girl #selfporait #loveâ\\x80¦',\n",
              " '#nature_perfect bull hill climb: reach target complet task survive. str',\n",
              " '#model love u take u time urð\\x9f\\x93±!!! ð\\x9f\\x98\\x99ð\\x9f\\x98\\x8eð\\x9f\\x91\\x84ð\\x9f\\x91 ð\\x9f\\x92¦ð\\x9f\\x92¦ð\\x9f\\x92¦',\n",
              " 'orlando gay men angri can&amp;#039;t donat blood massacr -',\n",
              " 'golinglob \" golinuntern: fresh air, trail running, soul. keep #golinuntern life balanceâ\\x80¦',\n",
              " 'monroe&amp;nick best friends, &amp; rosalee&amp;addi kelly&amp;babymonros #grimm famili #nadalind',\n",
              " 'lie hillari would call \"secur inquiry\" liber like mind one eat shit eat shit.',\n",
              " 'know find incr #disrespectful!? take person call meeting. #frustrat ð\\x9f\\x98',\n",
              " \"date night #friday #pub #ilovehim #instagay #beer billy' burnet\",\n",
              " 'wish would make phone damn screen shatter cost arm leg still gotta pay fix em',\n",
              " 'hea wrenching! would state mother, know son die :(',\n",
              " 'time fly! le week go brilliant lead summer confer',\n",
              " 'fruit time #fruit #dess #instamo #photooftheday #yvr #sweet #vancitybuzzâ\\x80¦',\n",
              " 'sad one &gt;&gt;&gt;',\n",
              " 'sirf ashiq log follow karen #iqbal #galib #wasi #faraz #mohsin ki full poetri + #no add + follow',\n",
              " '28 minut go #armaanamaalontkss',\n",
              " 'thank god #royal 2015 without kansa citi right #cleveland #disgrac',\n",
              " 'get see favorit person tmrrw',\n",
              " '#latina buffalo simulation: buffalo take vicin home do. way,',\n",
              " 'world live in.. #orlando',\n",
              " 'vacat begun... #triathlet #triathlon #coach #vacat #fearless #rulâ\\x80¦ httâ\\x80¦',\n",
              " 'bit heabreak too! #reflect',\n",
              " 'peac way sta morn daili chao beginsð\\x9f\\x98\\x8a #gratitud',\n",
              " 'hardcor girl video birday sex xxx',\n",
              " '#takalot book order arriv time long weekend away bush. #bengreenfield',\n",
              " '#saysometh bull up: domin bull direct whatev want do.',\n",
              " \"steph. san kana?? 3' badli needed. plea ð\\x9f\\x99\\x8fð\\x9f\\x99\\x8fð\\x9f\\x99\\x8f\",\n",
              " 'anoth hand &amp; foot complete!! berachah best !! &amp;tir',\n",
              " 'way ctf book talk inmat paicip book club program #slugg',\n",
              " 'readi thisâ\\x9d\\x93 #awesom #beat #cool #dj #danc #edm #hou #goodmu #madnessâ\\x80¦',\n",
              " 'â\\x86\\x9d #jpy: neg extern environ remain suppoiv â\\x80\\x93 mufg #blog #silver #gold #forex',\n",
              " '$24.99-mkf collect jasmin moira crossbodi bag wednesday',\n",
              " \"current eat #steakandshak i'v 20 minut gotten shake order #not .\",\n",
              " 'gray sad color make feel #grayneedstogo',\n",
              " 'difficult road often lead beauti destinations. anon #leadership #inspir #quot #inspir',\n",
              " 'â\\x86\\x9d #usd long posit added, eur sho increa - anz #blog #silver #gold #forex',\n",
              " '#r1rockallday day! #noi',\n",
              " 'no, definit mexican. #fakenews',\n",
              " 'new album relea break up? #loveherbreakup #hotgoss',\n",
              " 'stand racism hate americad cur congress hater deplor #hateâ\\x80¦',\n",
              " 'â\\x98\\x80#sunshine, â\\x98\\x80#sunshine. make ð\\x9f\\x92\\x9e sky â\\x98\\x81gray.',\n",
              " 'someth want say, someth make happi . #game #gamer #xboxon #playstat #e32016',\n",
              " \"footbal actual thing mo that' watchable!! #bringbackgladiators!\",\n",
              " 'happi hump day ð\\x9f\\x91\\x8cð\\x9f\\x8e\\x8að\\x9f\\x8e\\x89 #humpday #life #lifestyl #wednesday #midweek #snapchat #walru #funnyâ\\x80¦',\n",
              " 'let say .. love',\n",
              " 'worry, happi via #archiveday #weekendblogshar #happi #quot #tshi',\n",
              " 'great thing never came comfo zones... #goodtogreat #inspirem #love',\n",
              " 'happi puppi ð\\x9f\\x90¶ð\\x9f\\x92\\x95 #london #puppi #thursdaymotiv',\n",
              " 'know go room one troubl soul? #a #draw #blackandwhit',\n",
              " 'recommend dark &amp; #romances: | #horror #moviegenr #ambianc',\n",
              " '#trump use #hate, #putin win white hou #trump press attack khan famili g.o.p. leader',\n",
              " \"one bucket list item tick tonight final saw ice cube live tonight ð\\x9f\\x98\\x81 ! #wildlifefestiv 'today good day' ð\\x9f\\x98\\x9d\",\n",
              " 'friend magic potion... #ewabeach #magicalhappydrink ewa beach hou',\n",
              " 'everytim wear soccer shi joie fri say look mexican fuck ð\\x9f\\x98\\x92',\n",
              " 'weird month final feel posit life late #pleasedontchang ð\\x9f\\x98\\x81',\n",
              " 'check #holiday #croatia #13daystogo',\n",
              " 'night sweet dreams..',\n",
              " 'nyc seven day ð\\x9f\\x97½ #newyork #newyorkc #travel #bigappl',\n",
              " 'life make it. letâ\\x80\\x99 make ! #motiv',\n",
              " '#fashionblog rooster simulation: want climb vast expan mountains. reach leakag coc',\n",
              " 'best mood ever!!! #becauseofhim #inlov',\n",
              " 'happi worry! ð\\x9f\\x98\\x89 #smile #love #iminlov #iam #im #in #nice #day',\n",
              " '#monaco#resto#chezedgard#grandprixf1# #essais#sun#lewissuppo#ð\\x9f\\x8f\\x8eð\\x9f\\x8f\\x8e# #amour #love â\\x9d¤ï¸\\x8f',\n",
              " \"bought: 'launch: use design thinking...bi &amp; via - #toread #letsmak\",\n",
              " '#sukhbir #badal announc office-bear #eastcoast zone #canada',\n",
              " 'mad chose dj snake zedd edc',\n",
              " 'mango wood lett... gbp 19.99 get here: #shop #cool #home #fun',\n",
              " 'danger white liber oveurn (appli liber men femin too)',\n",
              " 'truli truli pathet mani way noth learn coverinâ\\x80¦',\n",
              " 'monday morn work lake #scottieandrussel #work #love #picofthedayâ\\x80¦',\n",
              " \"i'm love rain! hope hang around ð\\x9f\\x98\\x8a #rain #water #tbt #me #weather #bribieisland\",\n",
              " 'chosen wrong hor unless chang mind soon, end polit career.',\n",
              " 'wed impoant celebr life possibility. â\\x80\\x94ann hathaway #wed #love',\n",
              " '#icymi: shoot orlando nightclub kill 20, polic say #debelop #gun',\n",
              " 'snatch past week! #schoolsuppli',\n",
              " 'great aicle. right money! #starspangledbann #slaveri #apaheid #usa',\n",
              " 'babi born. welcom new world cats! #babiescat #cat #newborn #congratul â\\x80¦',\n",
              " \"ð\\x9f\\x91\\x89ð\\x9f\\x8f»#pretending#to#b #when #you're#in#pain#is#just#an#exampl #of#how#strong#you#are#as#a #personð\\x9f\\x91\\x88ð\\x9f\\x8f» ð\\x9f\\x98\\x8að\\x9f\\x92ªð\\x9f\\x8f»ð\\x9f\\x92ªð\\x9f\\x8f»ð\\x9f\\x92ªð\\x9f\\x8f» #nightyð\\x9f\\x98´\",\n",
              " 'even dear cutysð\\x9f\\x98\\x8dð\\x9f\\x98\\x8dð\\x9f\\x98\\x8dð\\x9f\\x98\\x8dð\\x9f\\x98\\x8dð\\x9f\\x98\\x8dð\\x9f\\x98\\x9að\\x9f\\x98\\x9að\\x9f\\x98\\x9að\\x9f\\x98\\x9að\\x9f\\x98\\x9að\\x9f\\x98\\x9að\\x9f\\x98\\x9að\\x9f\\x98\\x9að\\x9f\\x92\\x9fð\\x9f\\x92\\x9fð\\x9f\\x92\\x9fð\\x9f\\x92\\x9fð\\x9f\\x92\\x9fð\\x9f\\x91\\x8dð\\x9f\\x91\\x8dð\\x9f\\x91\\x8dð\\x9f\\x91\\x8d',\n",
              " 'mental cultur #mentalhealth',\n",
              " 'wish u #weekend ð\\x9f\\x98\\x98ð\\x9f\\x92\\x95',\n",
              " 'thank freezers. #thank #posit',\n",
              " 'readi &lt;a&gt; full day &lt;html&gt;, #cssday',\n",
              " 'bihday cake made mom! #bihday #mom #fondant #pumpkin #chocol #delici #beauti #amaz',\n",
              " 'thank you!! power #social #media! #aand',\n",
              " 'made smileâ\\x98ºï¸\\x8fð\\x9f\\x99\\x86 #bigbang #babi cto',\n",
              " 'send good vibe way! happi friday! #tgifriday #goodvibesonli #becauseimhappi #smilemor',\n",
              " \"#letsgo #agent #tooeasi 10 day till #dlc know i'm . #gamingforeveryon\",\n",
              " 'holi city#tissu !',\n",
              " 'old mom bihday ð\\x9f\\x98\\x83',\n",
              " 'decide? #fowoh #goldenretriev #lcck9comfodog #workingdog',\n",
              " 'get angry. muslim assassin 50 much.',\n",
              " 'ð\\x9f\\x92«we hereee ð\\x9f\\x94¥ð\\x9f\\x8e\\x89ð\\x9f\\x92\\x83ð\\x9f\\x8f»ð\\x9f\\x8e¶ ericprydz #edc #music #musiclif #edm #danc #girlsâ\\x80¦',\n",
              " '#funni thing #humankind... watch #news, feel #bad etc back \"open busi usual! #good #future!',\n",
              " 'keep tell aryan allow rape women! troll! #eod',\n",
              " 'speechless come shoot recently. guess peopl noth lose respectâ\\x80¦',\n",
              " 'forecasted, beauti wave raalhugandu disappear due construct bridge.&amp; hope comâ\\x80¦',\n",
              " 'minut #trump condemn #vile #bigot comment #hi #surrog #carlpaladino #endhateâ\\x80¦',\n",
              " \"#wish wonder #dad #father' #day..let' #rock today red rascalsâ\\x80¦\",\n",
              " '#allahsoil vp got multi-million dollar bonu averag american lost homes. â\\x80¦â\\x80¦',\n",
              " 'love #abrahamhick #lawofattract !! #healthi #heal #joytrain !!',\n",
              " '#model love u take u time urð\\x9f\\x93±!!! ð\\x9f\\x98\\x99ð\\x9f\\x98\\x8eð\\x9f\\x91\\x84ð\\x9f\\x91 ð\\x9f\\x92¦ð\\x9f\\x92¦ð\\x9f\\x92¦',\n",
              " 'sign first bikram yoga classâ\\x98ºï¸\\x8f',\n",
              " 'think thought shine face like sun beams. quot #smile',\n",
              " 'want creativ workers, give enough time play. #success #quot',\n",
              " 'hea prayer orlando victims, famili lgbt community.',\n",
              " '25 jan. interest #discrimin affect crimin justic system?',\n",
              " 'friend forev ð\\x9f\\x92\\x97ð\\x9f\\x92\\x97 #friends#sweden#reunion #grateful#lov egna hem',\n",
              " 'keep opposit #endthen',\n",
              " 'ð\\x9f\\x8d\\x95ð\\x9f\\x8d\\x95ð\\x9f\\x8d\\x95 love pizzaâ\\x9d¤ï¸\\x8f #pizzaslice#pizzaslice2#aoyama#pizza#yummy#delicia #goodtimeswithgoâ\\x80¦',\n",
              " 'two love #beer #craftbe #dog #malinoislov #malinoi #passion #friend',\n",
              " 'abundant. #i_am #posit #affirm',\n",
              " 'fathersday #fatherã¢â\\x80â\\x99 #day, #dad #| #skinni #and #singl buy thing \"hâ\\x80¦',\n",
              " 'rickity..rick.. rickity...rick.. ole broken wagon look find next mateen jump board.',\n",
              " 'love city, great day #cleveland! #home #calm â\\x9d¤ï¸\\x8f',\n",
              " 'guess talk progress advanc , #misogyny, #homophobia, #bigotri',\n",
              " 'teen girl killed, 3 injur downtown oakland shooting. #gun #mentalil #gang ð\\x9f\\x87¨ð\\x9f\\x87¦ð\\x9f\\x87¨ð\\x9f\\x87¦ð\\x9f\\x87¨ð\\x9f\\x87¦ #orlando',\n",
              " '\"to everyon go struggl pain right now, keep head up, keep smiling, get it.\" hope',\n",
              " 'good even darl instagram babies. #bless #lipstick #makeup #fun #grate #share',\n",
              " 'jake right, 2 mani ppl lack power take stand &amp; drown small mind &amp; oft evil tendenc past',\n",
              " 'realli hate hipocrit politician sides... deserv better citizens. ..',\n",
              " '.@user environ wellbeing? \"plan\" site - nothng todo wâ\\x80¦',\n",
              " 'bihday sway bihday sway bihdayé\\x87\\x8eæ\\x9b¿æ\\x84\\x81å¹³ bihdayé\\x87\\x8eæ\\x9b¿æ\\x84\\x81å¹³',\n",
              " '#saturday #morning, go back sleep. #thetrust #comu #indi â\\x99« fade away - johnmaun. listen',\n",
              " 'founat man life everi singl day. #father #day all.',\n",
              " 'gut know tonight would #good luck',\n",
              " 'begin think tom bradi hater, way go man!',\n",
              " 'attack #orlando cau lot pain mani people. #vengeanc option. , let comfo',\n",
              " 'cute overload ð\\x9f\\x92\\x9c let life fill love sweet ð\\x9f\\x98\\x8dð\\x9f\\x98\\x98 #live_long marri life',\n",
              " 'head #graduat #mechtechplumb #futureplumb #proudmama ð\\x9f\\x98\\x82',\n",
              " '.@user possibl speak topic without bring race it, bigot? â\\x80¦',\n",
              " '#model love u take u time urð\\x9f\\x93±!!! ð\\x9f\\x98\\x99ð\\x9f\\x98\\x8eð\\x9f\\x91\\x84ð\\x9f\\x91 ð\\x9f\\x92¦ð\\x9f\\x92¦ð\\x9f\\x92¦',\n",
              " 'ours, too. much terribl news weekend! #orlando #christinagrimmi #prayer',\n",
              " 'make . #innovative_n',\n",
              " '[1465876849.66] updat #social #analyt #instalik #tbt #yoga #summer #fun',\n",
              " '#rushlimbaugh incr obama impression. via',\n",
              " 'we, people, fail fellow citizens.',\n",
              " 'sta pack move! ð\\x9f\\x99\\x8cð\\x9f\\x8f½ð\\x9f\\x8f¡ð\\x9f\\x98\\x84 #newflat',\n",
              " 'first love. may his, make feel like am. #love #chee #shotermlongdist',\n",
              " 'youtu bed two get #friendship',\n",
              " 'want , kind #poor; #sin despi anyone. #jesu #faith #believ #wisdom',\n",
              " \"nice life. i'm done tri it. #lovequot\",\n",
              " 'latest positivementalattitude! thank #posit',\n",
              " 'want spark seriou debat gun violenc relea photo bodi insid club. #orlandoshoot #gunviol',\n",
              " 'arriv blagoevgrad fo #zaz conc feel #umbrela',\n",
              " '.@user number leader come',\n",
              " 'see #tcashowroom yesterday ð\\x9f\\x98\\x99ð\\x9f\\x91\\x8c',\n",
              " 'mean mean like ð\\x9f\\x98\\x95',\n",
              " 'great way spend saturday ð\\x9f\\x98\\x8e #relax #positivevib #california #cakesbytheocean',\n",
              " 'â\\x86\\x9d #eur/usd could test 1.16 near-term â\\x80\\x93 westpac #blog #silver #gold #forex',\n",
              " \"money. campaign ask $100k donat midnight fight hrc' ad buy. #brokedonald #lyindon\",\n",
              " 'today call champagn ð\\x9f\\x8d¾ð\\x9f\\x8d¾ð\\x9f\\x8d¾ #friday #fridayfeel #friyay #goodweek #client #hairâ\\x80¦',\n",
              " 'rightli so! gop hate trump obama',\n",
              " 'sunday hug',\n",
              " '2 usâ\\x9d£â\\x9d£â\\x9d£â\\x9d£â\\x9d£â\\x9d£â\\x9d£ #me #selfi #myfriend #loveh #giannena #smile #thecomeback',\n",
              " \"moment, decid need more. switch control life' response. default.\",\n",
              " 'play : yiruma - \" kiss rain\" music song',\n",
              " 'simple, true. becom capabl being! #burnsurvivor #dolbf #motiv #motiv',\n",
              " 'back...who miss me?....#greatfultogod #beendoinggreat #selfi',\n",
              " 'not! repeat, put dog hot car leav heat! keep home! fuck sake! #dog',\n",
              " 'splendid #nosie, me, probabl #year #wrc #rallypoland',\n",
              " '2 hour go music video released! #music #edinburgh #scotland #band #musicvideo #a',\n",
              " 'confirm dead...accord farrah gray #pulseshoot',\n",
              " 'look journey left right foot stage ð\\x9f\\x94¥ð\\x9f\\x94¥ð\\x9f\\x94¥ð\\x9f\\x94¥ð\\x9f\\x94¥ !!!!!!',\n",
              " 'black professor make assumpt entir race whilst speak entir race. next week jews!â\\x80¦',\n",
              " 'back music\"now play michael jackson(th lost children) unificationsday\"and may god child &amp; families#33!smil',\n",
              " '#drakeandjosh buffalo simulation: buffalo take vicin home do. wa',\n",
              " '#trumpusa call u #homophob #misogynist realli say jealou u wâ\\x80¦',\n",
              " 'think suspend indefininetli racist staff',\n",
              " '*she sat alon let sad sigh* #openrp #bore',\n",
              " \"good morn #manchest quick preview new #gin we'll launch soon! one!\",\n",
              " \"tri new #trailn2v3 today! although feel similar v2's, v3' smoother feel great!\",\n",
              " 'kiki felt ignor today make kiki danc #kikid #miabbook',\n",
              " 'sourc #inspir ideal #mi #lyf #baba .... father days!!!',\n",
              " 'congrat thoma new #beauti home tehaleh! welcom lennar family! #homeown',\n",
              " 'miss day friend play xbox :(',\n",
              " 'new case scraggli hair. !',\n",
              " \"love dincwear! mum' da word straight '16 saturday #brickingit\",\n",
              " 'bihday sexi girl girl top boy nake',\n",
              " \"he' one major fan like him, salti gsw fan need someon\",\n",
              " 'chang daili basis!-14week handover!! network team soon av!',\n",
              " 'come singapore!',\n",
              " 'sma babi sock gbp 19.00 get here: #shop #cool #home #fun',\n",
              " 'like video #sjw retard want !',\n",
              " 'woh wait! #doubledown wife #veganbeerfest #vegan',\n",
              " 'lmfao deadass?? ð\\x9f\\x98¹',\n",
              " 'amaz interview. #bjmckenzi #born2win #bjmuzic',\n",
              " 'boasti tuesday last night boom boom harri hype say get',\n",
              " 'bihday balayya even age mass look,craz fans,on screen romance..h legend #jaibalayya',\n",
              " 'woohoo #kingsland #highlandreserv #hou #famili #build #ourhomeâ\\x80¦',\n",
              " 'outlin theme would-b poem haha',\n",
              " '#decor buffalo simulation: buffalo take vicin home do. way,',\n",
              " 'sold! one two paint go get beauti new home week. #soldâ\\x80¦',\n",
              " 'msg #hope #newyear: busi end . #endof2016 #tedtalk #tedatibm',\n",
              " ':( slag children? love show but......really?',\n",
              " \"safe say i'm miss #marb sit home watch #euro2016 listen rain #depress #bringbackhappi\",\n",
              " 'brainwash left allow terrorist come america kill them.',\n",
              " 'gd morn ð\\x9f\\x98\\x8dð\\x9f\\x98\\x8dð\\x9f\\x98\\x98ð\\x9f\\x98\\x98 #gdragon #gd #kwonjiyong #jiyong #vip #bigbang #handsom #cute #loveâ\\x80¦',\n",
              " 'friendszxc ð\\x9f\\x92\\x9c ð\\x9f\\x98\\x81ð\\x9f\\x98\\x81ð\\x9f\\x98\\x81',\n",
              " '4 day till vacation! ð\\x9f\\x99\\x88â\\x9d¤ï¸\\x8fð\\x9f\\x98\\x8d',\n",
              " 'secret happi marriag find peopl le attractive: repo...',\n",
              " 'python27 concurr best friends, code 2 restructur get concurr celeri #develop #python',\n",
              " '#womenareamaz think so! #induoev - - - - #superwomen #follow #dowhatyoulov â\\x80¦',\n",
              " 'hairi pussi redtub hardcor track',\n",
              " 'let season 4 bing begin ð\\x9f\\x92\\x86ð\\x9f\\x8f» #oitnb #myfavorit #season4 #weekendplan',\n",
              " 'rest peac ð\\x9f\\x92\\x94 #christinagrimmi #loss #rip #miss #fan #foreverinourhea',\n",
              " '\"a pictur woh thousand words.\" #sundayrewind #hongkong #travel #ladi #lawyerâ\\x80¦',\n",
              " 'relax !!! ð\\x9f\\x8c¤ð\\x9f\\x8c¤ð\\x9f\\x8c¤ #inger #followm #follow #follow4follow #beach #pool #relax #enjoy #coupleâ\\x80¦',\n",
              " 'countdown begun#family#freeevent#festival# enteain #food#stal',\n",
              " '#awesom beginn #gopro #mount super use!!!',\n",
              " 'dear istor , plea crash due heavi overload 17-19 #booktim #muchlov â\\x9d¤â\\x9d¤â\\x9d¤',\n",
              " 'never underestim power good book, good wine, good food, great patio. #summereven #patioweath',\n",
              " 'istg best chee ta dayum expen',\n",
              " 'morn (office) routin never without bff #imi',\n",
              " '#model love u take u time urð\\x9f\\x93±!!! ð\\x9f\\x98\\x99ð\\x9f\\x98\\x8eð\\x9f\\x91\\x84ð\\x9f\\x91 ð\\x9f\\x92¦ð\\x9f\\x92¦ð\\x9f\\x92¦',\n",
              " '#theshallow weak attempt cash jaw anniversari',\n",
              " 'non stop elect blame #cspan hide 8 year 2016 pittsburgh california',\n",
              " 'weâ\\x80\\x99r extrem reveal first #offici #poster #poalorigin [pa 2], come #summer. moâ\\x80¦',\n",
              " '16 minut counting.... #wwdc #wwdc2016',\n",
              " '\"ha play ball\" now! state politics! facade, we\\'v lost principality!',\n",
              " '#peopl protest #trump #republican won-they trump fuher &amp;â\\x80¦',\n",
              " 'great day noth happyð\\x9f\\x98\\x8að\\x9f\\x92\\x9eð\\x9f\\x99\\x8c #blessed#thank',\n",
              " 'happi sunday everyone!!!â\\x9c\\x8cï¸\\x8fð\\x9f\\x92\\x96â\\x9c\\x8cð\\x9f\\x92\\x96 #sundaymorn #sunday #peac #love',\n",
              " \"alway help others. never myself. peopl matter clearli don't. #quot #latenight\",\n",
              " '! bihday weekend ! even better ! xx',\n",
              " 'stay strong ð\\x9f\\x92\\x8b #selflov #love #ilovem #quot #quot #quoteoftheday #happi #life #wisdom #wordsofwisdom',\n",
              " \"happi father' day.. #boy #father #sweet #love #memori\",\n",
              " 'aww yeah good bing bong bing bong',\n",
              " '#life #impoant #human #spirit #truth #love #give b #spiritu #thinkbigsundaywithmarshað\\x9f\\x92\\x93ð\\x9f\\x99\\x8fð\\x9f\\x98\\x87',\n",
              " \"father babies, love u. happiest father' days! #father via\",\n",
              " \"current mood: 's web develop meet &amp; hire 6/22.\",\n",
              " \"know get old sta get 'turn on' look poweool b&amp;q\",\n",
              " 're: 50 project 2016---busi hand happi hands!',\n",
              " 'bride: woman fine prospect happi behind her. â\\x80\\x94ambro bierc #wed #love',\n",
              " '#friday xoxosamantha via',\n",
              " 'stop rob innoc custom hard earn aiim guy idea dey manag recharge...',\n",
              " \"grab besti &amp; swing hour ~ we'v miss you. #fun #eatâ\\x80¦\",\n",
              " '#opinion. racism #degrad peopl base race justifi #discrimin open #violenc them. #stoprac',\n",
              " 'final move today ð\\x9f\\x98\\xadð\\x9f\\x99\\x8fð\\x9f\\x8f½',\n",
              " \"i'm way..... say #blogger #vloggerâ\\x80¦\",\n",
              " 'yay! fantast #edinburgh',\n",
              " 'lemm find put boiler month june.',\n",
              " 'hea go famili 50 peopl kill massacr orlando.',\n",
              " 'pre gig drinks! ð\\x9f\\x98\\x8e #passthecourvoisi ð\\x9f\\x8d¸@user',\n",
              " 'rescu pup... meet rexi ð\\x9f\\x90¶â\\x99¡ #rescuepup #rexi #pupsofsg #suicidegirl #beauti #puppylov',\n",
              " 'video get excit futureâ\\x80¦ #tech #augment #futur #mobil',\n",
              " 'congrat ð\\x9f\\x98\\x84 ur wish come true work ð\\x9f\\x98\\x8a superxcit song ð\\x9f\\x98\\x84ð\\x9f\\x99\\x8câ\\x9d¤ð\\x9f\\x98\\x8d',\n",
              " 'wish were!',\n",
              " 'â\\x98\\x80ï¸\\x8f#hellosunday hope #beauti #sunday :) #sundayfunday sunnday!!ð\\x9f\\x92\\x8b',\n",
              " \"gif..did't listen song sinc ages..\",\n",
              " 'â\\x86\\x9d #nzd/usd rise 0.7040, eye gdt price index fomc statement #blog #silver #gold #forex',\n",
              " 'true! home-food consid cheap-meal. impress made restaurants!!!',\n",
              " \"happi bihday one west' greatest!! tupac shakur ð\\x9f\\x91\\x91ð\\x9f\\x8e¤ #bihday #rip #tupacâ\\x80¦\",\n",
              " 'live life....',\n",
              " '29hr goð\\x9f\\x98\\x89 #fl #motionpost reveal #mupparimanam feel #nervou ð\\x9f\\x98\\x80ð\\x9f\\x91\\x8dð\\x9f\\x8f»ð\\x9f\\x98\\x8a stay tune',\n",
              " 'littl tast sure!',\n",
              " 'appletstag #compleanno #toa #cake #famili bday #selfi #me #smile #girl #summerâ\\x80¦',\n",
              " '#anim #anime-a -tree-friend #tags: #anime, #fana, pixiv, happi tree ...',\n",
              " 'happi 2nd wed anniversari amaz husband ð\\x9f\\x8d¾ð\\x9f\\x8e\\x89ð\\x9f\\x92\\x95ð\\x9f\\x91°ð\\x9f\\x8f¼ð\\x9f\\x8e© #memori #2year #lotstocom #love',\n",
              " 'slow sta, product day! get back routin bout fatigu flareup hard! #spoonieproblem',\n",
              " \"love ramdan fasting,i love iftar' feel love way feel ramadan pray read quran #bless\",\n",
              " 'â\\x86\\x9d #eur/gbp subdu trade action around 0.7930 #blog #silver #gold #forex',\n",
              " 'ð\\x9f\\x98\\x8a #ngitingtagumpay',\n",
              " 'unusu cloudi day. elect day picnic friends! sunday everyone! ó¾\\x93\\x94ó¾\\x94\\x9b #welcomeludovica...',\n",
              " '#cloudcha gorilla simulator: need adapt environment. need tear city. mat',\n",
              " 'christ aliv you. #vlicob #xoxo #love #grace #amen #share #passion #church #lifeâ\\x80¦',\n",
              " \"want leak udta punjab probed, suspect 'polit ... #job #jobsearch #: #chandigarh: maker udt...\",\n",
              " 'yesterday ozen ð\\x9f\\x99\\x83 #restaur #eatallyoucan',\n",
              " \"alreadi tell next week' episod gonna give inten anxiety!!!! #nervou #gameofthron\",\n",
              " 'got noth say, assum that?! ahahahahahah',\n",
              " \"i'm ordinari girl #intruduceyourself !ð\\x9f\\x98\\x8að\\x9f\\x98\\x8a\",\n",
              " 'may light triumph darkness. may ramadan bring peace, harmoni joy. #ramadan! #ramadankareem',\n",
              " 'any1 el notic \"suppoers\" r pageant girl w.year intern femal oppress system?',\n",
              " '4 reason optimist rule world #success #growth #balanc #optim',\n",
              " 'hate onlin applic even get foot door tell no, need you.',\n",
              " 'thank flowers. #thank #posit',\n",
              " 'top crappi day w/me sign paper house, pop conc 4 block work &amp; know. :(',\n",
              " 'beauti (: love live beach!!!! #beach #loveit',\n",
              " 'oh god! bitch ð\\x9f\\x98\\x82ð\\x9f\\x98\\x8dð\\x9f\\x98\\x8dð\\x9f\\x98\\x8d knew gone lil kim .. actual look like music video',\n",
              " '#tgif #ff #gamedev #indiedev #indiegamedev #squad!',\n",
              " 'man even bunch coupon too.....',\n",
              " 'way sta day #goodmorn',\n",
              " 'lking forward 2 water holes, watchtowers, foresses..',\n",
              " '#allahsoil next best seller book! #isi #islam #2016in4world #2016in4word #terrorist #gwot â\\x80¦',\n",
              " 'fantast rub steak #yum #thespicesndteaexchang #dc #healthyâ\\x80¦',\n",
              " '#followm touch tit -',\n",
              " 'feel like summer ð\\x9f\\x8c´ð\\x9f\\x8d\\x89ð\\x9f\\x91\\x99 #love #like #live #life #enjoy #healthi #sun #tan #bikini #summerâ\\x80¦',\n",
              " \"#teenageson reckon he' gone 'beyond call duty' #fathersday prezzi ð\\x9f\\x98\\x8d\",\n",
              " 'forget, - research show sexist men psycholog problems. #tuckercarlson',\n",
              " 'nice! specif pedagog changes? ð\\x9f\\x98¬',\n",
              " 'typic citi fan',\n",
              " '\"no im attract asian ppl bc im asian\" tell im attract u bc im (in race here) hoe',\n",
              " 'awlrit mol? jealous? better cricket pitch life #getalif',\n",
              " 'prayer go eddi famili',\n",
              " '#nothappi carer finish one week :*(',\n",
              " '#closeencount #fatkind #fatkid #dese #sick #tire #maybemono',\n",
              " '#gymmorgon #gym #morn #strength #energi #train wingym',\n",
              " 'glad arriv safe !',\n",
              " 'defin ?: histor #oppress histor #oppressors/#privileg',\n",
              " 'realli pretend be? #truthseek #empow #selfimprov #heal #ihearadio',\n",
              " 'final found way delet old tweets! might find use well: #deletetweet',\n",
              " '#view #oregon #poland #usa #unitedst #holiday #dj #produc #houseâ\\x80¦',\n",
              " 'put #vote yet? havent, #share see make #you #smile. #poll',\n",
              " 'next chapter life sta soon, look hou today fiancã© â\\x9d¤ï¸\\x8fð\\x9f\\x98\\x80ð\\x9f\\x8f ð\\x9f\\x91\\x8dð\\x9f\\x8f»',\n",
              " ...]"
            ]
          },
          "metadata": {
            "tags": []
          },
          "execution_count": 190
        }
      ]
    },
    {
      "cell_type": "code",
      "metadata": {
        "colab": {
          "base_uri": "https://localhost:8080/"
        },
        "id": "eS2P0jfe26dh",
        "outputId": "6ab163d4-9275-4305-9b20-20c0ee516817"
      },
      "source": [
        "pip install wordcloud"
      ],
      "execution_count": 191,
      "outputs": [
        {
          "output_type": "stream",
          "text": [
            "Requirement already satisfied: wordcloud in /usr/local/lib/python3.6/dist-packages (1.5.0)\n",
            "Requirement already satisfied: pillow in /usr/local/lib/python3.6/dist-packages (from wordcloud) (7.0.0)\n",
            "Requirement already satisfied: numpy>=1.6.1 in /usr/local/lib/python3.6/dist-packages (from wordcloud) (1.19.5)\n"
          ],
          "name": "stdout"
        }
      ]
    },
    {
      "cell_type": "code",
      "metadata": {
        "colab": {
          "base_uri": "https://localhost:8080/",
          "height": 485
        },
        "id": "WYO8Ecuk26gf",
        "outputId": "73f0608b-48f4-427c-c414-86873bad07f4"
      },
      "source": [
        "\r\n",
        "normal_words = ' '.join([word for word in data_frame['clean_tweet'][data_frame['label'] == 0]])\r\n",
        "wordcloud = WordCloud(width = 800, height = 500, max_font_size = 110,max_words = 100).generate(normal_words)\r\n",
        "print('Normal words')\r\n",
        "plt.figure(figsize= (12,8))\r\n",
        "plt.imshow(wordcloud, interpolation = 'bilinear',cmap='viridis')\r\n",
        "plt.axis('off')"
      ],
      "execution_count": 192,
      "outputs": [
        {
          "output_type": "stream",
          "text": [
            "Normal words\n"
          ],
          "name": "stdout"
        },
        {
          "output_type": "execute_result",
          "data": {
            "text/plain": [
              "(-0.5, 799.5, 499.5, -0.5)"
            ]
          },
          "metadata": {
            "tags": []
          },
          "execution_count": 192
        },
        {
          "output_type": "display_data",
          "data": {
            "image/png": "[encoded data removed]",
            "text/plain": [
              "<Figure size 864x576 with 1 Axes>"
            ]
          },
          "metadata": {
            "tags": [],
            "needs_background": "light"
          }
        }
      ]
    },
    {
      "cell_type": "code",
      "metadata": {
        "colab": {
          "base_uri": "https://localhost:8080/",
          "height": 485
        },
        "id": "OHMZ3vxG26j6",
        "outputId": "c04e7085-45c1-4b60-c673-10f3fd8534bc"
      },
      "source": [
        "normal_words = ' '.join([word for word in data_frame['clean_tweet'][data_frame['label'] == 1]])\r\n",
        "wordcloud = WordCloud(width = 800, height = 500, max_font_size = 110,max_words = 100).generate(normal_words)\r\n",
        "print('Normal words')\r\n",
        "plt.figure(figsize= (12,8))\r\n",
        "plt.imshow(wordcloud, interpolation = 'bilinear')\r\n",
        "plt.axis('off')"
      ],
      "execution_count": 193,
      "outputs": [
        {
          "output_type": "stream",
          "text": [
            "Normal words\n"
          ],
          "name": "stdout"
        },
        {
          "output_type": "execute_result",
          "data": {
            "text/plain": [
              "(-0.5, 799.5, 499.5, -0.5)"
            ]
          },
          "metadata": {
            "tags": []
          },
          "execution_count": 193
        },
        {
          "output_type": "display_data",
          "data": {
            "image/png": "[encoded data removed]",
            "text/plain": [
              "<Figure size 864x576 with 1 Axes>"
            ]
          },
          "metadata": {
            "tags": [],
            "needs_background": "light"
          }
        }
      ]
    },
    {
      "cell_type": "code",
      "metadata": {
        "id": "2KXWtvep26mL"
      },
      "source": [
        "#Collecting positive hashtags\r\n",
        "\r\n",
        "hash_positive = []\r\n",
        "hash_negative = []\r\n"
      ],
      "execution_count": 194,
      "outputs": []
    },
    {
      "cell_type": "code",
      "metadata": {
        "id": "GaxhGigP26o-"
      },
      "source": [
        "def hashtag_extract(x):\r\n",
        "    hashtags = []\r\n",
        "    # Loop over the words in the tweet\r\n",
        "    for i in x:\r\n",
        "        ht = re.findall(r\"#(\\w+)\", i)\r\n",
        "        hashtags.append(ht)\r\n",
        "\r\n",
        "    return hashtags"
      ],
      "execution_count": 195,
      "outputs": []
    },
    {
      "cell_type": "code",
      "metadata": {
        "id": "QzwbYtlj26tA"
      },
      "source": [
        "hash_positive = hashtag_extract(data_frame['clean_tweet'][data_frame['label'] == 0])\r\n",
        "\r\n",
        "# extracting hashtags from racist/sexist tweets\r\n",
        "hash_negative = hashtag_extract(data_frame['clean_tweet'][data_frame['label'] == 1])\r\n",
        "\r\n",
        "# Converting a multidimensional list to a 1-D list\r\n",
        "hash_positive = sum(hash_positive,[])\r\n",
        "hash_negative = sum(hash_negative,[])"
      ],
      "execution_count": 196,
      "outputs": []
    },
    {
      "cell_type": "code",
      "metadata": {
        "id": "jR-BGdIs26xO"
      },
      "source": [
        "q = Counter(hash_positive)\r\n",
        "q = dict(q.most_common())"
      ],
      "execution_count": 197,
      "outputs": []
    },
    {
      "cell_type": "code",
      "metadata": {
        "id": "Wu8yX-Fe261Y"
      },
      "source": [
        "l_positive_count = list(q.values())"
      ],
      "execution_count": 198,
      "outputs": []
    },
    {
      "cell_type": "code",
      "metadata": {
        "colab": {
          "base_uri": "https://localhost:8080/"
        },
        "id": "AWHLQxdB269i",
        "outputId": "4427a674-95ac-465d-bafe-c22b5073041a"
      },
      "source": [
        "l_positive_count[0:4]"
      ],
      "execution_count": 199,
      "outputs": [
        {
          "output_type": "execute_result",
          "data": {
            "text/plain": [
              "[1576, 905, 636, 558]"
            ]
          },
          "metadata": {
            "tags": []
          },
          "execution_count": 199
        }
      ]
    },
    {
      "cell_type": "code",
      "metadata": {
        "id": "rNf3kvf627BX"
      },
      "source": [
        "r = Counter(hash_negative)\r\n",
        "r = dict(r.most_common())"
      ],
      "execution_count": 200,
      "outputs": []
    },
    {
      "cell_type": "code",
      "metadata": {
        "id": "LUmuijh427Ds"
      },
      "source": [
        "l_negative_count = list(r.values())"
      ],
      "execution_count": 201,
      "outputs": []
    },
    {
      "cell_type": "code",
      "metadata": {
        "colab": {
          "base_uri": "https://localhost:8080/"
        },
        "id": "-eQlSFH_27GQ",
        "outputId": "0d36c12d-97a1-4443-98af-8670c755a6ec"
      },
      "source": [
        "l_negative_count[0:4]"
      ],
      "execution_count": 202,
      "outputs": [
        {
          "output_type": "execute_result",
          "data": {
            "text/plain": [
              "[133, 94, 92, 79]"
            ]
          },
          "metadata": {
            "tags": []
          },
          "execution_count": 202
        }
      ]
    },
    {
      "cell_type": "code",
      "metadata": {
        "id": "bI3y-4tm27Iv"
      },
      "source": [
        "l_positive_values = list(q.keys())"
      ],
      "execution_count": 203,
      "outputs": []
    },
    {
      "cell_type": "code",
      "metadata": {
        "colab": {
          "base_uri": "https://localhost:8080/"
        },
        "id": "IT6_nkv327Ld",
        "outputId": "399df157-907d-473a-a2e2-30127490daf9"
      },
      "source": [
        "l_positive_values[0:4]"
      ],
      "execution_count": 204,
      "outputs": [
        {
          "output_type": "execute_result",
          "data": {
            "text/plain": [
              "['love', 'posit', 'smile', 'healthi']"
            ]
          },
          "metadata": {
            "tags": []
          },
          "execution_count": 204
        }
      ]
    },
    {
      "cell_type": "code",
      "metadata": {
        "id": "Hu9Wo4dH27OK"
      },
      "source": [
        "\r\n",
        "l_negative_values = list(r.keys())"
      ],
      "execution_count": 205,
      "outputs": []
    },
    {
      "cell_type": "code",
      "metadata": {
        "colab": {
          "base_uri": "https://localhost:8080/"
        },
        "id": "BkkXF6is27Q_",
        "outputId": "bd89ea95-1774-408e-c822-ac2ac52047a5"
      },
      "source": [
        "l_negative_values[0:4]"
      ],
      "execution_count": 206,
      "outputs": [
        {
          "output_type": "execute_result",
          "data": {
            "text/plain": [
              "['trump', 'polit', 'allahsoil', 'liber']"
            ]
          },
          "metadata": {
            "tags": []
          },
          "execution_count": 206
        }
      ]
    },
    {
      "cell_type": "code",
      "metadata": {
        "colab": {
          "base_uri": "https://localhost:8080/",
          "height": 648
        },
        "id": "NohfGTSR27TJ",
        "outputId": "1bde705c-dce5-4574-9eab-16d602c0d649"
      },
      "source": [
        "#Creating a dataframe to represent top 20 positive and negative hash words\r\n",
        "l1 = pd.DataFrame(l_positive_values[0:20],columns = ['Positive_Words'])\r\n",
        "l2 = pd.DataFrame(l_positive_count[0:20],columns = ['Positive_Count'])\r\n",
        "l3 = pd.DataFrame(l_negative_values[0:20],columns = ['Negative_Words'])\r\n",
        "l4 = pd.DataFrame(l_negative_count[0:20],columns = ['Negative_Count'])\r\n",
        "z = pd.concat([l1,l2,l3,l4],axis = 1)\r\n",
        "z"
      ],
      "execution_count": 207,
      "outputs": [
        {
          "output_type": "execute_result",
          "data": {
            "text/html": [
              "<div>\n",
              "<style scoped>\n",
              "    .dataframe tbody tr th:only-of-type {\n",
              "        vertical-align: middle;\n",
              "    }\n",
              "\n",
              "    .dataframe tbody tr th {\n",
              "        vertical-align: top;\n",
              "    }\n",
              "\n",
              "    .dataframe thead th {\n",
              "        text-align: right;\n",
              "    }\n",
              "</style>\n",
              "<table border=\"1\" class=\"dataframe\">\n",
              "  <thead>\n",
              "    <tr style=\"text-align: right;\">\n",
              "      <th></th>\n",
              "      <th>Positive_Words</th>\n",
              "      <th>Positive_Count</th>\n",
              "      <th>Negative_Words</th>\n",
              "      <th>Negative_Count</th>\n",
              "    </tr>\n",
              "  </thead>\n",
              "  <tbody>\n",
              "    <tr>\n",
              "      <th>0</th>\n",
              "      <td>love</td>\n",
              "      <td>1576</td>\n",
              "      <td>trump</td>\n",
              "      <td>133</td>\n",
              "    </tr>\n",
              "    <tr>\n",
              "      <th>1</th>\n",
              "      <td>posit</td>\n",
              "      <td>905</td>\n",
              "      <td>polit</td>\n",
              "      <td>94</td>\n",
              "    </tr>\n",
              "    <tr>\n",
              "      <th>2</th>\n",
              "      <td>smile</td>\n",
              "      <td>636</td>\n",
              "      <td>allahsoil</td>\n",
              "      <td>92</td>\n",
              "    </tr>\n",
              "    <tr>\n",
              "      <th>3</th>\n",
              "      <td>healthi</td>\n",
              "      <td>558</td>\n",
              "      <td>liber</td>\n",
              "      <td>79</td>\n",
              "    </tr>\n",
              "    <tr>\n",
              "      <th>4</th>\n",
              "      <td>thank</td>\n",
              "      <td>526</td>\n",
              "      <td>libtard</td>\n",
              "      <td>77</td>\n",
              "    </tr>\n",
              "    <tr>\n",
              "      <th>5</th>\n",
              "      <td>fun</td>\n",
              "      <td>434</td>\n",
              "      <td>sjw</td>\n",
              "      <td>75</td>\n",
              "    </tr>\n",
              "    <tr>\n",
              "      <th>6</th>\n",
              "      <td>affirm</td>\n",
              "      <td>422</td>\n",
              "      <td>retweet</td>\n",
              "      <td>57</td>\n",
              "    </tr>\n",
              "    <tr>\n",
              "      <th>7</th>\n",
              "      <td>life</td>\n",
              "      <td>399</td>\n",
              "      <td>black</td>\n",
              "      <td>46</td>\n",
              "    </tr>\n",
              "    <tr>\n",
              "      <th>8</th>\n",
              "      <td>model</td>\n",
              "      <td>374</td>\n",
              "      <td>miamiâ</td>\n",
              "      <td>38</td>\n",
              "    </tr>\n",
              "    <tr>\n",
              "      <th>9</th>\n",
              "      <td>summer</td>\n",
              "      <td>362</td>\n",
              "      <td>hate</td>\n",
              "      <td>36</td>\n",
              "    </tr>\n",
              "    <tr>\n",
              "      <th>10</th>\n",
              "      <td>cute</td>\n",
              "      <td>356</td>\n",
              "      <td>bigot</td>\n",
              "      <td>35</td>\n",
              "    </tr>\n",
              "    <tr>\n",
              "      <th>11</th>\n",
              "      <td>blog</td>\n",
              "      <td>355</td>\n",
              "      <td>tampa</td>\n",
              "      <td>32</td>\n",
              "    </tr>\n",
              "    <tr>\n",
              "      <th>12</th>\n",
              "      <td>i_am</td>\n",
              "      <td>352</td>\n",
              "      <td>obama</td>\n",
              "      <td>31</td>\n",
              "    </tr>\n",
              "    <tr>\n",
              "      <th>13</th>\n",
              "      <td>beauti</td>\n",
              "      <td>347</td>\n",
              "      <td>blm</td>\n",
              "      <td>28</td>\n",
              "    </tr>\n",
              "    <tr>\n",
              "      <th>14</th>\n",
              "      <td>fathersday</td>\n",
              "      <td>332</td>\n",
              "      <td>hispan</td>\n",
              "      <td>28</td>\n",
              "    </tr>\n",
              "    <tr>\n",
              "      <th>15</th>\n",
              "      <td>me</td>\n",
              "      <td>331</td>\n",
              "      <td>brexit</td>\n",
              "      <td>27</td>\n",
              "    </tr>\n",
              "    <tr>\n",
              "      <th>16</th>\n",
              "      <td>happi</td>\n",
              "      <td>328</td>\n",
              "      <td>sikh</td>\n",
              "      <td>27</td>\n",
              "    </tr>\n",
              "    <tr>\n",
              "      <th>17</th>\n",
              "      <td>friend</td>\n",
              "      <td>319</td>\n",
              "      <td>templ</td>\n",
              "      <td>26</td>\n",
              "    </tr>\n",
              "    <tr>\n",
              "      <th>18</th>\n",
              "      <td>silver</td>\n",
              "      <td>299</td>\n",
              "      <td>calgary</td>\n",
              "      <td>26</td>\n",
              "    </tr>\n",
              "    <tr>\n",
              "      <th>19</th>\n",
              "      <td>gold</td>\n",
              "      <td>298</td>\n",
              "      <td>wso</td>\n",
              "      <td>26</td>\n",
              "    </tr>\n",
              "  </tbody>\n",
              "</table>\n",
              "</div>"
            ],
            "text/plain": [
              "   Positive_Words  Positive_Count Negative_Words  Negative_Count\n",
              "0            love            1576          trump             133\n",
              "1           posit             905          polit              94\n",
              "2           smile             636      allahsoil              92\n",
              "3         healthi             558          liber              79\n",
              "4           thank             526        libtard              77\n",
              "5             fun             434            sjw              75\n",
              "6          affirm             422        retweet              57\n",
              "7            life             399          black              46\n",
              "8           model             374         miamiâ              38\n",
              "9          summer             362           hate              36\n",
              "10           cute             356          bigot              35\n",
              "11           blog             355          tampa              32\n",
              "12           i_am             352          obama              31\n",
              "13         beauti             347            blm              28\n",
              "14     fathersday             332         hispan              28\n",
              "15             me             331         brexit              27\n",
              "16          happi             328           sikh              27\n",
              "17         friend             319          templ              26\n",
              "18         silver             299        calgary              26\n",
              "19           gold             298            wso              26"
            ]
          },
          "metadata": {
            "tags": []
          },
          "execution_count": 207
        }
      ]
    },
    {
      "cell_type": "code",
      "metadata": {
        "colab": {
          "base_uri": "https://localhost:8080/",
          "height": 542
        },
        "id": "D88yRPnQ27Vx",
        "outputId": "0049f8a0-45e3-4ef7-afdf-fd003628de86"
      },
      "source": [
        "\r\n",
        "#Animated plot for positive words with their frequency\r\n",
        "fig = px.bar(z, x=\"Positive_Words\", y=\"Positive_Count\",animation_frame=\"Positive_Count\",\r\n",
        "            hover_name=\"Positive_Words\")\r\n",
        "fig.layout.updatemenus[0].buttons[0].args[1][\"frame\"][\"duration\"] = 1200\r\n",
        "fig.show()"
      ],
      "execution_count": 208,
      "outputs": [
        {
          "output_type": "display_data",
          "data": {
            "text/html": [
              "<html>\n",
              "<head><meta charset=\"utf-8\" /></head>\n",
              "<body>\n",
              "    <div>\n",
              "            <script src=\"https://cdnjs.cloudflare.com/ajax/libs/mathjax/2.7.5/MathJax.js?config=TeX-AMS-MML_SVG\"></script><script type=\"text/javascript\">if (window.MathJax) {MathJax.Hub.Config({SVG: {font: \"STIX-Web\"}});}</script>\n",
              "                <script type=\"text/javascript\">window.PlotlyConfig = {MathJaxConfig: 'local'};</script>\n",
              "        <script src=\"https://cdn.plot.ly/plotly-latest.min.js\"></script>    \n",
              "            <div id=\"9fae8dc4-6805-4879-9027-a495c6f4219a\" class=\"plotly-graph-div\" style=\"height:525px; width:100%;\"></div>\n",
              "            <script type=\"text/javascript\">\n",
              "                \n",
              "                    window.PLOTLYENV=window.PLOTLYENV || {};\n",
              "                    \n",
              "                if (document.getElementById(\"9fae8dc4-6805-4879-9027-a495c6f4219a\")) {\n",
              "                    Plotly.newPlot(\n",
              "                        '9fae8dc4-6805-4879-9027-a495c6f4219a',\n",
              "                        [{\"alignmentgroup\": \"True\", \"hoverlabel\": {\"namelength\": 0}, \"hovertemplate\": \"<b>%{hovertext}</b><br><br>Positive_Count=%{y}<br>Positive_Words=%{x}\", \"hovertext\": [\"love\"], \"legendgroup\": \"\", \"marker\": {\"color\": \"#636efa\"}, \"name\": \"\", \"offsetgroup\": \"\", \"orientation\": \"v\", \"showlegend\": false, \"textposition\": \"auto\", \"type\": \"bar\", \"x\": [\"love\"], \"xaxis\": \"x\", \"y\": [1576], \"yaxis\": \"y\"}],\n",
              "                        {\"barmode\": \"relative\", \"legend\": {\"tracegroupgap\": 0}, \"margin\": {\"t\": 60}, \"sliders\": [{\"active\": 0, \"currentvalue\": {\"prefix\": \"Positive_Count=\"}, \"len\": 0.9, \"pad\": {\"b\": 10, \"t\": 60}, \"steps\": [{\"args\": [[\"1576\"], {\"frame\": {\"duration\": 0, \"redraw\": true}, \"fromcurrent\": true, \"mode\": \"immediate\", \"transition\": {\"duration\": 0, \"easing\": \"linear\"}}], \"label\": \"1576\", \"method\": \"animate\"}, {\"args\": [[\"905\"], {\"frame\": {\"duration\": 0, \"redraw\": true}, \"fromcurrent\": true, \"mode\": \"immediate\", \"transition\": {\"duration\": 0, \"easing\": \"linear\"}}], \"label\": \"905\", \"method\": \"animate\"}, {\"args\": [[\"636\"], {\"frame\": {\"duration\": 0, \"redraw\": true}, \"fromcurrent\": true, \"mode\": \"immediate\", \"transition\": {\"duration\": 0, \"easing\": \"linear\"}}], \"label\": \"636\", \"method\": \"animate\"}, {\"args\": [[\"558\"], {\"frame\": {\"duration\": 0, \"redraw\": true}, \"fromcurrent\": true, \"mode\": \"immediate\", \"transition\": {\"duration\": 0, \"easing\": \"linear\"}}], \"label\": \"558\", \"method\": \"animate\"}, {\"args\": [[\"526\"], {\"frame\": {\"duration\": 0, \"redraw\": true}, \"fromcurrent\": true, \"mode\": \"immediate\", \"transition\": {\"duration\": 0, \"easing\": \"linear\"}}], \"label\": \"526\", \"method\": \"animate\"}, {\"args\": [[\"434\"], {\"frame\": {\"duration\": 0, \"redraw\": true}, \"fromcurrent\": true, \"mode\": \"immediate\", \"transition\": {\"duration\": 0, \"easing\": \"linear\"}}], \"label\": \"434\", \"method\": \"animate\"}, {\"args\": [[\"422\"], {\"frame\": {\"duration\": 0, \"redraw\": true}, \"fromcurrent\": true, \"mode\": \"immediate\", \"transition\": {\"duration\": 0, \"easing\": \"linear\"}}], \"label\": \"422\", \"method\": \"animate\"}, {\"args\": [[\"399\"], {\"frame\": {\"duration\": 0, \"redraw\": true}, \"fromcurrent\": true, \"mode\": \"immediate\", \"transition\": {\"duration\": 0, \"easing\": \"linear\"}}], \"label\": \"399\", \"method\": \"animate\"}, {\"args\": [[\"374\"], {\"frame\": {\"duration\": 0, \"redraw\": true}, \"fromcurrent\": true, \"mode\": \"immediate\", \"transition\": {\"duration\": 0, \"easing\": \"linear\"}}], \"label\": \"374\", \"method\": \"animate\"}, {\"args\": [[\"362\"], {\"frame\": {\"duration\": 0, \"redraw\": true}, \"fromcurrent\": true, \"mode\": \"immediate\", \"transition\": {\"duration\": 0, \"easing\": \"linear\"}}], \"label\": \"362\", \"method\": \"animate\"}, {\"args\": [[\"356\"], {\"frame\": {\"duration\": 0, \"redraw\": true}, \"fromcurrent\": true, \"mode\": \"immediate\", \"transition\": {\"duration\": 0, \"easing\": \"linear\"}}], \"label\": \"356\", \"method\": \"animate\"}, {\"args\": [[\"355\"], {\"frame\": {\"duration\": 0, \"redraw\": true}, \"fromcurrent\": true, \"mode\": \"immediate\", \"transition\": {\"duration\": 0, \"easing\": \"linear\"}}], \"label\": \"355\", \"method\": \"animate\"}, {\"args\": [[\"352\"], {\"frame\": {\"duration\": 0, \"redraw\": true}, \"fromcurrent\": true, \"mode\": \"immediate\", \"transition\": {\"duration\": 0, \"easing\": \"linear\"}}], \"label\": \"352\", \"method\": \"animate\"}, {\"args\": [[\"347\"], {\"frame\": {\"duration\": 0, \"redraw\": true}, \"fromcurrent\": true, \"mode\": \"immediate\", \"transition\": {\"duration\": 0, \"easing\": \"linear\"}}], \"label\": \"347\", \"method\": \"animate\"}, {\"args\": [[\"332\"], {\"frame\": {\"duration\": 0, \"redraw\": true}, \"fromcurrent\": true, \"mode\": \"immediate\", \"transition\": {\"duration\": 0, \"easing\": \"linear\"}}], \"label\": \"332\", \"method\": \"animate\"}, {\"args\": [[\"331\"], {\"frame\": {\"duration\": 0, \"redraw\": true}, \"fromcurrent\": true, \"mode\": \"immediate\", \"transition\": {\"duration\": 0, \"easing\": \"linear\"}}], \"label\": \"331\", \"method\": \"animate\"}, {\"args\": [[\"328\"], {\"frame\": {\"duration\": 0, \"redraw\": true}, \"fromcurrent\": true, \"mode\": \"immediate\", \"transition\": {\"duration\": 0, \"easing\": \"linear\"}}], \"label\": \"328\", \"method\": \"animate\"}, {\"args\": [[\"319\"], {\"frame\": {\"duration\": 0, \"redraw\": true}, \"fromcurrent\": true, \"mode\": \"immediate\", \"transition\": {\"duration\": 0, \"easing\": \"linear\"}}], \"label\": \"319\", \"method\": \"animate\"}, {\"args\": [[\"299\"], {\"frame\": {\"duration\": 0, \"redraw\": true}, \"fromcurrent\": true, \"mode\": \"immediate\", \"transition\": {\"duration\": 0, \"easing\": \"linear\"}}], \"label\": \"299\", \"method\": \"animate\"}, {\"args\": [[\"298\"], {\"frame\": {\"duration\": 0, \"redraw\": true}, \"fromcurrent\": true, \"mode\": \"immediate\", \"transition\": {\"duration\": 0, \"easing\": \"linear\"}}], \"label\": \"298\", \"method\": \"animate\"}], \"x\": 0.1, \"xanchor\": \"left\", \"y\": 0, \"yanchor\": \"top\"}], \"template\": {\"data\": {\"bar\": [{\"error_x\": {\"color\": \"#2a3f5f\"}, \"error_y\": {\"color\": \"#2a3f5f\"}, \"marker\": {\"line\": {\"color\": \"#E5ECF6\", \"width\": 0.5}}, \"type\": \"bar\"}], \"barpolar\": [{\"marker\": {\"line\": {\"color\": \"#E5ECF6\", \"width\": 0.5}}, \"type\": \"barpolar\"}], \"carpet\": [{\"aaxis\": {\"endlinecolor\": \"#2a3f5f\", \"gridcolor\": \"white\", \"linecolor\": \"white\", \"minorgridcolor\": \"white\", \"startlinecolor\": \"#2a3f5f\"}, \"baxis\": {\"endlinecolor\": \"#2a3f5f\", \"gridcolor\": \"white\", \"linecolor\": \"white\", \"minorgridcolor\": \"white\", \"startlinecolor\": \"#2a3f5f\"}, \"type\": \"carpet\"}], \"choropleth\": [{\"colorbar\": {\"outlinewidth\": 0, \"ticks\": \"\"}, \"type\": \"choropleth\"}], \"contour\": [{\"colorbar\": {\"outlinewidth\": 0, \"ticks\": \"\"}, \"colorscale\": [[0.0, \"#0d0887\"], [0.1111111111111111, \"#46039f\"], [0.2222222222222222, \"#7201a8\"], [0.3333333333333333, \"#9c179e\"], [0.4444444444444444, \"#bd3786\"], [0.5555555555555556, \"#d8576b\"], [0.6666666666666666, \"#ed7953\"], [0.7777777777777778, \"#fb9f3a\"], [0.8888888888888888, \"#fdca26\"], [1.0, \"#f0f921\"]], \"type\": \"contour\"}], \"contourcarpet\": [{\"colorbar\": {\"outlinewidth\": 0, \"ticks\": \"\"}, \"type\": \"contourcarpet\"}], \"heatmap\": [{\"colorbar\": {\"outlinewidth\": 0, \"ticks\": \"\"}, \"colorscale\": [[0.0, \"#0d0887\"], [0.1111111111111111, \"#46039f\"], [0.2222222222222222, \"#7201a8\"], [0.3333333333333333, \"#9c179e\"], [0.4444444444444444, \"#bd3786\"], [0.5555555555555556, \"#d8576b\"], [0.6666666666666666, \"#ed7953\"], [0.7777777777777778, \"#fb9f3a\"], [0.8888888888888888, \"#fdca26\"], [1.0, \"#f0f921\"]], \"type\": \"heatmap\"}], \"heatmapgl\": [{\"colorbar\": {\"outlinewidth\": 0, \"ticks\": \"\"}, \"colorscale\": [[0.0, \"#0d0887\"], [0.1111111111111111, \"#46039f\"], [0.2222222222222222, \"#7201a8\"], [0.3333333333333333, \"#9c179e\"], [0.4444444444444444, \"#bd3786\"], [0.5555555555555556, \"#d8576b\"], [0.6666666666666666, \"#ed7953\"], [0.7777777777777778, \"#fb9f3a\"], [0.8888888888888888, \"#fdca26\"], [1.0, \"#f0f921\"]], \"type\": \"heatmapgl\"}], \"histogram\": [{\"marker\": {\"colorbar\": {\"outlinewidth\": 0, \"ticks\": \"\"}}, \"type\": \"histogram\"}], \"histogram2d\": [{\"colorbar\": {\"outlinewidth\": 0, \"ticks\": \"\"}, \"colorscale\": [[0.0, \"#0d0887\"], [0.1111111111111111, \"#46039f\"], [0.2222222222222222, \"#7201a8\"], [0.3333333333333333, \"#9c179e\"], [0.4444444444444444, \"#bd3786\"], [0.5555555555555556, \"#d8576b\"], [0.6666666666666666, \"#ed7953\"], [0.7777777777777778, \"#fb9f3a\"], [0.8888888888888888, \"#fdca26\"], [1.0, \"#f0f921\"]], \"type\": \"histogram2d\"}], \"histogram2dcontour\": [{\"colorbar\": {\"outlinewidth\": 0, \"ticks\": \"\"}, \"colorscale\": [[0.0, \"#0d0887\"], [0.1111111111111111, \"#46039f\"], [0.2222222222222222, \"#7201a8\"], [0.3333333333333333, \"#9c179e\"], [0.4444444444444444, \"#bd3786\"], [0.5555555555555556, \"#d8576b\"], [0.6666666666666666, \"#ed7953\"], [0.7777777777777778, \"#fb9f3a\"], [0.8888888888888888, \"#fdca26\"], [1.0, \"#f0f921\"]], \"type\": \"histogram2dcontour\"}], \"mesh3d\": [{\"colorbar\": {\"outlinewidth\": 0, \"ticks\": \"\"}, \"type\": \"mesh3d\"}], \"parcoords\": [{\"line\": {\"colorbar\": {\"outlinewidth\": 0, \"ticks\": \"\"}}, \"type\": \"parcoords\"}], \"pie\": [{\"automargin\": true, \"type\": \"pie\"}], \"scatter\": [{\"marker\": {\"colorbar\": {\"outlinewidth\": 0, \"ticks\": \"\"}}, \"type\": \"scatter\"}], \"scatter3d\": [{\"line\": {\"colorbar\": {\"outlinewidth\": 0, \"ticks\": \"\"}}, \"marker\": {\"colorbar\": {\"outlinewidth\": 0, \"ticks\": \"\"}}, \"type\": \"scatter3d\"}], \"scattercarpet\": [{\"marker\": {\"colorbar\": {\"outlinewidth\": 0, \"ticks\": \"\"}}, \"type\": \"scattercarpet\"}], \"scattergeo\": [{\"marker\": {\"colorbar\": {\"outlinewidth\": 0, \"ticks\": \"\"}}, \"type\": \"scattergeo\"}], \"scattergl\": [{\"marker\": {\"colorbar\": {\"outlinewidth\": 0, \"ticks\": \"\"}}, \"type\": \"scattergl\"}], \"scattermapbox\": [{\"marker\": {\"colorbar\": {\"outlinewidth\": 0, \"ticks\": \"\"}}, \"type\": \"scattermapbox\"}], \"scatterpolar\": [{\"marker\": {\"colorbar\": {\"outlinewidth\": 0, \"ticks\": \"\"}}, \"type\": \"scatterpolar\"}], \"scatterpolargl\": [{\"marker\": {\"colorbar\": {\"outlinewidth\": 0, \"ticks\": \"\"}}, \"type\": \"scatterpolargl\"}], \"scatterternary\": [{\"marker\": {\"colorbar\": {\"outlinewidth\": 0, \"ticks\": \"\"}}, \"type\": \"scatterternary\"}], \"surface\": [{\"colorbar\": {\"outlinewidth\": 0, \"ticks\": \"\"}, \"colorscale\": [[0.0, \"#0d0887\"], [0.1111111111111111, \"#46039f\"], [0.2222222222222222, \"#7201a8\"], [0.3333333333333333, \"#9c179e\"], [0.4444444444444444, \"#bd3786\"], [0.5555555555555556, \"#d8576b\"], [0.6666666666666666, \"#ed7953\"], [0.7777777777777778, \"#fb9f3a\"], [0.8888888888888888, \"#fdca26\"], [1.0, \"#f0f921\"]], \"type\": \"surface\"}], \"table\": [{\"cells\": {\"fill\": {\"color\": \"#EBF0F8\"}, \"line\": {\"color\": \"white\"}}, \"header\": {\"fill\": {\"color\": \"#C8D4E3\"}, \"line\": {\"color\": \"white\"}}, \"type\": \"table\"}]}, \"layout\": {\"annotationdefaults\": {\"arrowcolor\": \"#2a3f5f\", \"arrowhead\": 0, \"arrowwidth\": 1}, \"coloraxis\": {\"colorbar\": {\"outlinewidth\": 0, \"ticks\": \"\"}}, \"colorscale\": {\"diverging\": [[0, \"#8e0152\"], [0.1, \"#c51b7d\"], [0.2, \"#de77ae\"], [0.3, \"#f1b6da\"], [0.4, \"#fde0ef\"], [0.5, \"#f7f7f7\"], [0.6, \"#e6f5d0\"], [0.7, \"#b8e186\"], [0.8, \"#7fbc41\"], [0.9, \"#4d9221\"], [1, \"#276419\"]], \"sequential\": [[0.0, \"#0d0887\"], [0.1111111111111111, \"#46039f\"], [0.2222222222222222, \"#7201a8\"], [0.3333333333333333, \"#9c179e\"], [0.4444444444444444, \"#bd3786\"], [0.5555555555555556, \"#d8576b\"], [0.6666666666666666, \"#ed7953\"], [0.7777777777777778, \"#fb9f3a\"], [0.8888888888888888, \"#fdca26\"], [1.0, \"#f0f921\"]], \"sequentialminus\": [[0.0, \"#0d0887\"], [0.1111111111111111, \"#46039f\"], [0.2222222222222222, \"#7201a8\"], [0.3333333333333333, \"#9c179e\"], [0.4444444444444444, \"#bd3786\"], [0.5555555555555556, \"#d8576b\"], [0.6666666666666666, \"#ed7953\"], [0.7777777777777778, \"#fb9f3a\"], [0.8888888888888888, \"#fdca26\"], [1.0, \"#f0f921\"]]}, \"colorway\": [\"#636efa\", \"#EF553B\", \"#00cc96\", \"#ab63fa\", \"#FFA15A\", \"#19d3f3\", \"#FF6692\", \"#B6E880\", \"#FF97FF\", \"#FECB52\"], \"font\": {\"color\": \"#2a3f5f\"}, \"geo\": {\"bgcolor\": \"white\", \"lakecolor\": \"white\", \"landcolor\": \"#E5ECF6\", \"showlakes\": true, \"showland\": true, \"subunitcolor\": \"white\"}, \"hoverlabel\": {\"align\": \"left\"}, \"hovermode\": \"closest\", \"mapbox\": {\"style\": \"light\"}, \"paper_bgcolor\": \"white\", \"plot_bgcolor\": \"#E5ECF6\", \"polar\": {\"angularaxis\": {\"gridcolor\": \"white\", \"linecolor\": \"white\", \"ticks\": \"\"}, \"bgcolor\": \"#E5ECF6\", \"radialaxis\": {\"gridcolor\": \"white\", \"linecolor\": \"white\", \"ticks\": \"\"}}, \"scene\": {\"xaxis\": {\"backgroundcolor\": \"#E5ECF6\", \"gridcolor\": \"white\", \"gridwidth\": 2, \"linecolor\": \"white\", \"showbackground\": true, \"ticks\": \"\", \"zerolinecolor\": \"white\"}, \"yaxis\": {\"backgroundcolor\": \"#E5ECF6\", \"gridcolor\": \"white\", \"gridwidth\": 2, \"linecolor\": \"white\", \"showbackground\": true, \"ticks\": \"\", \"zerolinecolor\": \"white\"}, \"zaxis\": {\"backgroundcolor\": \"#E5ECF6\", \"gridcolor\": \"white\", \"gridwidth\": 2, \"linecolor\": \"white\", \"showbackground\": true, \"ticks\": \"\", \"zerolinecolor\": \"white\"}}, \"shapedefaults\": {\"line\": {\"color\": \"#2a3f5f\"}}, \"ternary\": {\"aaxis\": {\"gridcolor\": \"white\", \"linecolor\": \"white\", \"ticks\": \"\"}, \"baxis\": {\"gridcolor\": \"white\", \"linecolor\": \"white\", \"ticks\": \"\"}, \"bgcolor\": \"#E5ECF6\", \"caxis\": {\"gridcolor\": \"white\", \"linecolor\": \"white\", \"ticks\": \"\"}}, \"title\": {\"x\": 0.05}, \"xaxis\": {\"automargin\": true, \"gridcolor\": \"white\", \"linecolor\": \"white\", \"ticks\": \"\", \"title\": {\"standoff\": 15}, \"zerolinecolor\": \"white\", \"zerolinewidth\": 2}, \"yaxis\": {\"automargin\": true, \"gridcolor\": \"white\", \"linecolor\": \"white\", \"ticks\": \"\", \"title\": {\"standoff\": 15}, \"zerolinecolor\": \"white\", \"zerolinewidth\": 2}}}, \"updatemenus\": [{\"buttons\": [{\"args\": [null, {\"frame\": {\"duration\": 1200, \"redraw\": true}, \"fromcurrent\": true, \"mode\": \"immediate\", \"transition\": {\"duration\": 500, \"easing\": \"linear\"}}], \"label\": \"&#9654;\", \"method\": \"animate\"}, {\"args\": [[null], {\"frame\": {\"duration\": 0, \"redraw\": true}, \"fromcurrent\": true, \"mode\": \"immediate\", \"transition\": {\"duration\": 0, \"easing\": \"linear\"}}], \"label\": \"&#9724;\", \"method\": \"animate\"}], \"direction\": \"left\", \"pad\": {\"r\": 10, \"t\": 70}, \"showactive\": false, \"type\": \"buttons\", \"x\": 0.1, \"xanchor\": \"right\", \"y\": 0, \"yanchor\": \"top\"}], \"xaxis\": {\"anchor\": \"y\", \"domain\": [0.0, 1.0], \"title\": {\"text\": \"Positive_Words\"}}, \"yaxis\": {\"anchor\": \"x\", \"categoryarray\": [298, 299, 319, 328, 331, 332, 347, 352, 355, 356, 362, 374, 399, 422, 434, 526, 558, 636, 905, 1576], \"categoryorder\": \"array\", \"domain\": [0.0, 1.0], \"title\": {\"text\": \"Positive_Count\"}}},\n",
              "                        {\"responsive\": true}\n",
              "                    ).then(function(){\n",
              "                            Plotly.addFrames('9fae8dc4-6805-4879-9027-a495c6f4219a', [{\"data\": [{\"alignmentgroup\": \"True\", \"hoverlabel\": {\"namelength\": 0}, \"hovertemplate\": \"<b>%{hovertext}</b><br><br>Positive_Count=%{y}<br>Positive_Words=%{x}\", \"hovertext\": [\"love\"], \"legendgroup\": \"\", \"marker\": {\"color\": \"#636efa\"}, \"name\": \"\", \"offsetgroup\": \"\", \"orientation\": \"v\", \"showlegend\": false, \"textposition\": \"auto\", \"x\": [\"love\"], \"xaxis\": \"x\", \"y\": [1576], \"yaxis\": \"y\", \"type\": \"bar\"}], \"name\": \"1576\"}, {\"data\": [{\"alignmentgroup\": \"True\", \"hoverlabel\": {\"namelength\": 0}, \"hovertemplate\": \"<b>%{hovertext}</b><br><br>Positive_Count=%{y}<br>Positive_Words=%{x}\", \"hovertext\": [\"posit\"], \"legendgroup\": \"\", \"marker\": {\"color\": \"#636efa\"}, \"name\": \"\", \"offsetgroup\": \"\", \"orientation\": \"v\", \"showlegend\": false, \"textposition\": \"auto\", \"x\": [\"posit\"], \"xaxis\": \"x\", \"y\": [905], \"yaxis\": \"y\", \"type\": \"bar\"}], \"name\": \"905\"}, {\"data\": [{\"alignmentgroup\": \"True\", \"hoverlabel\": {\"namelength\": 0}, \"hovertemplate\": \"<b>%{hovertext}</b><br><br>Positive_Count=%{y}<br>Positive_Words=%{x}\", \"hovertext\": [\"smile\"], \"legendgroup\": \"\", \"marker\": {\"color\": \"#636efa\"}, \"name\": \"\", \"offsetgroup\": \"\", \"orientation\": \"v\", \"showlegend\": false, \"textposition\": \"auto\", \"x\": [\"smile\"], \"xaxis\": \"x\", \"y\": [636], \"yaxis\": \"y\", \"type\": \"bar\"}], \"name\": \"636\"}, {\"data\": [{\"alignmentgroup\": \"True\", \"hoverlabel\": {\"namelength\": 0}, \"hovertemplate\": \"<b>%{hovertext}</b><br><br>Positive_Count=%{y}<br>Positive_Words=%{x}\", \"hovertext\": [\"healthi\"], \"legendgroup\": \"\", \"marker\": {\"color\": \"#636efa\"}, \"name\": \"\", \"offsetgroup\": \"\", \"orientation\": \"v\", \"showlegend\": false, \"textposition\": \"auto\", \"x\": [\"healthi\"], \"xaxis\": \"x\", \"y\": [558], \"yaxis\": \"y\", \"type\": \"bar\"}], \"name\": \"558\"}, {\"data\": [{\"alignmentgroup\": \"True\", \"hoverlabel\": {\"namelength\": 0}, \"hovertemplate\": \"<b>%{hovertext}</b><br><br>Positive_Count=%{y}<br>Positive_Words=%{x}\", \"hovertext\": [\"thank\"], \"legendgroup\": \"\", \"marker\": {\"color\": \"#636efa\"}, \"name\": \"\", \"offsetgroup\": \"\", \"orientation\": \"v\", \"showlegend\": false, \"textposition\": \"auto\", \"x\": [\"thank\"], \"xaxis\": \"x\", \"y\": [526], \"yaxis\": \"y\", \"type\": \"bar\"}], \"name\": \"526\"}, {\"data\": [{\"alignmentgroup\": \"True\", \"hoverlabel\": {\"namelength\": 0}, \"hovertemplate\": \"<b>%{hovertext}</b><br><br>Positive_Count=%{y}<br>Positive_Words=%{x}\", \"hovertext\": [\"fun\"], \"legendgroup\": \"\", \"marker\": {\"color\": \"#636efa\"}, \"name\": \"\", \"offsetgroup\": \"\", \"orientation\": \"v\", \"showlegend\": false, \"textposition\": \"auto\", \"x\": [\"fun\"], \"xaxis\": \"x\", \"y\": [434], \"yaxis\": \"y\", \"type\": \"bar\"}], \"name\": \"434\"}, {\"data\": [{\"alignmentgroup\": \"True\", \"hoverlabel\": {\"namelength\": 0}, \"hovertemplate\": \"<b>%{hovertext}</b><br><br>Positive_Count=%{y}<br>Positive_Words=%{x}\", \"hovertext\": [\"affirm\"], \"legendgroup\": \"\", \"marker\": {\"color\": \"#636efa\"}, \"name\": \"\", \"offsetgroup\": \"\", \"orientation\": \"v\", \"showlegend\": false, \"textposition\": \"auto\", \"x\": [\"affirm\"], \"xaxis\": \"x\", \"y\": [422], \"yaxis\": \"y\", \"type\": \"bar\"}], \"name\": \"422\"}, {\"data\": [{\"alignmentgroup\": \"True\", \"hoverlabel\": {\"namelength\": 0}, \"hovertemplate\": \"<b>%{hovertext}</b><br><br>Positive_Count=%{y}<br>Positive_Words=%{x}\", \"hovertext\": [\"life\"], \"legendgroup\": \"\", \"marker\": {\"color\": \"#636efa\"}, \"name\": \"\", \"offsetgroup\": \"\", \"orientation\": \"v\", \"showlegend\": false, \"textposition\": \"auto\", \"x\": [\"life\"], \"xaxis\": \"x\", \"y\": [399], \"yaxis\": \"y\", \"type\": \"bar\"}], \"name\": \"399\"}, {\"data\": [{\"alignmentgroup\": \"True\", \"hoverlabel\": {\"namelength\": 0}, \"hovertemplate\": \"<b>%{hovertext}</b><br><br>Positive_Count=%{y}<br>Positive_Words=%{x}\", \"hovertext\": [\"model\"], \"legendgroup\": \"\", \"marker\": {\"color\": \"#636efa\"}, \"name\": \"\", \"offsetgroup\": \"\", \"orientation\": \"v\", \"showlegend\": false, \"textposition\": \"auto\", \"x\": [\"model\"], \"xaxis\": \"x\", \"y\": [374], \"yaxis\": \"y\", \"type\": \"bar\"}], \"name\": \"374\"}, {\"data\": [{\"alignmentgroup\": \"True\", \"hoverlabel\": {\"namelength\": 0}, \"hovertemplate\": \"<b>%{hovertext}</b><br><br>Positive_Count=%{y}<br>Positive_Words=%{x}\", \"hovertext\": [\"summer\"], \"legendgroup\": \"\", \"marker\": {\"color\": \"#636efa\"}, \"name\": \"\", \"offsetgroup\": \"\", \"orientation\": \"v\", \"showlegend\": false, \"textposition\": \"auto\", \"x\": [\"summer\"], \"xaxis\": \"x\", \"y\": [362], \"yaxis\": \"y\", \"type\": \"bar\"}], \"name\": \"362\"}, {\"data\": [{\"alignmentgroup\": \"True\", \"hoverlabel\": {\"namelength\": 0}, \"hovertemplate\": \"<b>%{hovertext}</b><br><br>Positive_Count=%{y}<br>Positive_Words=%{x}\", \"hovertext\": [\"cute\"], \"legendgroup\": \"\", \"marker\": {\"color\": \"#636efa\"}, \"name\": \"\", \"offsetgroup\": \"\", \"orientation\": \"v\", \"showlegend\": false, \"textposition\": \"auto\", \"x\": [\"cute\"], \"xaxis\": \"x\", \"y\": [356], \"yaxis\": \"y\", \"type\": \"bar\"}], \"name\": \"356\"}, {\"data\": [{\"alignmentgroup\": \"True\", \"hoverlabel\": {\"namelength\": 0}, \"hovertemplate\": \"<b>%{hovertext}</b><br><br>Positive_Count=%{y}<br>Positive_Words=%{x}\", \"hovertext\": [\"blog\"], \"legendgroup\": \"\", \"marker\": {\"color\": \"#636efa\"}, \"name\": \"\", \"offsetgroup\": \"\", \"orientation\": \"v\", \"showlegend\": false, \"textposition\": \"auto\", \"x\": [\"blog\"], \"xaxis\": \"x\", \"y\": [355], \"yaxis\": \"y\", \"type\": \"bar\"}], \"name\": \"355\"}, {\"data\": [{\"alignmentgroup\": \"True\", \"hoverlabel\": {\"namelength\": 0}, \"hovertemplate\": \"<b>%{hovertext}</b><br><br>Positive_Count=%{y}<br>Positive_Words=%{x}\", \"hovertext\": [\"i_am\"], \"legendgroup\": \"\", \"marker\": {\"color\": \"#636efa\"}, \"name\": \"\", \"offsetgroup\": \"\", \"orientation\": \"v\", \"showlegend\": false, \"textposition\": \"auto\", \"x\": [\"i_am\"], \"xaxis\": \"x\", \"y\": [352], \"yaxis\": \"y\", \"type\": \"bar\"}], \"name\": \"352\"}, {\"data\": [{\"alignmentgroup\": \"True\", \"hoverlabel\": {\"namelength\": 0}, \"hovertemplate\": \"<b>%{hovertext}</b><br><br>Positive_Count=%{y}<br>Positive_Words=%{x}\", \"hovertext\": [\"beauti\"], \"legendgroup\": \"\", \"marker\": {\"color\": \"#636efa\"}, \"name\": \"\", \"offsetgroup\": \"\", \"orientation\": \"v\", \"showlegend\": false, \"textposition\": \"auto\", \"x\": [\"beauti\"], \"xaxis\": \"x\", \"y\": [347], \"yaxis\": \"y\", \"type\": \"bar\"}], \"name\": \"347\"}, {\"data\": [{\"alignmentgroup\": \"True\", \"hoverlabel\": {\"namelength\": 0}, \"hovertemplate\": \"<b>%{hovertext}</b><br><br>Positive_Count=%{y}<br>Positive_Words=%{x}\", \"hovertext\": [\"fathersday\"], \"legendgroup\": \"\", \"marker\": {\"color\": \"#636efa\"}, \"name\": \"\", \"offsetgroup\": \"\", \"orientation\": \"v\", \"showlegend\": false, \"textposition\": \"auto\", \"x\": [\"fathersday\"], \"xaxis\": \"x\", \"y\": [332], \"yaxis\": \"y\", \"type\": \"bar\"}], \"name\": \"332\"}, {\"data\": [{\"alignmentgroup\": \"True\", \"hoverlabel\": {\"namelength\": 0}, \"hovertemplate\": \"<b>%{hovertext}</b><br><br>Positive_Count=%{y}<br>Positive_Words=%{x}\", \"hovertext\": [\"me\"], \"legendgroup\": \"\", \"marker\": {\"color\": \"#636efa\"}, \"name\": \"\", \"offsetgroup\": \"\", \"orientation\": \"v\", \"showlegend\": false, \"textposition\": \"auto\", \"x\": [\"me\"], \"xaxis\": \"x\", \"y\": [331], \"yaxis\": \"y\", \"type\": \"bar\"}], \"name\": \"331\"}, {\"data\": [{\"alignmentgroup\": \"True\", \"hoverlabel\": {\"namelength\": 0}, \"hovertemplate\": \"<b>%{hovertext}</b><br><br>Positive_Count=%{y}<br>Positive_Words=%{x}\", \"hovertext\": [\"happi\"], \"legendgroup\": \"\", \"marker\": {\"color\": \"#636efa\"}, \"name\": \"\", \"offsetgroup\": \"\", \"orientation\": \"v\", \"showlegend\": false, \"textposition\": \"auto\", \"x\": [\"happi\"], \"xaxis\": \"x\", \"y\": [328], \"yaxis\": \"y\", \"type\": \"bar\"}], \"name\": \"328\"}, {\"data\": [{\"alignmentgroup\": \"True\", \"hoverlabel\": {\"namelength\": 0}, \"hovertemplate\": \"<b>%{hovertext}</b><br><br>Positive_Count=%{y}<br>Positive_Words=%{x}\", \"hovertext\": [\"friend\"], \"legendgroup\": \"\", \"marker\": {\"color\": \"#636efa\"}, \"name\": \"\", \"offsetgroup\": \"\", \"orientation\": \"v\", \"showlegend\": false, \"textposition\": \"auto\", \"x\": [\"friend\"], \"xaxis\": \"x\", \"y\": [319], \"yaxis\": \"y\", \"type\": \"bar\"}], \"name\": \"319\"}, {\"data\": [{\"alignmentgroup\": \"True\", \"hoverlabel\": {\"namelength\": 0}, \"hovertemplate\": \"<b>%{hovertext}</b><br><br>Positive_Count=%{y}<br>Positive_Words=%{x}\", \"hovertext\": [\"silver\"], \"legendgroup\": \"\", \"marker\": {\"color\": \"#636efa\"}, \"name\": \"\", \"offsetgroup\": \"\", \"orientation\": \"v\", \"showlegend\": false, \"textposition\": \"auto\", \"x\": [\"silver\"], \"xaxis\": \"x\", \"y\": [299], \"yaxis\": \"y\", \"type\": \"bar\"}], \"name\": \"299\"}, {\"data\": [{\"alignmentgroup\": \"True\", \"hoverlabel\": {\"namelength\": 0}, \"hovertemplate\": \"<b>%{hovertext}</b><br><br>Positive_Count=%{y}<br>Positive_Words=%{x}\", \"hovertext\": [\"gold\"], \"legendgroup\": \"\", \"marker\": {\"color\": \"#636efa\"}, \"name\": \"\", \"offsetgroup\": \"\", \"orientation\": \"v\", \"showlegend\": false, \"textposition\": \"auto\", \"x\": [\"gold\"], \"xaxis\": \"x\", \"y\": [298], \"yaxis\": \"y\", \"type\": \"bar\"}], \"name\": \"298\"}]);\n",
              "                        }).then(function(){\n",
              "                            \n",
              "var gd = document.getElementById('9fae8dc4-6805-4879-9027-a495c6f4219a');\n",
              "var x = new MutationObserver(function (mutations, observer) {{\n",
              "        var display = window.getComputedStyle(gd).display;\n",
              "        if (!display || display === 'none') {{\n",
              "            console.log([gd, 'removed!']);\n",
              "            Plotly.purge(gd);\n",
              "            observer.disconnect();\n",
              "        }}\n",
              "}});\n",
              "\n",
              "// Listen for the removal of the full notebook cells\n",
              "var notebookContainer = gd.closest('#notebook-container');\n",
              "if (notebookContainer) {{\n",
              "    x.observe(notebookContainer, {childList: true});\n",
              "}}\n",
              "\n",
              "// Listen for the clearing of the current output cell\n",
              "var outputEl = gd.closest('.output');\n",
              "if (outputEl) {{\n",
              "    x.observe(outputEl, {childList: true});\n",
              "}}\n",
              "\n",
              "                        })\n",
              "                };\n",
              "                \n",
              "            </script>\n",
              "        </div>\n",
              "</body>\n",
              "</html>"
            ]
          },
          "metadata": {
            "tags": []
          }
        }
      ]
    },
    {
      "cell_type": "code",
      "metadata": {
        "colab": {
          "base_uri": "https://localhost:8080/",
          "height": 542
        },
        "id": "QwmYuCNO27YW",
        "outputId": "0e0136a1-0869-4731-96fe-97b65dbcbab6"
      },
      "source": [
        "# Animated plot for negative words with their frequency\r\n",
        "fig = px.bar(z, x=\"Negative_Words\", y=\"Negative_Count\",animation_frame=\"Negative_Count\",\r\n",
        "            hover_name=\"Negative_Words\")\r\n",
        "fig.layout.updatemenus[0].buttons[0].args[1][\"frame\"][\"duration\"] = 1200\r\n",
        "fig.show()"
      ],
      "execution_count": 209,
      "outputs": [
        {
          "output_type": "display_data",
          "data": {
            "text/html": [
              "<html>\n",
              "<head><meta charset=\"utf-8\" /></head>\n",
              "<body>\n",
              "    <div>\n",
              "            <script src=\"https://cdnjs.cloudflare.com/ajax/libs/mathjax/2.7.5/MathJax.js?config=TeX-AMS-MML_SVG\"></script><script type=\"text/javascript\">if (window.MathJax) {MathJax.Hub.Config({SVG: {font: \"STIX-Web\"}});}</script>\n",
              "                <script type=\"text/javascript\">window.PlotlyConfig = {MathJaxConfig: 'local'};</script>\n",
              "        <script src=\"https://cdn.plot.ly/plotly-latest.min.js\"></script>    \n",
              "            <div id=\"13c2e65e-9c24-44df-bdfa-3638f5d2bf9a\" class=\"plotly-graph-div\" style=\"height:525px; width:100%;\"></div>\n",
              "            <script type=\"text/javascript\">\n",
              "                \n",
              "                    window.PLOTLYENV=window.PLOTLYENV || {};\n",
              "                    \n",
              "                if (document.getElementById(\"13c2e65e-9c24-44df-bdfa-3638f5d2bf9a\")) {\n",
              "                    Plotly.newPlot(\n",
              "                        '13c2e65e-9c24-44df-bdfa-3638f5d2bf9a',\n",
              "                        [{\"alignmentgroup\": \"True\", \"hoverlabel\": {\"namelength\": 0}, \"hovertemplate\": \"<b>%{hovertext}</b><br><br>Negative_Count=%{y}<br>Negative_Words=%{x}\", \"hovertext\": [\"trump\"], \"legendgroup\": \"\", \"marker\": {\"color\": \"#636efa\"}, \"name\": \"\", \"offsetgroup\": \"\", \"orientation\": \"v\", \"showlegend\": false, \"textposition\": \"auto\", \"type\": \"bar\", \"x\": [\"trump\"], \"xaxis\": \"x\", \"y\": [133], \"yaxis\": \"y\"}],\n",
              "                        {\"barmode\": \"relative\", \"legend\": {\"tracegroupgap\": 0}, \"margin\": {\"t\": 60}, \"sliders\": [{\"active\": 0, \"currentvalue\": {\"prefix\": \"Negative_Count=\"}, \"len\": 0.9, \"pad\": {\"b\": 10, \"t\": 60}, \"steps\": [{\"args\": [[\"133\"], {\"frame\": {\"duration\": 0, \"redraw\": true}, \"fromcurrent\": true, \"mode\": \"immediate\", \"transition\": {\"duration\": 0, \"easing\": \"linear\"}}], \"label\": \"133\", \"method\": \"animate\"}, {\"args\": [[\"94\"], {\"frame\": {\"duration\": 0, \"redraw\": true}, \"fromcurrent\": true, \"mode\": \"immediate\", \"transition\": {\"duration\": 0, \"easing\": \"linear\"}}], \"label\": \"94\", \"method\": \"animate\"}, {\"args\": [[\"92\"], {\"frame\": {\"duration\": 0, \"redraw\": true}, \"fromcurrent\": true, \"mode\": \"immediate\", \"transition\": {\"duration\": 0, \"easing\": \"linear\"}}], \"label\": \"92\", \"method\": \"animate\"}, {\"args\": [[\"79\"], {\"frame\": {\"duration\": 0, \"redraw\": true}, \"fromcurrent\": true, \"mode\": \"immediate\", \"transition\": {\"duration\": 0, \"easing\": \"linear\"}}], \"label\": \"79\", \"method\": \"animate\"}, {\"args\": [[\"77\"], {\"frame\": {\"duration\": 0, \"redraw\": true}, \"fromcurrent\": true, \"mode\": \"immediate\", \"transition\": {\"duration\": 0, \"easing\": \"linear\"}}], \"label\": \"77\", \"method\": \"animate\"}, {\"args\": [[\"75\"], {\"frame\": {\"duration\": 0, \"redraw\": true}, \"fromcurrent\": true, \"mode\": \"immediate\", \"transition\": {\"duration\": 0, \"easing\": \"linear\"}}], \"label\": \"75\", \"method\": \"animate\"}, {\"args\": [[\"57\"], {\"frame\": {\"duration\": 0, \"redraw\": true}, \"fromcurrent\": true, \"mode\": \"immediate\", \"transition\": {\"duration\": 0, \"easing\": \"linear\"}}], \"label\": \"57\", \"method\": \"animate\"}, {\"args\": [[\"46\"], {\"frame\": {\"duration\": 0, \"redraw\": true}, \"fromcurrent\": true, \"mode\": \"immediate\", \"transition\": {\"duration\": 0, \"easing\": \"linear\"}}], \"label\": \"46\", \"method\": \"animate\"}, {\"args\": [[\"38\"], {\"frame\": {\"duration\": 0, \"redraw\": true}, \"fromcurrent\": true, \"mode\": \"immediate\", \"transition\": {\"duration\": 0, \"easing\": \"linear\"}}], \"label\": \"38\", \"method\": \"animate\"}, {\"args\": [[\"36\"], {\"frame\": {\"duration\": 0, \"redraw\": true}, \"fromcurrent\": true, \"mode\": \"immediate\", \"transition\": {\"duration\": 0, \"easing\": \"linear\"}}], \"label\": \"36\", \"method\": \"animate\"}, {\"args\": [[\"35\"], {\"frame\": {\"duration\": 0, \"redraw\": true}, \"fromcurrent\": true, \"mode\": \"immediate\", \"transition\": {\"duration\": 0, \"easing\": \"linear\"}}], \"label\": \"35\", \"method\": \"animate\"}, {\"args\": [[\"32\"], {\"frame\": {\"duration\": 0, \"redraw\": true}, \"fromcurrent\": true, \"mode\": \"immediate\", \"transition\": {\"duration\": 0, \"easing\": \"linear\"}}], \"label\": \"32\", \"method\": \"animate\"}, {\"args\": [[\"31\"], {\"frame\": {\"duration\": 0, \"redraw\": true}, \"fromcurrent\": true, \"mode\": \"immediate\", \"transition\": {\"duration\": 0, \"easing\": \"linear\"}}], \"label\": \"31\", \"method\": \"animate\"}, {\"args\": [[\"28\"], {\"frame\": {\"duration\": 0, \"redraw\": true}, \"fromcurrent\": true, \"mode\": \"immediate\", \"transition\": {\"duration\": 0, \"easing\": \"linear\"}}], \"label\": \"28\", \"method\": \"animate\"}, {\"args\": [[\"27\"], {\"frame\": {\"duration\": 0, \"redraw\": true}, \"fromcurrent\": true, \"mode\": \"immediate\", \"transition\": {\"duration\": 0, \"easing\": \"linear\"}}], \"label\": \"27\", \"method\": \"animate\"}, {\"args\": [[\"26\"], {\"frame\": {\"duration\": 0, \"redraw\": true}, \"fromcurrent\": true, \"mode\": \"immediate\", \"transition\": {\"duration\": 0, \"easing\": \"linear\"}}], \"label\": \"26\", \"method\": \"animate\"}], \"x\": 0.1, \"xanchor\": \"left\", \"y\": 0, \"yanchor\": \"top\"}], \"template\": {\"data\": {\"bar\": [{\"error_x\": {\"color\": \"#2a3f5f\"}, \"error_y\": {\"color\": \"#2a3f5f\"}, \"marker\": {\"line\": {\"color\": \"#E5ECF6\", \"width\": 0.5}}, \"type\": \"bar\"}], \"barpolar\": [{\"marker\": {\"line\": {\"color\": \"#E5ECF6\", \"width\": 0.5}}, \"type\": \"barpolar\"}], \"carpet\": [{\"aaxis\": {\"endlinecolor\": \"#2a3f5f\", \"gridcolor\": \"white\", \"linecolor\": \"white\", \"minorgridcolor\": \"white\", \"startlinecolor\": \"#2a3f5f\"}, \"baxis\": {\"endlinecolor\": \"#2a3f5f\", \"gridcolor\": \"white\", \"linecolor\": \"white\", \"minorgridcolor\": \"white\", \"startlinecolor\": \"#2a3f5f\"}, \"type\": \"carpet\"}], \"choropleth\": [{\"colorbar\": {\"outlinewidth\": 0, \"ticks\": \"\"}, \"type\": \"choropleth\"}], \"contour\": [{\"colorbar\": {\"outlinewidth\": 0, \"ticks\": \"\"}, \"colorscale\": [[0.0, \"#0d0887\"], [0.1111111111111111, \"#46039f\"], [0.2222222222222222, \"#7201a8\"], [0.3333333333333333, \"#9c179e\"], [0.4444444444444444, \"#bd3786\"], [0.5555555555555556, \"#d8576b\"], [0.6666666666666666, \"#ed7953\"], [0.7777777777777778, \"#fb9f3a\"], [0.8888888888888888, \"#fdca26\"], [1.0, \"#f0f921\"]], \"type\": \"contour\"}], \"contourcarpet\": [{\"colorbar\": {\"outlinewidth\": 0, \"ticks\": \"\"}, \"type\": \"contourcarpet\"}], \"heatmap\": [{\"colorbar\": {\"outlinewidth\": 0, \"ticks\": \"\"}, \"colorscale\": [[0.0, \"#0d0887\"], [0.1111111111111111, \"#46039f\"], [0.2222222222222222, \"#7201a8\"], [0.3333333333333333, \"#9c179e\"], [0.4444444444444444, \"#bd3786\"], [0.5555555555555556, \"#d8576b\"], [0.6666666666666666, \"#ed7953\"], [0.7777777777777778, \"#fb9f3a\"], [0.8888888888888888, \"#fdca26\"], [1.0, \"#f0f921\"]], \"type\": \"heatmap\"}], \"heatmapgl\": [{\"colorbar\": {\"outlinewidth\": 0, \"ticks\": \"\"}, \"colorscale\": [[0.0, \"#0d0887\"], [0.1111111111111111, \"#46039f\"], [0.2222222222222222, \"#7201a8\"], [0.3333333333333333, \"#9c179e\"], [0.4444444444444444, \"#bd3786\"], [0.5555555555555556, \"#d8576b\"], [0.6666666666666666, \"#ed7953\"], [0.7777777777777778, \"#fb9f3a\"], [0.8888888888888888, \"#fdca26\"], [1.0, \"#f0f921\"]], \"type\": \"heatmapgl\"}], \"histogram\": [{\"marker\": {\"colorbar\": {\"outlinewidth\": 0, \"ticks\": \"\"}}, \"type\": \"histogram\"}], \"histogram2d\": [{\"colorbar\": {\"outlinewidth\": 0, \"ticks\": \"\"}, \"colorscale\": [[0.0, \"#0d0887\"], [0.1111111111111111, \"#46039f\"], [0.2222222222222222, \"#7201a8\"], [0.3333333333333333, \"#9c179e\"], [0.4444444444444444, \"#bd3786\"], [0.5555555555555556, \"#d8576b\"], [0.6666666666666666, \"#ed7953\"], [0.7777777777777778, \"#fb9f3a\"], [0.8888888888888888, \"#fdca26\"], [1.0, \"#f0f921\"]], \"type\": \"histogram2d\"}], \"histogram2dcontour\": [{\"colorbar\": {\"outlinewidth\": 0, \"ticks\": \"\"}, \"colorscale\": [[0.0, \"#0d0887\"], [0.1111111111111111, \"#46039f\"], [0.2222222222222222, \"#7201a8\"], [0.3333333333333333, \"#9c179e\"], [0.4444444444444444, \"#bd3786\"], [0.5555555555555556, \"#d8576b\"], [0.6666666666666666, \"#ed7953\"], [0.7777777777777778, \"#fb9f3a\"], [0.8888888888888888, \"#fdca26\"], [1.0, \"#f0f921\"]], \"type\": \"histogram2dcontour\"}], \"mesh3d\": [{\"colorbar\": {\"outlinewidth\": 0, \"ticks\": \"\"}, \"type\": \"mesh3d\"}], \"parcoords\": [{\"line\": {\"colorbar\": {\"outlinewidth\": 0, \"ticks\": \"\"}}, \"type\": \"parcoords\"}], \"pie\": [{\"automargin\": true, \"type\": \"pie\"}], \"scatter\": [{\"marker\": {\"colorbar\": {\"outlinewidth\": 0, \"ticks\": \"\"}}, \"type\": \"scatter\"}], \"scatter3d\": [{\"line\": {\"colorbar\": {\"outlinewidth\": 0, \"ticks\": \"\"}}, \"marker\": {\"colorbar\": {\"outlinewidth\": 0, \"ticks\": \"\"}}, \"type\": \"scatter3d\"}], \"scattercarpet\": [{\"marker\": {\"colorbar\": {\"outlinewidth\": 0, \"ticks\": \"\"}}, \"type\": \"scattercarpet\"}], \"scattergeo\": [{\"marker\": {\"colorbar\": {\"outlinewidth\": 0, \"ticks\": \"\"}}, \"type\": \"scattergeo\"}], \"scattergl\": [{\"marker\": {\"colorbar\": {\"outlinewidth\": 0, \"ticks\": \"\"}}, \"type\": \"scattergl\"}], \"scattermapbox\": [{\"marker\": {\"colorbar\": {\"outlinewidth\": 0, \"ticks\": \"\"}}, \"type\": \"scattermapbox\"}], \"scatterpolar\": [{\"marker\": {\"colorbar\": {\"outlinewidth\": 0, \"ticks\": \"\"}}, \"type\": \"scatterpolar\"}], \"scatterpolargl\": [{\"marker\": {\"colorbar\": {\"outlinewidth\": 0, \"ticks\": \"\"}}, \"type\": \"scatterpolargl\"}], \"scatterternary\": [{\"marker\": {\"colorbar\": {\"outlinewidth\": 0, \"ticks\": \"\"}}, \"type\": \"scatterternary\"}], \"surface\": [{\"colorbar\": {\"outlinewidth\": 0, \"ticks\": \"\"}, \"colorscale\": [[0.0, \"#0d0887\"], [0.1111111111111111, \"#46039f\"], [0.2222222222222222, \"#7201a8\"], [0.3333333333333333, \"#9c179e\"], [0.4444444444444444, \"#bd3786\"], [0.5555555555555556, \"#d8576b\"], [0.6666666666666666, \"#ed7953\"], [0.7777777777777778, \"#fb9f3a\"], [0.8888888888888888, \"#fdca26\"], [1.0, \"#f0f921\"]], \"type\": \"surface\"}], \"table\": [{\"cells\": {\"fill\": {\"color\": \"#EBF0F8\"}, \"line\": {\"color\": \"white\"}}, \"header\": {\"fill\": {\"color\": \"#C8D4E3\"}, \"line\": {\"color\": \"white\"}}, \"type\": \"table\"}]}, \"layout\": {\"annotationdefaults\": {\"arrowcolor\": \"#2a3f5f\", \"arrowhead\": 0, \"arrowwidth\": 1}, \"coloraxis\": {\"colorbar\": {\"outlinewidth\": 0, \"ticks\": \"\"}}, \"colorscale\": {\"diverging\": [[0, \"#8e0152\"], [0.1, \"#c51b7d\"], [0.2, \"#de77ae\"], [0.3, \"#f1b6da\"], [0.4, \"#fde0ef\"], [0.5, \"#f7f7f7\"], [0.6, \"#e6f5d0\"], [0.7, \"#b8e186\"], [0.8, \"#7fbc41\"], [0.9, \"#4d9221\"], [1, \"#276419\"]], \"sequential\": [[0.0, \"#0d0887\"], [0.1111111111111111, \"#46039f\"], [0.2222222222222222, \"#7201a8\"], [0.3333333333333333, \"#9c179e\"], [0.4444444444444444, \"#bd3786\"], [0.5555555555555556, \"#d8576b\"], [0.6666666666666666, \"#ed7953\"], [0.7777777777777778, \"#fb9f3a\"], [0.8888888888888888, \"#fdca26\"], [1.0, \"#f0f921\"]], \"sequentialminus\": [[0.0, \"#0d0887\"], [0.1111111111111111, \"#46039f\"], [0.2222222222222222, \"#7201a8\"], [0.3333333333333333, \"#9c179e\"], [0.4444444444444444, \"#bd3786\"], [0.5555555555555556, \"#d8576b\"], [0.6666666666666666, \"#ed7953\"], [0.7777777777777778, \"#fb9f3a\"], [0.8888888888888888, \"#fdca26\"], [1.0, \"#f0f921\"]]}, \"colorway\": [\"#636efa\", \"#EF553B\", \"#00cc96\", \"#ab63fa\", \"#FFA15A\", \"#19d3f3\", \"#FF6692\", \"#B6E880\", \"#FF97FF\", \"#FECB52\"], \"font\": {\"color\": \"#2a3f5f\"}, \"geo\": {\"bgcolor\": \"white\", \"lakecolor\": \"white\", \"landcolor\": \"#E5ECF6\", \"showlakes\": true, \"showland\": true, \"subunitcolor\": \"white\"}, \"hoverlabel\": {\"align\": \"left\"}, \"hovermode\": \"closest\", \"mapbox\": {\"style\": \"light\"}, \"paper_bgcolor\": \"white\", \"plot_bgcolor\": \"#E5ECF6\", \"polar\": {\"angularaxis\": {\"gridcolor\": \"white\", \"linecolor\": \"white\", \"ticks\": \"\"}, \"bgcolor\": \"#E5ECF6\", \"radialaxis\": {\"gridcolor\": \"white\", \"linecolor\": \"white\", \"ticks\": \"\"}}, \"scene\": {\"xaxis\": {\"backgroundcolor\": \"#E5ECF6\", \"gridcolor\": \"white\", \"gridwidth\": 2, \"linecolor\": \"white\", \"showbackground\": true, \"ticks\": \"\", \"zerolinecolor\": \"white\"}, \"yaxis\": {\"backgroundcolor\": \"#E5ECF6\", \"gridcolor\": \"white\", \"gridwidth\": 2, \"linecolor\": \"white\", \"showbackground\": true, \"ticks\": \"\", \"zerolinecolor\": \"white\"}, \"zaxis\": {\"backgroundcolor\": \"#E5ECF6\", \"gridcolor\": \"white\", \"gridwidth\": 2, \"linecolor\": \"white\", \"showbackground\": true, \"ticks\": \"\", \"zerolinecolor\": \"white\"}}, \"shapedefaults\": {\"line\": {\"color\": \"#2a3f5f\"}}, \"ternary\": {\"aaxis\": {\"gridcolor\": \"white\", \"linecolor\": \"white\", \"ticks\": \"\"}, \"baxis\": {\"gridcolor\": \"white\", \"linecolor\": \"white\", \"ticks\": \"\"}, \"bgcolor\": \"#E5ECF6\", \"caxis\": {\"gridcolor\": \"white\", \"linecolor\": \"white\", \"ticks\": \"\"}}, \"title\": {\"x\": 0.05}, \"xaxis\": {\"automargin\": true, \"gridcolor\": \"white\", \"linecolor\": \"white\", \"ticks\": \"\", \"title\": {\"standoff\": 15}, \"zerolinecolor\": \"white\", \"zerolinewidth\": 2}, \"yaxis\": {\"automargin\": true, \"gridcolor\": \"white\", \"linecolor\": \"white\", \"ticks\": \"\", \"title\": {\"standoff\": 15}, \"zerolinecolor\": \"white\", \"zerolinewidth\": 2}}}, \"updatemenus\": [{\"buttons\": [{\"args\": [null, {\"frame\": {\"duration\": 1200, \"redraw\": true}, \"fromcurrent\": true, \"mode\": \"immediate\", \"transition\": {\"duration\": 500, \"easing\": \"linear\"}}], \"label\": \"&#9654;\", \"method\": \"animate\"}, {\"args\": [[null], {\"frame\": {\"duration\": 0, \"redraw\": true}, \"fromcurrent\": true, \"mode\": \"immediate\", \"transition\": {\"duration\": 0, \"easing\": \"linear\"}}], \"label\": \"&#9724;\", \"method\": \"animate\"}], \"direction\": \"left\", \"pad\": {\"r\": 10, \"t\": 70}, \"showactive\": false, \"type\": \"buttons\", \"x\": 0.1, \"xanchor\": \"right\", \"y\": 0, \"yanchor\": \"top\"}], \"xaxis\": {\"anchor\": \"y\", \"domain\": [0.0, 1.0], \"title\": {\"text\": \"Negative_Words\"}}, \"yaxis\": {\"anchor\": \"x\", \"categoryarray\": [26, 27, 28, 31, 32, 35, 36, 38, 46, 57, 75, 77, 79, 92, 94, 133], \"categoryorder\": \"array\", \"domain\": [0.0, 1.0], \"title\": {\"text\": \"Negative_Count\"}}},\n",
              "                        {\"responsive\": true}\n",
              "                    ).then(function(){\n",
              "                            Plotly.addFrames('13c2e65e-9c24-44df-bdfa-3638f5d2bf9a', [{\"data\": [{\"alignmentgroup\": \"True\", \"hoverlabel\": {\"namelength\": 0}, \"hovertemplate\": \"<b>%{hovertext}</b><br><br>Negative_Count=%{y}<br>Negative_Words=%{x}\", \"hovertext\": [\"trump\"], \"legendgroup\": \"\", \"marker\": {\"color\": \"#636efa\"}, \"name\": \"\", \"offsetgroup\": \"\", \"orientation\": \"v\", \"showlegend\": false, \"textposition\": \"auto\", \"x\": [\"trump\"], \"xaxis\": \"x\", \"y\": [133], \"yaxis\": \"y\", \"type\": \"bar\"}], \"name\": \"133\"}, {\"data\": [{\"alignmentgroup\": \"True\", \"hoverlabel\": {\"namelength\": 0}, \"hovertemplate\": \"<b>%{hovertext}</b><br><br>Negative_Count=%{y}<br>Negative_Words=%{x}\", \"hovertext\": [\"polit\"], \"legendgroup\": \"\", \"marker\": {\"color\": \"#636efa\"}, \"name\": \"\", \"offsetgroup\": \"\", \"orientation\": \"v\", \"showlegend\": false, \"textposition\": \"auto\", \"x\": [\"polit\"], \"xaxis\": \"x\", \"y\": [94], \"yaxis\": \"y\", \"type\": \"bar\"}], \"name\": \"94\"}, {\"data\": [{\"alignmentgroup\": \"True\", \"hoverlabel\": {\"namelength\": 0}, \"hovertemplate\": \"<b>%{hovertext}</b><br><br>Negative_Count=%{y}<br>Negative_Words=%{x}\", \"hovertext\": [\"allahsoil\"], \"legendgroup\": \"\", \"marker\": {\"color\": \"#636efa\"}, \"name\": \"\", \"offsetgroup\": \"\", \"orientation\": \"v\", \"showlegend\": false, \"textposition\": \"auto\", \"x\": [\"allahsoil\"], \"xaxis\": \"x\", \"y\": [92], \"yaxis\": \"y\", \"type\": \"bar\"}], \"name\": \"92\"}, {\"data\": [{\"alignmentgroup\": \"True\", \"hoverlabel\": {\"namelength\": 0}, \"hovertemplate\": \"<b>%{hovertext}</b><br><br>Negative_Count=%{y}<br>Negative_Words=%{x}\", \"hovertext\": [\"liber\"], \"legendgroup\": \"\", \"marker\": {\"color\": \"#636efa\"}, \"name\": \"\", \"offsetgroup\": \"\", \"orientation\": \"v\", \"showlegend\": false, \"textposition\": \"auto\", \"x\": [\"liber\"], \"xaxis\": \"x\", \"y\": [79], \"yaxis\": \"y\", \"type\": \"bar\"}], \"name\": \"79\"}, {\"data\": [{\"alignmentgroup\": \"True\", \"hoverlabel\": {\"namelength\": 0}, \"hovertemplate\": \"<b>%{hovertext}</b><br><br>Negative_Count=%{y}<br>Negative_Words=%{x}\", \"hovertext\": [\"libtard\"], \"legendgroup\": \"\", \"marker\": {\"color\": \"#636efa\"}, \"name\": \"\", \"offsetgroup\": \"\", \"orientation\": \"v\", \"showlegend\": false, \"textposition\": \"auto\", \"x\": [\"libtard\"], \"xaxis\": \"x\", \"y\": [77], \"yaxis\": \"y\", \"type\": \"bar\"}], \"name\": \"77\"}, {\"data\": [{\"alignmentgroup\": \"True\", \"hoverlabel\": {\"namelength\": 0}, \"hovertemplate\": \"<b>%{hovertext}</b><br><br>Negative_Count=%{y}<br>Negative_Words=%{x}\", \"hovertext\": [\"sjw\"], \"legendgroup\": \"\", \"marker\": {\"color\": \"#636efa\"}, \"name\": \"\", \"offsetgroup\": \"\", \"orientation\": \"v\", \"showlegend\": false, \"textposition\": \"auto\", \"x\": [\"sjw\"], \"xaxis\": \"x\", \"y\": [75], \"yaxis\": \"y\", \"type\": \"bar\"}], \"name\": \"75\"}, {\"data\": [{\"alignmentgroup\": \"True\", \"hoverlabel\": {\"namelength\": 0}, \"hovertemplate\": \"<b>%{hovertext}</b><br><br>Negative_Count=%{y}<br>Negative_Words=%{x}\", \"hovertext\": [\"retweet\"], \"legendgroup\": \"\", \"marker\": {\"color\": \"#636efa\"}, \"name\": \"\", \"offsetgroup\": \"\", \"orientation\": \"v\", \"showlegend\": false, \"textposition\": \"auto\", \"x\": [\"retweet\"], \"xaxis\": \"x\", \"y\": [57], \"yaxis\": \"y\", \"type\": \"bar\"}], \"name\": \"57\"}, {\"data\": [{\"alignmentgroup\": \"True\", \"hoverlabel\": {\"namelength\": 0}, \"hovertemplate\": \"<b>%{hovertext}</b><br><br>Negative_Count=%{y}<br>Negative_Words=%{x}\", \"hovertext\": [\"black\"], \"legendgroup\": \"\", \"marker\": {\"color\": \"#636efa\"}, \"name\": \"\", \"offsetgroup\": \"\", \"orientation\": \"v\", \"showlegend\": false, \"textposition\": \"auto\", \"x\": [\"black\"], \"xaxis\": \"x\", \"y\": [46], \"yaxis\": \"y\", \"type\": \"bar\"}], \"name\": \"46\"}, {\"data\": [{\"alignmentgroup\": \"True\", \"hoverlabel\": {\"namelength\": 0}, \"hovertemplate\": \"<b>%{hovertext}</b><br><br>Negative_Count=%{y}<br>Negative_Words=%{x}\", \"hovertext\": [\"miami\\u00e2\"], \"legendgroup\": \"\", \"marker\": {\"color\": \"#636efa\"}, \"name\": \"\", \"offsetgroup\": \"\", \"orientation\": \"v\", \"showlegend\": false, \"textposition\": \"auto\", \"x\": [\"miami\\u00e2\"], \"xaxis\": \"x\", \"y\": [38], \"yaxis\": \"y\", \"type\": \"bar\"}], \"name\": \"38\"}, {\"data\": [{\"alignmentgroup\": \"True\", \"hoverlabel\": {\"namelength\": 0}, \"hovertemplate\": \"<b>%{hovertext}</b><br><br>Negative_Count=%{y}<br>Negative_Words=%{x}\", \"hovertext\": [\"hate\"], \"legendgroup\": \"\", \"marker\": {\"color\": \"#636efa\"}, \"name\": \"\", \"offsetgroup\": \"\", \"orientation\": \"v\", \"showlegend\": false, \"textposition\": \"auto\", \"x\": [\"hate\"], \"xaxis\": \"x\", \"y\": [36], \"yaxis\": \"y\", \"type\": \"bar\"}], \"name\": \"36\"}, {\"data\": [{\"alignmentgroup\": \"True\", \"hoverlabel\": {\"namelength\": 0}, \"hovertemplate\": \"<b>%{hovertext}</b><br><br>Negative_Count=%{y}<br>Negative_Words=%{x}\", \"hovertext\": [\"bigot\"], \"legendgroup\": \"\", \"marker\": {\"color\": \"#636efa\"}, \"name\": \"\", \"offsetgroup\": \"\", \"orientation\": \"v\", \"showlegend\": false, \"textposition\": \"auto\", \"x\": [\"bigot\"], \"xaxis\": \"x\", \"y\": [35], \"yaxis\": \"y\", \"type\": \"bar\"}], \"name\": \"35\"}, {\"data\": [{\"alignmentgroup\": \"True\", \"hoverlabel\": {\"namelength\": 0}, \"hovertemplate\": \"<b>%{hovertext}</b><br><br>Negative_Count=%{y}<br>Negative_Words=%{x}\", \"hovertext\": [\"tampa\"], \"legendgroup\": \"\", \"marker\": {\"color\": \"#636efa\"}, \"name\": \"\", \"offsetgroup\": \"\", \"orientation\": \"v\", \"showlegend\": false, \"textposition\": \"auto\", \"x\": [\"tampa\"], \"xaxis\": \"x\", \"y\": [32], \"yaxis\": \"y\", \"type\": \"bar\"}], \"name\": \"32\"}, {\"data\": [{\"alignmentgroup\": \"True\", \"hoverlabel\": {\"namelength\": 0}, \"hovertemplate\": \"<b>%{hovertext}</b><br><br>Negative_Count=%{y}<br>Negative_Words=%{x}\", \"hovertext\": [\"obama\"], \"legendgroup\": \"\", \"marker\": {\"color\": \"#636efa\"}, \"name\": \"\", \"offsetgroup\": \"\", \"orientation\": \"v\", \"showlegend\": false, \"textposition\": \"auto\", \"x\": [\"obama\"], \"xaxis\": \"x\", \"y\": [31], \"yaxis\": \"y\", \"type\": \"bar\"}], \"name\": \"31\"}, {\"data\": [{\"alignmentgroup\": \"True\", \"hoverlabel\": {\"namelength\": 0}, \"hovertemplate\": \"<b>%{hovertext}</b><br><br>Negative_Count=%{y}<br>Negative_Words=%{x}\", \"hovertext\": [\"blm\", \"hispan\"], \"legendgroup\": \"\", \"marker\": {\"color\": \"#636efa\"}, \"name\": \"\", \"offsetgroup\": \"\", \"orientation\": \"v\", \"showlegend\": false, \"textposition\": \"auto\", \"x\": [\"blm\", \"hispan\"], \"xaxis\": \"x\", \"y\": [28, 28], \"yaxis\": \"y\", \"type\": \"bar\"}], \"name\": \"28\"}, {\"data\": [{\"alignmentgroup\": \"True\", \"hoverlabel\": {\"namelength\": 0}, \"hovertemplate\": \"<b>%{hovertext}</b><br><br>Negative_Count=%{y}<br>Negative_Words=%{x}\", \"hovertext\": [\"brexit\", \"sikh\"], \"legendgroup\": \"\", \"marker\": {\"color\": \"#636efa\"}, \"name\": \"\", \"offsetgroup\": \"\", \"orientation\": \"v\", \"showlegend\": false, \"textposition\": \"auto\", \"x\": [\"brexit\", \"sikh\"], \"xaxis\": \"x\", \"y\": [27, 27], \"yaxis\": \"y\", \"type\": \"bar\"}], \"name\": \"27\"}, {\"data\": [{\"alignmentgroup\": \"True\", \"hoverlabel\": {\"namelength\": 0}, \"hovertemplate\": \"<b>%{hovertext}</b><br><br>Negative_Count=%{y}<br>Negative_Words=%{x}\", \"hovertext\": [\"templ\", \"calgary\", \"wso\"], \"legendgroup\": \"\", \"marker\": {\"color\": \"#636efa\"}, \"name\": \"\", \"offsetgroup\": \"\", \"orientation\": \"v\", \"showlegend\": false, \"textposition\": \"auto\", \"x\": [\"templ\", \"calgary\", \"wso\"], \"xaxis\": \"x\", \"y\": [26, 26, 26], \"yaxis\": \"y\", \"type\": \"bar\"}], \"name\": \"26\"}]);\n",
              "                        }).then(function(){\n",
              "                            \n",
              "var gd = document.getElementById('13c2e65e-9c24-44df-bdfa-3638f5d2bf9a');\n",
              "var x = new MutationObserver(function (mutations, observer) {{\n",
              "        var display = window.getComputedStyle(gd).display;\n",
              "        if (!display || display === 'none') {{\n",
              "            console.log([gd, 'removed!']);\n",
              "            Plotly.purge(gd);\n",
              "            observer.disconnect();\n",
              "        }}\n",
              "}});\n",
              "\n",
              "// Listen for the removal of the full notebook cells\n",
              "var notebookContainer = gd.closest('#notebook-container');\n",
              "if (notebookContainer) {{\n",
              "    x.observe(notebookContainer, {childList: true});\n",
              "}}\n",
              "\n",
              "// Listen for the clearing of the current output cell\n",
              "var outputEl = gd.closest('.output');\n",
              "if (outputEl) {{\n",
              "    x.observe(outputEl, {childList: true});\n",
              "}}\n",
              "\n",
              "                        })\n",
              "                };\n",
              "                \n",
              "            </script>\n",
              "        </div>\n",
              "</body>\n",
              "</html>"
            ]
          },
          "metadata": {
            "tags": []
          }
        }
      ]
    },
    {
      "cell_type": "code",
      "metadata": {
        "colab": {
          "base_uri": "https://localhost:8080/",
          "height": 542
        },
        "id": "kFdf21Kc27a8",
        "outputId": "00483a77-1c8a-4dac-d23a-12e64d78ca2b"
      },
      "source": [
        "#Normal histogram of positive words\r\n",
        "fig = px.bar(z, x=\"Positive_Words\", y=\"Positive_Count\",\r\n",
        "            hover_name=\"Positive_Words\",color = 'Positive_Count')\r\n",
        "fig.show()"
      ],
      "execution_count": 210,
      "outputs": [
        {
          "output_type": "display_data",
          "data": {
            "text/html": [
              "<html>\n",
              "<head><meta charset=\"utf-8\" /></head>\n",
              "<body>\n",
              "    <div>\n",
              "            <script src=\"https://cdnjs.cloudflare.com/ajax/libs/mathjax/2.7.5/MathJax.js?config=TeX-AMS-MML_SVG\"></script><script type=\"text/javascript\">if (window.MathJax) {MathJax.Hub.Config({SVG: {font: \"STIX-Web\"}});}</script>\n",
              "                <script type=\"text/javascript\">window.PlotlyConfig = {MathJaxConfig: 'local'};</script>\n",
              "        <script src=\"https://cdn.plot.ly/plotly-latest.min.js\"></script>    \n",
              "            <div id=\"e0937434-9d49-4248-96f7-6a3837a90b95\" class=\"plotly-graph-div\" style=\"height:525px; width:100%;\"></div>\n",
              "            <script type=\"text/javascript\">\n",
              "                \n",
              "                    window.PLOTLYENV=window.PLOTLYENV || {};\n",
              "                    \n",
              "                if (document.getElementById(\"e0937434-9d49-4248-96f7-6a3837a90b95\")) {\n",
              "                    Plotly.newPlot(\n",
              "                        'e0937434-9d49-4248-96f7-6a3837a90b95',\n",
              "                        [{\"alignmentgroup\": \"True\", \"hoverlabel\": {\"namelength\": 0}, \"hovertemplate\": \"<b>%{hovertext}</b><br><br>Positive_Words=%{x}<br>Positive_Count=%{marker.color}\", \"hovertext\": [\"love\", \"posit\", \"smile\", \"healthi\", \"thank\", \"fun\", \"affirm\", \"life\", \"model\", \"summer\", \"cute\", \"blog\", \"i_am\", \"beauti\", \"fathersday\", \"me\", \"happi\", \"friend\", \"silver\", \"gold\"], \"legendgroup\": \"\", \"marker\": {\"color\": [1576, 905, 636, 558, 526, 434, 422, 399, 374, 362, 356, 355, 352, 347, 332, 331, 328, 319, 299, 298], \"coloraxis\": \"coloraxis\"}, \"name\": \"\", \"offsetgroup\": \"\", \"orientation\": \"v\", \"showlegend\": false, \"textposition\": \"auto\", \"type\": \"bar\", \"x\": [\"love\", \"posit\", \"smile\", \"healthi\", \"thank\", \"fun\", \"affirm\", \"life\", \"model\", \"summer\", \"cute\", \"blog\", \"i_am\", \"beauti\", \"fathersday\", \"me\", \"happi\", \"friend\", \"silver\", \"gold\"], \"xaxis\": \"x\", \"y\": [1576, 905, 636, 558, 526, 434, 422, 399, 374, 362, 356, 355, 352, 347, 332, 331, 328, 319, 299, 298], \"yaxis\": \"y\"}],\n",
              "                        {\"barmode\": \"relative\", \"coloraxis\": {\"colorbar\": {\"title\": {\"text\": \"Positive_Count\"}}, \"colorscale\": [[0.0, \"#0d0887\"], [0.1111111111111111, \"#46039f\"], [0.2222222222222222, \"#7201a8\"], [0.3333333333333333, \"#9c179e\"], [0.4444444444444444, \"#bd3786\"], [0.5555555555555556, \"#d8576b\"], [0.6666666666666666, \"#ed7953\"], [0.7777777777777778, \"#fb9f3a\"], [0.8888888888888888, \"#fdca26\"], [1.0, \"#f0f921\"]]}, \"legend\": {\"tracegroupgap\": 0}, \"margin\": {\"t\": 60}, \"template\": {\"data\": {\"bar\": [{\"error_x\": {\"color\": \"#2a3f5f\"}, \"error_y\": {\"color\": \"#2a3f5f\"}, \"marker\": {\"line\": {\"color\": \"#E5ECF6\", \"width\": 0.5}}, \"type\": \"bar\"}], \"barpolar\": [{\"marker\": {\"line\": {\"color\": \"#E5ECF6\", \"width\": 0.5}}, \"type\": \"barpolar\"}], \"carpet\": [{\"aaxis\": {\"endlinecolor\": \"#2a3f5f\", \"gridcolor\": \"white\", \"linecolor\": \"white\", \"minorgridcolor\": \"white\", \"startlinecolor\": \"#2a3f5f\"}, \"baxis\": {\"endlinecolor\": \"#2a3f5f\", \"gridcolor\": \"white\", \"linecolor\": \"white\", \"minorgridcolor\": \"white\", \"startlinecolor\": \"#2a3f5f\"}, \"type\": \"carpet\"}], \"choropleth\": [{\"colorbar\": {\"outlinewidth\": 0, \"ticks\": \"\"}, \"type\": \"choropleth\"}], \"contour\": [{\"colorbar\": {\"outlinewidth\": 0, \"ticks\": \"\"}, \"colorscale\": [[0.0, \"#0d0887\"], [0.1111111111111111, \"#46039f\"], [0.2222222222222222, \"#7201a8\"], [0.3333333333333333, \"#9c179e\"], [0.4444444444444444, \"#bd3786\"], [0.5555555555555556, \"#d8576b\"], [0.6666666666666666, \"#ed7953\"], [0.7777777777777778, \"#fb9f3a\"], [0.8888888888888888, \"#fdca26\"], [1.0, \"#f0f921\"]], \"type\": \"contour\"}], \"contourcarpet\": [{\"colorbar\": {\"outlinewidth\": 0, \"ticks\": \"\"}, \"type\": \"contourcarpet\"}], \"heatmap\": [{\"colorbar\": {\"outlinewidth\": 0, \"ticks\": \"\"}, \"colorscale\": [[0.0, \"#0d0887\"], [0.1111111111111111, \"#46039f\"], [0.2222222222222222, \"#7201a8\"], [0.3333333333333333, \"#9c179e\"], [0.4444444444444444, \"#bd3786\"], [0.5555555555555556, \"#d8576b\"], [0.6666666666666666, \"#ed7953\"], [0.7777777777777778, \"#fb9f3a\"], [0.8888888888888888, \"#fdca26\"], [1.0, \"#f0f921\"]], \"type\": \"heatmap\"}], \"heatmapgl\": [{\"colorbar\": {\"outlinewidth\": 0, \"ticks\": \"\"}, \"colorscale\": [[0.0, \"#0d0887\"], [0.1111111111111111, \"#46039f\"], [0.2222222222222222, \"#7201a8\"], [0.3333333333333333, \"#9c179e\"], [0.4444444444444444, \"#bd3786\"], [0.5555555555555556, \"#d8576b\"], [0.6666666666666666, \"#ed7953\"], [0.7777777777777778, \"#fb9f3a\"], [0.8888888888888888, \"#fdca26\"], [1.0, \"#f0f921\"]], \"type\": \"heatmapgl\"}], \"histogram\": [{\"marker\": {\"colorbar\": {\"outlinewidth\": 0, \"ticks\": \"\"}}, \"type\": \"histogram\"}], \"histogram2d\": [{\"colorbar\": {\"outlinewidth\": 0, \"ticks\": \"\"}, \"colorscale\": [[0.0, \"#0d0887\"], [0.1111111111111111, \"#46039f\"], [0.2222222222222222, \"#7201a8\"], [0.3333333333333333, \"#9c179e\"], [0.4444444444444444, \"#bd3786\"], [0.5555555555555556, \"#d8576b\"], [0.6666666666666666, \"#ed7953\"], [0.7777777777777778, \"#fb9f3a\"], [0.8888888888888888, \"#fdca26\"], [1.0, \"#f0f921\"]], \"type\": \"histogram2d\"}], \"histogram2dcontour\": [{\"colorbar\": {\"outlinewidth\": 0, \"ticks\": \"\"}, \"colorscale\": [[0.0, \"#0d0887\"], [0.1111111111111111, \"#46039f\"], [0.2222222222222222, \"#7201a8\"], [0.3333333333333333, \"#9c179e\"], [0.4444444444444444, \"#bd3786\"], [0.5555555555555556, \"#d8576b\"], [0.6666666666666666, \"#ed7953\"], [0.7777777777777778, \"#fb9f3a\"], [0.8888888888888888, \"#fdca26\"], [1.0, \"#f0f921\"]], \"type\": \"histogram2dcontour\"}], \"mesh3d\": [{\"colorbar\": {\"outlinewidth\": 0, \"ticks\": \"\"}, \"type\": \"mesh3d\"}], \"parcoords\": [{\"line\": {\"colorbar\": {\"outlinewidth\": 0, \"ticks\": \"\"}}, \"type\": \"parcoords\"}], \"pie\": [{\"automargin\": true, \"type\": \"pie\"}], \"scatter\": [{\"marker\": {\"colorbar\": {\"outlinewidth\": 0, \"ticks\": \"\"}}, \"type\": \"scatter\"}], \"scatter3d\": [{\"line\": {\"colorbar\": {\"outlinewidth\": 0, \"ticks\": \"\"}}, \"marker\": {\"colorbar\": {\"outlinewidth\": 0, \"ticks\": \"\"}}, \"type\": \"scatter3d\"}], \"scattercarpet\": [{\"marker\": {\"colorbar\": {\"outlinewidth\": 0, \"ticks\": \"\"}}, \"type\": \"scattercarpet\"}], \"scattergeo\": [{\"marker\": {\"colorbar\": {\"outlinewidth\": 0, \"ticks\": \"\"}}, \"type\": \"scattergeo\"}], \"scattergl\": [{\"marker\": {\"colorbar\": {\"outlinewidth\": 0, \"ticks\": \"\"}}, \"type\": \"scattergl\"}], \"scattermapbox\": [{\"marker\": {\"colorbar\": {\"outlinewidth\": 0, \"ticks\": \"\"}}, \"type\": \"scattermapbox\"}], \"scatterpolar\": [{\"marker\": {\"colorbar\": {\"outlinewidth\": 0, \"ticks\": \"\"}}, \"type\": \"scatterpolar\"}], \"scatterpolargl\": [{\"marker\": {\"colorbar\": {\"outlinewidth\": 0, \"ticks\": \"\"}}, \"type\": \"scatterpolargl\"}], \"scatterternary\": [{\"marker\": {\"colorbar\": {\"outlinewidth\": 0, \"ticks\": \"\"}}, \"type\": \"scatterternary\"}], \"surface\": [{\"colorbar\": {\"outlinewidth\": 0, \"ticks\": \"\"}, \"colorscale\": [[0.0, \"#0d0887\"], [0.1111111111111111, \"#46039f\"], [0.2222222222222222, \"#7201a8\"], [0.3333333333333333, \"#9c179e\"], [0.4444444444444444, \"#bd3786\"], [0.5555555555555556, \"#d8576b\"], [0.6666666666666666, \"#ed7953\"], [0.7777777777777778, \"#fb9f3a\"], [0.8888888888888888, \"#fdca26\"], [1.0, \"#f0f921\"]], \"type\": \"surface\"}], \"table\": [{\"cells\": {\"fill\": {\"color\": \"#EBF0F8\"}, \"line\": {\"color\": \"white\"}}, \"header\": {\"fill\": {\"color\": \"#C8D4E3\"}, \"line\": {\"color\": \"white\"}}, \"type\": \"table\"}]}, \"layout\": {\"annotationdefaults\": {\"arrowcolor\": \"#2a3f5f\", \"arrowhead\": 0, \"arrowwidth\": 1}, \"coloraxis\": {\"colorbar\": {\"outlinewidth\": 0, \"ticks\": \"\"}}, \"colorscale\": {\"diverging\": [[0, \"#8e0152\"], [0.1, \"#c51b7d\"], [0.2, \"#de77ae\"], [0.3, \"#f1b6da\"], [0.4, \"#fde0ef\"], [0.5, \"#f7f7f7\"], [0.6, \"#e6f5d0\"], [0.7, \"#b8e186\"], [0.8, \"#7fbc41\"], [0.9, \"#4d9221\"], [1, \"#276419\"]], \"sequential\": [[0.0, \"#0d0887\"], [0.1111111111111111, \"#46039f\"], [0.2222222222222222, \"#7201a8\"], [0.3333333333333333, \"#9c179e\"], [0.4444444444444444, \"#bd3786\"], [0.5555555555555556, \"#d8576b\"], [0.6666666666666666, \"#ed7953\"], [0.7777777777777778, \"#fb9f3a\"], [0.8888888888888888, \"#fdca26\"], [1.0, \"#f0f921\"]], \"sequentialminus\": [[0.0, \"#0d0887\"], [0.1111111111111111, \"#46039f\"], [0.2222222222222222, \"#7201a8\"], [0.3333333333333333, \"#9c179e\"], [0.4444444444444444, \"#bd3786\"], [0.5555555555555556, \"#d8576b\"], [0.6666666666666666, \"#ed7953\"], [0.7777777777777778, \"#fb9f3a\"], [0.8888888888888888, \"#fdca26\"], [1.0, \"#f0f921\"]]}, \"colorway\": [\"#636efa\", \"#EF553B\", \"#00cc96\", \"#ab63fa\", \"#FFA15A\", \"#19d3f3\", \"#FF6692\", \"#B6E880\", \"#FF97FF\", \"#FECB52\"], \"font\": {\"color\": \"#2a3f5f\"}, \"geo\": {\"bgcolor\": \"white\", \"lakecolor\": \"white\", \"landcolor\": \"#E5ECF6\", \"showlakes\": true, \"showland\": true, \"subunitcolor\": \"white\"}, \"hoverlabel\": {\"align\": \"left\"}, \"hovermode\": \"closest\", \"mapbox\": {\"style\": \"light\"}, \"paper_bgcolor\": \"white\", \"plot_bgcolor\": \"#E5ECF6\", \"polar\": {\"angularaxis\": {\"gridcolor\": \"white\", \"linecolor\": \"white\", \"ticks\": \"\"}, \"bgcolor\": \"#E5ECF6\", \"radialaxis\": {\"gridcolor\": \"white\", \"linecolor\": \"white\", \"ticks\": \"\"}}, \"scene\": {\"xaxis\": {\"backgroundcolor\": \"#E5ECF6\", \"gridcolor\": \"white\", \"gridwidth\": 2, \"linecolor\": \"white\", \"showbackground\": true, \"ticks\": \"\", \"zerolinecolor\": \"white\"}, \"yaxis\": {\"backgroundcolor\": \"#E5ECF6\", \"gridcolor\": \"white\", \"gridwidth\": 2, \"linecolor\": \"white\", \"showbackground\": true, \"ticks\": \"\", \"zerolinecolor\": \"white\"}, \"zaxis\": {\"backgroundcolor\": \"#E5ECF6\", \"gridcolor\": \"white\", \"gridwidth\": 2, \"linecolor\": \"white\", \"showbackground\": true, \"ticks\": \"\", \"zerolinecolor\": \"white\"}}, \"shapedefaults\": {\"line\": {\"color\": \"#2a3f5f\"}}, \"ternary\": {\"aaxis\": {\"gridcolor\": \"white\", \"linecolor\": \"white\", \"ticks\": \"\"}, \"baxis\": {\"gridcolor\": \"white\", \"linecolor\": \"white\", \"ticks\": \"\"}, \"bgcolor\": \"#E5ECF6\", \"caxis\": {\"gridcolor\": \"white\", \"linecolor\": \"white\", \"ticks\": \"\"}}, \"title\": {\"x\": 0.05}, \"xaxis\": {\"automargin\": true, \"gridcolor\": \"white\", \"linecolor\": \"white\", \"ticks\": \"\", \"title\": {\"standoff\": 15}, \"zerolinecolor\": \"white\", \"zerolinewidth\": 2}, \"yaxis\": {\"automargin\": true, \"gridcolor\": \"white\", \"linecolor\": \"white\", \"ticks\": \"\", \"title\": {\"standoff\": 15}, \"zerolinecolor\": \"white\", \"zerolinewidth\": 2}}}, \"xaxis\": {\"anchor\": \"y\", \"domain\": [0.0, 1.0], \"title\": {\"text\": \"Positive_Words\"}}, \"yaxis\": {\"anchor\": \"x\", \"domain\": [0.0, 1.0], \"title\": {\"text\": \"Positive_Count\"}}},\n",
              "                        {\"responsive\": true}\n",
              "                    ).then(function(){\n",
              "                            \n",
              "var gd = document.getElementById('e0937434-9d49-4248-96f7-6a3837a90b95');\n",
              "var x = new MutationObserver(function (mutations, observer) {{\n",
              "        var display = window.getComputedStyle(gd).display;\n",
              "        if (!display || display === 'none') {{\n",
              "            console.log([gd, 'removed!']);\n",
              "            Plotly.purge(gd);\n",
              "            observer.disconnect();\n",
              "        }}\n",
              "}});\n",
              "\n",
              "// Listen for the removal of the full notebook cells\n",
              "var notebookContainer = gd.closest('#notebook-container');\n",
              "if (notebookContainer) {{\n",
              "    x.observe(notebookContainer, {childList: true});\n",
              "}}\n",
              "\n",
              "// Listen for the clearing of the current output cell\n",
              "var outputEl = gd.closest('.output');\n",
              "if (outputEl) {{\n",
              "    x.observe(outputEl, {childList: true});\n",
              "}}\n",
              "\n",
              "                        })\n",
              "                };\n",
              "                \n",
              "            </script>\n",
              "        </div>\n",
              "</body>\n",
              "</html>"
            ]
          },
          "metadata": {
            "tags": []
          }
        }
      ]
    },
    {
      "cell_type": "code",
      "metadata": {
        "colab": {
          "base_uri": "https://localhost:8080/",
          "height": 542
        },
        "id": "dAgxPcZN3lZF",
        "outputId": "0fcbb6ff-d51c-4add-ea25-b46910497293"
      },
      "source": [
        "#Normal histogram of negative words\r\n",
        "fig = px.bar(z, x=\"Negative_Words\", y=\"Negative_Count\",\r\n",
        "            hover_name=\"Negative_Words\",color= 'Negative_Count')\r\n",
        "fig.show()"
      ],
      "execution_count": 211,
      "outputs": [
        {
          "output_type": "display_data",
          "data": {
            "text/html": [
              "<html>\n",
              "<head><meta charset=\"utf-8\" /></head>\n",
              "<body>\n",
              "    <div>\n",
              "            <script src=\"https://cdnjs.cloudflare.com/ajax/libs/mathjax/2.7.5/MathJax.js?config=TeX-AMS-MML_SVG\"></script><script type=\"text/javascript\">if (window.MathJax) {MathJax.Hub.Config({SVG: {font: \"STIX-Web\"}});}</script>\n",
              "                <script type=\"text/javascript\">window.PlotlyConfig = {MathJaxConfig: 'local'};</script>\n",
              "        <script src=\"https://cdn.plot.ly/plotly-latest.min.js\"></script>    \n",
              "            <div id=\"29869abe-dca6-4ed3-8eb1-3d2d5a35f8b6\" class=\"plotly-graph-div\" style=\"height:525px; width:100%;\"></div>\n",
              "            <script type=\"text/javascript\">\n",
              "                \n",
              "                    window.PLOTLYENV=window.PLOTLYENV || {};\n",
              "                    \n",
              "                if (document.getElementById(\"29869abe-dca6-4ed3-8eb1-3d2d5a35f8b6\")) {\n",
              "                    Plotly.newPlot(\n",
              "                        '29869abe-dca6-4ed3-8eb1-3d2d5a35f8b6',\n",
              "                        [{\"alignmentgroup\": \"True\", \"hoverlabel\": {\"namelength\": 0}, \"hovertemplate\": \"<b>%{hovertext}</b><br><br>Negative_Words=%{x}<br>Negative_Count=%{marker.color}\", \"hovertext\": [\"trump\", \"polit\", \"allahsoil\", \"liber\", \"libtard\", \"sjw\", \"retweet\", \"black\", \"miami\\u00e2\", \"hate\", \"bigot\", \"tampa\", \"obama\", \"blm\", \"hispan\", \"brexit\", \"sikh\", \"templ\", \"calgary\", \"wso\"], \"legendgroup\": \"\", \"marker\": {\"color\": [133, 94, 92, 79, 77, 75, 57, 46, 38, 36, 35, 32, 31, 28, 28, 27, 27, 26, 26, 26], \"coloraxis\": \"coloraxis\"}, \"name\": \"\", \"offsetgroup\": \"\", \"orientation\": \"v\", \"showlegend\": false, \"textposition\": \"auto\", \"type\": \"bar\", \"x\": [\"trump\", \"polit\", \"allahsoil\", \"liber\", \"libtard\", \"sjw\", \"retweet\", \"black\", \"miami\\u00e2\", \"hate\", \"bigot\", \"tampa\", \"obama\", \"blm\", \"hispan\", \"brexit\", \"sikh\", \"templ\", \"calgary\", \"wso\"], \"xaxis\": \"x\", \"y\": [133, 94, 92, 79, 77, 75, 57, 46, 38, 36, 35, 32, 31, 28, 28, 27, 27, 26, 26, 26], \"yaxis\": \"y\"}],\n",
              "                        {\"barmode\": \"relative\", \"coloraxis\": {\"colorbar\": {\"title\": {\"text\": \"Negative_Count\"}}, \"colorscale\": [[0.0, \"#0d0887\"], [0.1111111111111111, \"#46039f\"], [0.2222222222222222, \"#7201a8\"], [0.3333333333333333, \"#9c179e\"], [0.4444444444444444, \"#bd3786\"], [0.5555555555555556, \"#d8576b\"], [0.6666666666666666, \"#ed7953\"], [0.7777777777777778, \"#fb9f3a\"], [0.8888888888888888, \"#fdca26\"], [1.0, \"#f0f921\"]]}, \"legend\": {\"tracegroupgap\": 0}, \"margin\": {\"t\": 60}, \"template\": {\"data\": {\"bar\": [{\"error_x\": {\"color\": \"#2a3f5f\"}, \"error_y\": {\"color\": \"#2a3f5f\"}, \"marker\": {\"line\": {\"color\": \"#E5ECF6\", \"width\": 0.5}}, \"type\": \"bar\"}], \"barpolar\": [{\"marker\": {\"line\": {\"color\": \"#E5ECF6\", \"width\": 0.5}}, \"type\": \"barpolar\"}], \"carpet\": [{\"aaxis\": {\"endlinecolor\": \"#2a3f5f\", \"gridcolor\": \"white\", \"linecolor\": \"white\", \"minorgridcolor\": \"white\", \"startlinecolor\": \"#2a3f5f\"}, \"baxis\": {\"endlinecolor\": \"#2a3f5f\", \"gridcolor\": \"white\", \"linecolor\": \"white\", \"minorgridcolor\": \"white\", \"startlinecolor\": \"#2a3f5f\"}, \"type\": \"carpet\"}], \"choropleth\": [{\"colorbar\": {\"outlinewidth\": 0, \"ticks\": \"\"}, \"type\": \"choropleth\"}], \"contour\": [{\"colorbar\": {\"outlinewidth\": 0, \"ticks\": \"\"}, \"colorscale\": [[0.0, \"#0d0887\"], [0.1111111111111111, \"#46039f\"], [0.2222222222222222, \"#7201a8\"], [0.3333333333333333, \"#9c179e\"], [0.4444444444444444, \"#bd3786\"], [0.5555555555555556, \"#d8576b\"], [0.6666666666666666, \"#ed7953\"], [0.7777777777777778, \"#fb9f3a\"], [0.8888888888888888, \"#fdca26\"], [1.0, \"#f0f921\"]], \"type\": \"contour\"}], \"contourcarpet\": [{\"colorbar\": {\"outlinewidth\": 0, \"ticks\": \"\"}, \"type\": \"contourcarpet\"}], \"heatmap\": [{\"colorbar\": {\"outlinewidth\": 0, \"ticks\": \"\"}, \"colorscale\": [[0.0, \"#0d0887\"], [0.1111111111111111, \"#46039f\"], [0.2222222222222222, \"#7201a8\"], [0.3333333333333333, \"#9c179e\"], [0.4444444444444444, \"#bd3786\"], [0.5555555555555556, \"#d8576b\"], [0.6666666666666666, \"#ed7953\"], [0.7777777777777778, \"#fb9f3a\"], [0.8888888888888888, \"#fdca26\"], [1.0, \"#f0f921\"]], \"type\": \"heatmap\"}], \"heatmapgl\": [{\"colorbar\": {\"outlinewidth\": 0, \"ticks\": \"\"}, \"colorscale\": [[0.0, \"#0d0887\"], [0.1111111111111111, \"#46039f\"], [0.2222222222222222, \"#7201a8\"], [0.3333333333333333, \"#9c179e\"], [0.4444444444444444, \"#bd3786\"], [0.5555555555555556, \"#d8576b\"], [0.6666666666666666, \"#ed7953\"], [0.7777777777777778, \"#fb9f3a\"], [0.8888888888888888, \"#fdca26\"], [1.0, \"#f0f921\"]], \"type\": \"heatmapgl\"}], \"histogram\": [{\"marker\": {\"colorbar\": {\"outlinewidth\": 0, \"ticks\": \"\"}}, \"type\": \"histogram\"}], \"histogram2d\": [{\"colorbar\": {\"outlinewidth\": 0, \"ticks\": \"\"}, \"colorscale\": [[0.0, \"#0d0887\"], [0.1111111111111111, \"#46039f\"], [0.2222222222222222, \"#7201a8\"], [0.3333333333333333, \"#9c179e\"], [0.4444444444444444, \"#bd3786\"], [0.5555555555555556, \"#d8576b\"], [0.6666666666666666, \"#ed7953\"], [0.7777777777777778, \"#fb9f3a\"], [0.8888888888888888, \"#fdca26\"], [1.0, \"#f0f921\"]], \"type\": \"histogram2d\"}], \"histogram2dcontour\": [{\"colorbar\": {\"outlinewidth\": 0, \"ticks\": \"\"}, \"colorscale\": [[0.0, \"#0d0887\"], [0.1111111111111111, \"#46039f\"], [0.2222222222222222, \"#7201a8\"], [0.3333333333333333, \"#9c179e\"], [0.4444444444444444, \"#bd3786\"], [0.5555555555555556, \"#d8576b\"], [0.6666666666666666, \"#ed7953\"], [0.7777777777777778, \"#fb9f3a\"], [0.8888888888888888, \"#fdca26\"], [1.0, \"#f0f921\"]], \"type\": \"histogram2dcontour\"}], \"mesh3d\": [{\"colorbar\": {\"outlinewidth\": 0, \"ticks\": \"\"}, \"type\": \"mesh3d\"}], \"parcoords\": [{\"line\": {\"colorbar\": {\"outlinewidth\": 0, \"ticks\": \"\"}}, \"type\": \"parcoords\"}], \"pie\": [{\"automargin\": true, \"type\": \"pie\"}], \"scatter\": [{\"marker\": {\"colorbar\": {\"outlinewidth\": 0, \"ticks\": \"\"}}, \"type\": \"scatter\"}], \"scatter3d\": [{\"line\": {\"colorbar\": {\"outlinewidth\": 0, \"ticks\": \"\"}}, \"marker\": {\"colorbar\": {\"outlinewidth\": 0, \"ticks\": \"\"}}, \"type\": \"scatter3d\"}], \"scattercarpet\": [{\"marker\": {\"colorbar\": {\"outlinewidth\": 0, \"ticks\": \"\"}}, \"type\": \"scattercarpet\"}], \"scattergeo\": [{\"marker\": {\"colorbar\": {\"outlinewidth\": 0, \"ticks\": \"\"}}, \"type\": \"scattergeo\"}], \"scattergl\": [{\"marker\": {\"colorbar\": {\"outlinewidth\": 0, \"ticks\": \"\"}}, \"type\": \"scattergl\"}], \"scattermapbox\": [{\"marker\": {\"colorbar\": {\"outlinewidth\": 0, \"ticks\": \"\"}}, \"type\": \"scattermapbox\"}], \"scatterpolar\": [{\"marker\": {\"colorbar\": {\"outlinewidth\": 0, \"ticks\": \"\"}}, \"type\": \"scatterpolar\"}], \"scatterpolargl\": [{\"marker\": {\"colorbar\": {\"outlinewidth\": 0, \"ticks\": \"\"}}, \"type\": \"scatterpolargl\"}], \"scatterternary\": [{\"marker\": {\"colorbar\": {\"outlinewidth\": 0, \"ticks\": \"\"}}, \"type\": \"scatterternary\"}], \"surface\": [{\"colorbar\": {\"outlinewidth\": 0, \"ticks\": \"\"}, \"colorscale\": [[0.0, \"#0d0887\"], [0.1111111111111111, \"#46039f\"], [0.2222222222222222, \"#7201a8\"], [0.3333333333333333, \"#9c179e\"], [0.4444444444444444, \"#bd3786\"], [0.5555555555555556, \"#d8576b\"], [0.6666666666666666, \"#ed7953\"], [0.7777777777777778, \"#fb9f3a\"], [0.8888888888888888, \"#fdca26\"], [1.0, \"#f0f921\"]], \"type\": \"surface\"}], \"table\": [{\"cells\": {\"fill\": {\"color\": \"#EBF0F8\"}, \"line\": {\"color\": \"white\"}}, \"header\": {\"fill\": {\"color\": \"#C8D4E3\"}, \"line\": {\"color\": \"white\"}}, \"type\": \"table\"}]}, \"layout\": {\"annotationdefaults\": {\"arrowcolor\": \"#2a3f5f\", \"arrowhead\": 0, \"arrowwidth\": 1}, \"coloraxis\": {\"colorbar\": {\"outlinewidth\": 0, \"ticks\": \"\"}}, \"colorscale\": {\"diverging\": [[0, \"#8e0152\"], [0.1, \"#c51b7d\"], [0.2, \"#de77ae\"], [0.3, \"#f1b6da\"], [0.4, \"#fde0ef\"], [0.5, \"#f7f7f7\"], [0.6, \"#e6f5d0\"], [0.7, \"#b8e186\"], [0.8, \"#7fbc41\"], [0.9, \"#4d9221\"], [1, \"#276419\"]], \"sequential\": [[0.0, \"#0d0887\"], [0.1111111111111111, \"#46039f\"], [0.2222222222222222, \"#7201a8\"], [0.3333333333333333, \"#9c179e\"], [0.4444444444444444, \"#bd3786\"], [0.5555555555555556, \"#d8576b\"], [0.6666666666666666, \"#ed7953\"], [0.7777777777777778, \"#fb9f3a\"], [0.8888888888888888, \"#fdca26\"], [1.0, \"#f0f921\"]], \"sequentialminus\": [[0.0, \"#0d0887\"], [0.1111111111111111, \"#46039f\"], [0.2222222222222222, \"#7201a8\"], [0.3333333333333333, \"#9c179e\"], [0.4444444444444444, \"#bd3786\"], [0.5555555555555556, \"#d8576b\"], [0.6666666666666666, \"#ed7953\"], [0.7777777777777778, \"#fb9f3a\"], [0.8888888888888888, \"#fdca26\"], [1.0, \"#f0f921\"]]}, \"colorway\": [\"#636efa\", \"#EF553B\", \"#00cc96\", \"#ab63fa\", \"#FFA15A\", \"#19d3f3\", \"#FF6692\", \"#B6E880\", \"#FF97FF\", \"#FECB52\"], \"font\": {\"color\": \"#2a3f5f\"}, \"geo\": {\"bgcolor\": \"white\", \"lakecolor\": \"white\", \"landcolor\": \"#E5ECF6\", \"showlakes\": true, \"showland\": true, \"subunitcolor\": \"white\"}, \"hoverlabel\": {\"align\": \"left\"}, \"hovermode\": \"closest\", \"mapbox\": {\"style\": \"light\"}, \"paper_bgcolor\": \"white\", \"plot_bgcolor\": \"#E5ECF6\", \"polar\": {\"angularaxis\": {\"gridcolor\": \"white\", \"linecolor\": \"white\", \"ticks\": \"\"}, \"bgcolor\": \"#E5ECF6\", \"radialaxis\": {\"gridcolor\": \"white\", \"linecolor\": \"white\", \"ticks\": \"\"}}, \"scene\": {\"xaxis\": {\"backgroundcolor\": \"#E5ECF6\", \"gridcolor\": \"white\", \"gridwidth\": 2, \"linecolor\": \"white\", \"showbackground\": true, \"ticks\": \"\", \"zerolinecolor\": \"white\"}, \"yaxis\": {\"backgroundcolor\": \"#E5ECF6\", \"gridcolor\": \"white\", \"gridwidth\": 2, \"linecolor\": \"white\", \"showbackground\": true, \"ticks\": \"\", \"zerolinecolor\": \"white\"}, \"zaxis\": {\"backgroundcolor\": \"#E5ECF6\", \"gridcolor\": \"white\", \"gridwidth\": 2, \"linecolor\": \"white\", \"showbackground\": true, \"ticks\": \"\", \"zerolinecolor\": \"white\"}}, \"shapedefaults\": {\"line\": {\"color\": \"#2a3f5f\"}}, \"ternary\": {\"aaxis\": {\"gridcolor\": \"white\", \"linecolor\": \"white\", \"ticks\": \"\"}, \"baxis\": {\"gridcolor\": \"white\", \"linecolor\": \"white\", \"ticks\": \"\"}, \"bgcolor\": \"#E5ECF6\", \"caxis\": {\"gridcolor\": \"white\", \"linecolor\": \"white\", \"ticks\": \"\"}}, \"title\": {\"x\": 0.05}, \"xaxis\": {\"automargin\": true, \"gridcolor\": \"white\", \"linecolor\": \"white\", \"ticks\": \"\", \"title\": {\"standoff\": 15}, \"zerolinecolor\": \"white\", \"zerolinewidth\": 2}, \"yaxis\": {\"automargin\": true, \"gridcolor\": \"white\", \"linecolor\": \"white\", \"ticks\": \"\", \"title\": {\"standoff\": 15}, \"zerolinecolor\": \"white\", \"zerolinewidth\": 2}}}, \"xaxis\": {\"anchor\": \"y\", \"domain\": [0.0, 1.0], \"title\": {\"text\": \"Negative_Words\"}}, \"yaxis\": {\"anchor\": \"x\", \"domain\": [0.0, 1.0], \"title\": {\"text\": \"Negative_Count\"}}},\n",
              "                        {\"responsive\": true}\n",
              "                    ).then(function(){\n",
              "                            \n",
              "var gd = document.getElementById('29869abe-dca6-4ed3-8eb1-3d2d5a35f8b6');\n",
              "var x = new MutationObserver(function (mutations, observer) {{\n",
              "        var display = window.getComputedStyle(gd).display;\n",
              "        if (!display || display === 'none') {{\n",
              "            console.log([gd, 'removed!']);\n",
              "            Plotly.purge(gd);\n",
              "            observer.disconnect();\n",
              "        }}\n",
              "}});\n",
              "\n",
              "// Listen for the removal of the full notebook cells\n",
              "var notebookContainer = gd.closest('#notebook-container');\n",
              "if (notebookContainer) {{\n",
              "    x.observe(notebookContainer, {childList: true});\n",
              "}}\n",
              "\n",
              "// Listen for the clearing of the current output cell\n",
              "var outputEl = gd.closest('.output');\n",
              "if (outputEl) {{\n",
              "    x.observe(outputEl, {childList: true});\n",
              "}}\n",
              "\n",
              "                        })\n",
              "                };\n",
              "                \n",
              "            </script>\n",
              "        </div>\n",
              "</body>\n",
              "</html>"
            ]
          },
          "metadata": {
            "tags": []
          }
        }
      ]
    },
    {
      "cell_type": "code",
      "metadata": {
        "id": "fnr6EQ5R3lf1"
      },
      "source": [
        "\r\n",
        "#Techniques to convert the tweets into Bag-of-Words, TF-IDF, and Word Embeddings\r\n",
        "#Building various classifiers: -\r\n",
        "#TF-IDF approach\r\n",
        "from sklearn.feature_extraction.text import TfidfVectorizer\r\n",
        "tfidf_vectorizer = TfidfVectorizer(max_df=0.90, min_df=2,stop_words='english')\r\n",
        "# TF-IDF feature matrix\r\n",
        "X1 = tfidf_vectorizer.fit_transform(corpus).toarray()\r\n",
        "Y1 = df.loc[:,'label'].values"
      ],
      "execution_count": 212,
      "outputs": []
    },
    {
      "cell_type": "code",
      "metadata": {
        "id": "NMjYL6Hk3lkZ"
      },
      "source": [
        "\r\n",
        "from sklearn.model_selection import train_test_split\r\n",
        "X1_train, X1_test, Y1_train, Y1_test = train_test_split(data_frame['clean_tweet'], data_frame['label'], test_size = 0.3, random_state=0, shuffle = True, stratify=data_frame['label'])\r\n",
        "vectorizer = TfidfVectorizer()\r\n",
        "X1_train_vect = vectorizer.fit_transform(X1_train)\r\n",
        "Y1 = df.loc[:,'label'].values"
      ],
      "execution_count": 213,
      "outputs": []
    },
    {
      "cell_type": "code",
      "metadata": {
        "colab": {
          "base_uri": "https://localhost:8080/"
        },
        "id": "shJk1iCA3lmQ",
        "outputId": "175147e6-c7a0-40a5-a74b-fe9d53b1281c"
      },
      "source": [
        "\r\n",
        "#Random Forest using pipelines\r\n",
        "from sklearn.pipeline import Pipeline\r\n",
        "from sklearn.metrics import classification_report\r\n",
        "from sklearn.metrics import confusion_matrix\r\n",
        "from sklearn.ensemble import RandomForestClassifier\r\n",
        "rf = Pipeline([('tfidf', TfidfVectorizer()), ('rf', RandomForestClassifier())])\r\n",
        "rf.fit(X1_train, Y1_train)\r\n",
        "y_pred = rf.predict(X1_test)\r\n",
        "print(pd.crosstab(Y1_test,y_pred,rownames=['Actual'],colnames=['Predicted']))\r\n",
        "print(classification_report(Y1_test, y_pred))"
      ],
      "execution_count": 214,
      "outputs": [
        {
          "output_type": "stream",
          "text": [
            "Predicted     0    1\n",
            "Actual              \n",
            "0          8891   25\n",
            "1           339  334\n",
            "              precision    recall  f1-score   support\n",
            "\n",
            "           0       0.96      1.00      0.98      8916\n",
            "           1       0.93      0.50      0.65       673\n",
            "\n",
            "    accuracy                           0.96      9589\n",
            "   macro avg       0.95      0.75      0.81      9589\n",
            "weighted avg       0.96      0.96      0.96      9589\n",
            "\n"
          ],
          "name": "stdout"
        }
      ]
    },
    {
      "cell_type": "code",
      "metadata": {
        "colab": {
          "base_uri": "https://localhost:8080/"
        },
        "id": "tF-gHKJw3mII",
        "outputId": "78db3686-9510-4d26-f8c7-3deee03f4365"
      },
      "source": [
        "print(rf.predict([\"\"]))"
      ],
      "execution_count": 215,
      "outputs": [
        {
          "output_type": "stream",
          "text": [
            "[0]\n"
          ],
          "name": "stdout"
        }
      ]
    },
    {
      "cell_type": "code",
      "metadata": {
        "id": "meTFNmOX3mLJ"
      },
      "source": [
        ""
      ],
      "execution_count": 215,
      "outputs": []
    },
    {
      "cell_type": "code",
      "metadata": {
        "id": "c4rP7ZEA3mNd"
      },
      "source": [
        ""
      ],
      "execution_count": 215,
      "outputs": []
    },
    {
      "cell_type": "code",
      "metadata": {
        "id": "VRl2jkCC3mQh"
      },
      "source": [
        ""
      ],
      "execution_count": 215,
      "outputs": []
    },
    {
      "cell_type": "code",
      "metadata": {
        "id": "yiLKdonm3mS-"
      },
      "source": [
        ""
      ],
      "execution_count": 215,
      "outputs": []
    },
    {
      "cell_type": "code",
      "metadata": {
        "id": "J4s62UYe3mVr"
      },
      "source": [
        ""
      ],
      "execution_count": 215,
      "outputs": []
    }
  ]
}